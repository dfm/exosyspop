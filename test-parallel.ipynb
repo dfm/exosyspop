{
 "cells": [
  {
   "cell_type": "code",
   "execution_count": 5,
   "metadata": {
    "collapsed": true
   },
   "outputs": [],
   "source": [
    "import numpy as np\n",
    "import time\n",
    "from multiprocessing import Pool\n",
    "from multiprocessing.dummy import Pool as ThreadPool "
   ]
  },
  {
   "cell_type": "code",
   "execution_count": 41,
   "metadata": {
    "collapsed": true
   },
   "outputs": [],
   "source": [
    "def get_a_thing(seed=None):\n",
    "    \"\"\"Returns a number after a random amount of time\n",
    "    \"\"\"\n",
    "    np.random.seed()\n",
    "    t = np.random.random()*3\n",
    "    time.sleep(t)\n",
    "    return t\n",
    "\n",
    "def get_n_things(seed=None):\n",
    "    \"\"\"Returns a random number of random things\n",
    "    \"\"\"\n",
    "    n = int(np.random.random()*5)\n",
    "    return [get_a_thing() for i in range(n)]\n",
    "    \n",
    "    \n",
    "def build_list(N=6):\n",
    "    l = []\n",
    "    while len(l) < N:\n",
    "        l += (get_n_things())\n",
    "    return l[:N]"
   ]
  },
  {
   "cell_type": "code",
   "execution_count": 42,
   "metadata": {
    "collapsed": false
   },
   "outputs": [
    {
     "data": {
      "text/plain": [
       "[0.9874982012683066,\n",
       " 0.6401483589072391,\n",
       " 0.3996882792081988,\n",
       " 1.1225280595574811,\n",
       " 2.8477587991564763,\n",
       " 0.47306241027640805]"
      ]
     },
     "execution_count": 42,
     "metadata": {},
     "output_type": "execute_result"
    }
   ],
   "source": [
    "build_list(6)"
   ]
  },
  {
   "cell_type": "code",
   "execution_count": 33,
   "metadata": {
    "collapsed": false
   },
   "outputs": [
    {
     "data": {
      "text/plain": [
       "[2.503427539861507, 2.941606079336984, 2.112223944375116, 2.9934608651410453]"
      ]
     },
     "execution_count": 33,
     "metadata": {},
     "output_type": "execute_result"
    }
   ],
   "source": [
    "get_n_things()"
   ]
  },
  {
   "cell_type": "code",
   "execution_count": 25,
   "metadata": {
    "collapsed": false
   },
   "outputs": [
    {
     "data": {
      "text/plain": [
       "1.0140927277342375"
      ]
     },
     "execution_count": 25,
     "metadata": {},
     "output_type": "execute_result"
    }
   ],
   "source": [
    "get_a_thing()"
   ]
  },
  {
   "cell_type": "code",
   "execution_count": 26,
   "metadata": {
    "collapsed": false
   },
   "outputs": [
    {
     "data": {
      "text/plain": [
       "[1.6464405117819743,\n",
       " 1.251066014107722,\n",
       " 1.3079847064260113,\n",
       " 1.6523937077237265,\n",
       " 2.9010895170410302]"
      ]
     },
     "execution_count": 26,
     "metadata": {},
     "output_type": "execute_result"
    }
   ],
   "source": [
    "map(get_a_thing, range(5))"
   ]
  },
  {
   "cell_type": "code",
   "execution_count": 27,
   "metadata": {
    "collapsed": true
   },
   "outputs": [],
   "source": [
    "pool = Pool(4)"
   ]
  },
  {
   "cell_type": "code",
   "execution_count": 28,
   "metadata": {
    "collapsed": false
   },
   "outputs": [
    {
     "data": {
      "text/plain": [
       "[1.6464405117819743,\n",
       " 1.251066014107722,\n",
       " 1.3079847064260113,\n",
       " 1.6523937077237265,\n",
       " 2.9010895170410302,\n",
       " 0.6659795132692184,\n",
       " 2.6785804543080047,\n",
       " 0.22892486812187152,\n",
       " 2.620288208375449,\n",
       " 0.031122461657099865,\n",
       " 2.313961929800238,\n",
       " 0.5408090666303076]"
      ]
     },
     "execution_count": 28,
     "metadata": {},
     "output_type": "execute_result"
    }
   ],
   "source": [
    "pool.map(get_a_thing, range(12))"
   ]
  },
  {
   "cell_type": "code",
   "execution_count": null,
   "metadata": {
    "collapsed": true
   },
   "outputs": [],
   "source": []
  }
 ],
 "metadata": {
  "kernelspec": {
   "display_name": "Python 2",
   "language": "python",
   "name": "python2"
  },
  "language_info": {
   "codemirror_mode": {
    "name": "ipython",
    "version": 2
   },
   "file_extension": ".py",
   "mimetype": "text/x-python",
   "name": "python",
   "nbconvert_exporter": "python",
   "pygments_lexer": "ipython2",
   "version": "2.7.11"
  }
 },
 "nbformat": 4,
 "nbformat_minor": 0
}
