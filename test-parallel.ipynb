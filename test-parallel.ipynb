{
 "cells": [
  {
   "cell_type": "code",
   "execution_count": 68,
   "metadata": {
    "collapsed": true
   },
   "outputs": [],
   "source": [
    "import os, sys\n",
    "import numpy as np\n",
    "import time\n",
    "from multiprocessing import Pool\n",
    "from multiprocessing.dummy import Pool as ThreadPool "
   ]
  },
  {
   "cell_type": "code",
   "execution_count": 69,
   "metadata": {
    "collapsed": true
   },
   "outputs": [],
   "source": [
    "def get_a_thing(seed=None):\n",
    "    \"\"\"Returns a number after a random amount of time\n",
    "    \"\"\"\n",
    "    np.random.seed()\n",
    "    t = np.random.random()*3\n",
    "    time.sleep(t)\n",
    "    return t\n",
    "\n",
    "def get_n_things(seed=None):\n",
    "    \"\"\"Returns a random number of random things\n",
    "    \"\"\"\n",
    "    n = int(np.random.random()*5)\n",
    "    return [get_a_thing() for i in range(n)]\n",
    "    \n",
    "    \n",
    "def build_list(N=6):\n",
    "    start = time.time()\n",
    "    N = int(N)\n",
    "    l = []\n",
    "    while len(l) < N:\n",
    "        l += (get_n_things())\n",
    "    end = time.time()\n",
    "    print('Built list of {} things on pid {}.  Took {:.3f}s'.format(N, os.getpid(),\n",
    "                                                                       end-start))\n",
    "    sys.stdout.flush()\n",
    "    return l[:N]"
   ]
  },
  {
   "cell_type": "code",
   "execution_count": 70,
   "metadata": {
    "collapsed": false
   },
   "outputs": [
    {
     "name": "stdout",
     "output_type": "stream",
     "text": [
      "building list of 6 things on pid 16336.  Took 10.252s\n"
     ]
    },
    {
     "data": {
      "text/plain": [
       "[2.622585816751597,\n",
       " 1.8856524952541056,\n",
       " 1.792471650370641,\n",
       " 0.5415552603942299,\n",
       " 1.4734642074930833,\n",
       " 0.859674678043857]"
      ]
     },
     "execution_count": 70,
     "metadata": {},
     "output_type": "execute_result"
    }
   ],
   "source": [
    "build_list(6)"
   ]
  },
  {
   "cell_type": "code",
   "execution_count": 73,
   "metadata": {
    "collapsed": true
   },
   "outputs": [],
   "source": [
    "pool = Pool(4)\n",
    "pool = ThreadPool(4)"
   ]
  },
  {
   "cell_type": "code",
   "execution_count": 74,
   "metadata": {
    "collapsed": false
   },
   "outputs": [
    {
     "name": "stdout",
     "output_type": "stream",
     "text": [
      "building list of 0 things on pid 16336.  Took 0.000s\n",
      "building list of 1 things on pid 16336.  Took 1.369s\n",
      "building list of 4 things on pid 16336.  Took 3.046s\n",
      "building list of 2 things on pid 16336.  Took 5.206s\n",
      "building list of 3 things on pid 16336.  Took 5.607s\n",
      "building list of 5 things on pid 16336.  Took 9.144s\n",
      "building list of 6 things on pid 16336.  Took 8.359s\n",
      "building list of 7 things on pid 16336.  Took 6.917s\n"
     ]
    },
    {
     "data": {
      "text/plain": [
       "[[],\n",
       " [1.3604632614474674],\n",
       " [0.9410146438930951, 1.3635437505334718],\n",
       " [0.5752019934759746, 1.8899659438305854, 1.158005837676663],\n",
       " [0.6930654109439576,\n",
       "  0.9078343440484961,\n",
       "  1.3642323147923419,\n",
       "  0.05582241979439517],\n",
       " [2.1496812331835775,\n",
       "  1.3353525801475499,\n",
       "  0.6780006632504452,\n",
       "  2.2400473393987497,\n",
       "  2.6919903984659963],\n",
       " [0.4204206428453877,\n",
       "  1.2935778985738864,\n",
       "  0.177054844612907,\n",
       "  2.8565785083570128,\n",
       "  1.916887783965357,\n",
       "  1.4879814442813362],\n",
       " [0.7186629623157036,\n",
       "  0.8726731671150272,\n",
       "  0.039911495107923134,\n",
       "  0.8994032914885443,\n",
       "  0.018029710228497087,\n",
       "  1.4356235681025225,\n",
       "  2.883915486920552]]"
      ]
     },
     "execution_count": 74,
     "metadata": {},
     "output_type": "execute_result"
    }
   ],
   "source": [
    "pool.map(build_list, np.arange(8))"
   ]
  },
  {
   "cell_type": "code",
   "execution_count": null,
   "metadata": {
    "collapsed": true
   },
   "outputs": [],
   "source": []
  }
 ],
 "metadata": {
  "kernelspec": {
   "display_name": "Python 2",
   "language": "python",
   "name": "python2"
  },
  "language_info": {
   "codemirror_mode": {
    "name": "ipython",
    "version": 2
   },
   "file_extension": ".py",
   "mimetype": "text/x-python",
   "name": "python",
   "nbconvert_exporter": "python",
   "pygments_lexer": "ipython2",
   "version": "2.7.11"
  }
 },
 "nbformat": 4,
 "nbformat_minor": 0
}
