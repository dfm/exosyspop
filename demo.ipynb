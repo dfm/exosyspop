{
 "cells": [
  {
   "cell_type": "code",
   "execution_count": 1,
   "metadata": {
    "collapsed": false,
    "scrolled": false
   },
   "outputs": [
    {
     "name": "stderr",
     "output_type": "stream",
     "text": [
      "WARNING:root:progressbar not imported\n"
     ]
    }
   ],
   "source": [
    "import sys\n",
    "\n",
    "## This to get the peerless target star DataFrame for example purposes\n",
    "#sys.path.append('/u/tdm/repositories/peerless/prediction')\n",
    "#sys.path.append('/u/tdm/repositories/peerless')\n",
    "#from targets import targets\n",
    "\n",
    "\n",
    "import pandas as pd\n",
    "targets = pd.read_hdf('targets.h5')\n",
    "\n",
    "# Sanitize dtypes of targets DataFrame\n",
    "for c in targets.columns:\n",
    "    if targets[c].dtype == object:\n",
    "        targets.loc[:,c] = targets.loc[:,c].astype(str)\n",
    "\n",
    "\n",
    "# The action is here. Depends on vespa & isochrones.\n",
    "from exosyspop.populations import KeplerBinaryPopulation"
   ]
  },
  {
   "cell_type": "code",
   "execution_count": 2,
   "metadata": {
    "collapsed": false,
    "scrolled": true
   },
   "outputs": [],
   "source": [
    "pop = KeplerBinaryPopulation(targets, fB=0.4)"
   ]
  },
  {
   "cell_type": "code",
   "execution_count": 3,
   "metadata": {
    "collapsed": false,
    "scrolled": true
   },
   "outputs": [
    {
     "name": "stdout",
     "output_type": "stream",
     "text": [
      "EB: dmag regressor trained, R2=0.999478994004\n",
      "EB: qR regressor trained, R2=0.999225548626\n"
     ]
    },
    {
     "data": {
      "text/plain": [
       "array([        nan,         nan,         nan, ...,  0.45033301,\n",
       "        0.42450442,         nan])"
      ]
     },
     "execution_count": 3,
     "metadata": {},
     "output_type": "execute_result"
    }
   ],
   "source": [
    "# Accessing secondary properties will initialize a secondary simulation,\n",
    "# calling pop._generate_binaries().  The first time this is called, the\n",
    "# secondary property regressors get trained.\n",
    "pop.radius_B"
   ]
  },
  {
   "cell_type": "code",
   "execution_count": 4,
   "metadata": {
    "collapsed": false,
    "scrolled": true
   },
   "outputs": [
    {
     "name": "stdout",
     "output_type": "stream",
     "text": [
      "[ 0.60335989         nan         nan ...,  0.39600354         nan\n",
      "  0.67549434]\n",
      "10 loops, best of 3: 97.5 ms per loop\n"
     ]
    }
   ],
   "source": [
    "# subsequent calls are much faster; e.g.\n",
    "pop._generate_binaries()\n",
    "print(pop.radius_B)\n",
    "%timeit pop._generate_binaries()"
   ]
  },
  {
   "cell_type": "code",
   "execution_count": 5,
   "metadata": {
    "collapsed": false
   },
   "outputs": [
    {
     "name": "stdout",
     "output_type": "stream",
     "text": [
      "[ 0.74957311         nan  0.77404674 ...,         nan         nan\n",
      "         nan]\n",
      "1 loops, best of 3: 399 ms per loop\n"
     ]
    }
   ],
   "source": [
    "# If physical accuracy is important, you can also choose to generate binary properties\n",
    "# directly from the isochrone, but it's a factor of a few slower:\n",
    "pop._generate_binaries(use_ic=True)\n",
    "print(pop.radius_B)\n",
    "%timeit pop._generate_binaries(use_ic=True)"
   ]
  },
  {
   "cell_type": "code",
   "execution_count": 6,
   "metadata": {
    "collapsed": false
   },
   "outputs": [
    {
     "data": {
      "text/plain": [
       "array([  6.40912013e+04,   2.14228943e+02,   5.44690078e+08, ...,\n",
       "         1.54264955e+09,   4.07893941e+06,   1.40823485e+02])"
      ]
     },
     "execution_count": 6,
     "metadata": {},
     "output_type": "execute_result"
    }
   ],
   "source": [
    "# Similarly, accessing orbital properties will generate them\n",
    "pop.period"
   ]
  },
  {
   "cell_type": "markdown",
   "metadata": {},
   "source": [
    "# Synthetic observations"
   ]
  },
  {
   "cell_type": "code",
   "execution_count": 7,
   "metadata": {
    "collapsed": false,
    "scrolled": true
   },
   "outputs": [
    {
     "name": "stdout",
     "output_type": "stream",
     "text": [
      "145\n",
      "Index([u'host', u'period', u'ecc', u'w', u'inc', u'a', u'aR', u'b_pri',\n",
      "       u'b_sec', u'k', u'tra', u'occ', u'd_pri', u'd_sec', u'T14_pri',\n",
      "       u'T14_sec', u'T23_pri', u'T23_sec', u'dataspan', u'dutycycle',\n",
      "       u'b_target', u'flux_ratio', u'n_pri', u'n_sec', u'phase_sec'],\n",
      "      dtype='object')\n"
     ]
    },
    {
     "data": {
      "text/html": [
       "<div>\n",
       "<table border=\"1\" class=\"dataframe\">\n",
       "  <thead>\n",
       "    <tr style=\"text-align: right;\">\n",
       "      <th></th>\n",
       "      <th>host</th>\n",
       "      <th>period</th>\n",
       "      <th>ecc</th>\n",
       "      <th>w</th>\n",
       "      <th>inc</th>\n",
       "      <th>a</th>\n",
       "      <th>aR</th>\n",
       "      <th>b_pri</th>\n",
       "      <th>b_sec</th>\n",
       "      <th>k</th>\n",
       "      <th>...</th>\n",
       "      <th>T14_sec</th>\n",
       "      <th>T23_pri</th>\n",
       "      <th>T23_sec</th>\n",
       "      <th>dataspan</th>\n",
       "      <th>dutycycle</th>\n",
       "      <th>b_target</th>\n",
       "      <th>flux_ratio</th>\n",
       "      <th>n_pri</th>\n",
       "      <th>n_sec</th>\n",
       "      <th>phase_sec</th>\n",
       "    </tr>\n",
       "  </thead>\n",
       "  <tbody>\n",
       "    <tr>\n",
       "      <th>0</th>\n",
       "      <td>127</td>\n",
       "      <td>70.072951</td>\n",
       "      <td>0.873722</td>\n",
       "      <td>3.907564</td>\n",
       "      <td>1.548575</td>\n",
       "      <td>5.918824e+12</td>\n",
       "      <td>88.130039</td>\n",
       "      <td>1.175052</td>\n",
       "      <td>0.288552</td>\n",
       "      <td>0.665052</td>\n",
       "      <td>...</td>\n",
       "      <td>0.125768</td>\n",
       "      <td>0.000000</td>\n",
       "      <td>0.013043</td>\n",
       "      <td>1459.789</td>\n",
       "      <td>0.6989</td>\n",
       "      <td>10.380342</td>\n",
       "      <td>0.109753</td>\n",
       "      <td>13</td>\n",
       "      <td>14</td>\n",
       "      <td>0.055367</td>\n",
       "    </tr>\n",
       "    <tr>\n",
       "      <th>1</th>\n",
       "      <td>159</td>\n",
       "      <td>1.323850</td>\n",
       "      <td>0.194674</td>\n",
       "      <td>2.027846</td>\n",
       "      <td>1.524113</td>\n",
       "      <td>4.223949e+11</td>\n",
       "      <td>5.902799</td>\n",
       "      <td>0.225611</td>\n",
       "      <td>0.321122</td>\n",
       "      <td>0.738150</td>\n",
       "      <td>...</td>\n",
       "      <td>0.147203</td>\n",
       "      <td>0.007932</td>\n",
       "      <td>0.000000</td>\n",
       "      <td>1459.789</td>\n",
       "      <td>0.8749</td>\n",
       "      <td>19.312456</td>\n",
       "      <td>0.332275</td>\n",
       "      <td>947</td>\n",
       "      <td>983</td>\n",
       "      <td>0.444524</td>\n",
       "    </tr>\n",
       "    <tr>\n",
       "      <th>2</th>\n",
       "      <td>2835</td>\n",
       "      <td>3.562075</td>\n",
       "      <td>0.629051</td>\n",
       "      <td>3.374387</td>\n",
       "      <td>1.418000</td>\n",
       "      <td>6.879479e+11</td>\n",
       "      <td>11.947647</td>\n",
       "      <td>1.285432</td>\n",
       "      <td>0.959628</td>\n",
       "      <td>0.171404</td>\n",
       "      <td>...</td>\n",
       "      <td>0.043813</td>\n",
       "      <td>0.000000</td>\n",
       "      <td>0.000000</td>\n",
       "      <td>1459.789</td>\n",
       "      <td>0.8751</td>\n",
       "      <td>11.792313</td>\n",
       "      <td>0.001357</td>\n",
       "      <td>0</td>\n",
       "      <td>370</td>\n",
       "      <td>0.132974</td>\n",
       "    </tr>\n",
       "    <tr>\n",
       "      <th>3</th>\n",
       "      <td>7069</td>\n",
       "      <td>68.908433</td>\n",
       "      <td>0.508062</td>\n",
       "      <td>2.488099</td>\n",
       "      <td>1.560835</td>\n",
       "      <td>6.184474e+12</td>\n",
       "      <td>86.120773</td>\n",
       "      <td>0.486250</td>\n",
       "      <td>0.920893</td>\n",
       "      <td>0.970415</td>\n",
       "      <td>...</td>\n",
       "      <td>0.552996</td>\n",
       "      <td>0.000000</td>\n",
       "      <td>0.000000</td>\n",
       "      <td>1459.789</td>\n",
       "      <td>0.8751</td>\n",
       "      <td>16.371788</td>\n",
       "      <td>0.907508</td>\n",
       "      <td>18</td>\n",
       "      <td>20</td>\n",
       "      <td>0.238324</td>\n",
       "    </tr>\n",
       "    <tr>\n",
       "      <th>4</th>\n",
       "      <td>7270</td>\n",
       "      <td>372.421965</td>\n",
       "      <td>0.545586</td>\n",
       "      <td>3.963694</td>\n",
       "      <td>1.569175</td>\n",
       "      <td>1.576367e+13</td>\n",
       "      <td>283.097518</td>\n",
       "      <td>0.536953</td>\n",
       "      <td>0.230296</td>\n",
       "      <td>0.409973</td>\n",
       "      <td>...</td>\n",
       "      <td>0.348765</td>\n",
       "      <td>0.142969</td>\n",
       "      <td>0.136199</td>\n",
       "      <td>1459.789</td>\n",
       "      <td>0.8749</td>\n",
       "      <td>18.960348</td>\n",
       "      <td>0.015485</td>\n",
       "      <td>3</td>\n",
       "      <td>3</td>\n",
       "      <td>0.249322</td>\n",
       "    </tr>\n",
       "  </tbody>\n",
       "</table>\n",
       "<p>5 rows × 25 columns</p>\n",
       "</div>"
      ],
      "text/plain": [
       "   host      period       ecc         w       inc             a          aR  \\\n",
       "0   127   70.072951  0.873722  3.907564  1.548575  5.918824e+12   88.130039   \n",
       "1   159    1.323850  0.194674  2.027846  1.524113  4.223949e+11    5.902799   \n",
       "2  2835    3.562075  0.629051  3.374387  1.418000  6.879479e+11   11.947647   \n",
       "3  7069   68.908433  0.508062  2.488099  1.560835  6.184474e+12   86.120773   \n",
       "4  7270  372.421965  0.545586  3.963694  1.569175  1.576367e+13  283.097518   \n",
       "\n",
       "      b_pri     b_sec         k    ...       T14_sec   T23_pri   T23_sec  \\\n",
       "0  1.175052  0.288552  0.665052    ...      0.125768  0.000000  0.013043   \n",
       "1  0.225611  0.321122  0.738150    ...      0.147203  0.007932  0.000000   \n",
       "2  1.285432  0.959628  0.171404    ...      0.043813  0.000000  0.000000   \n",
       "3  0.486250  0.920893  0.970415    ...      0.552996  0.000000  0.000000   \n",
       "4  0.536953  0.230296  0.409973    ...      0.348765  0.142969  0.136199   \n",
       "\n",
       "   dataspan  dutycycle   b_target  flux_ratio  n_pri  n_sec  phase_sec  \n",
       "0  1459.789     0.6989  10.380342    0.109753     13     14   0.055367  \n",
       "1  1459.789     0.8749  19.312456    0.332275    947    983   0.444524  \n",
       "2  1459.789     0.8751  11.792313    0.001357      0    370   0.132974  \n",
       "3  1459.789     0.8751  16.371788    0.907508     18     20   0.238324  \n",
       "4  1459.789     0.8749  18.960348    0.015485      3      3   0.249322  \n",
       "\n",
       "[5 rows x 25 columns]"
      ]
     },
     "execution_count": 7,
     "metadata": {},
     "output_type": "execute_result"
    }
   ],
   "source": [
    "# Now, we can observe and see what we see.  This takes into account\n",
    "# duty cycle & data span, as well as geometry.\n",
    "obs = pop.observe()\n",
    "print(len(obs))\n",
    "print(obs.columns)\n",
    "obs.head()"
   ]
  },
  {
   "cell_type": "code",
   "execution_count": 8,
   "metadata": {
    "collapsed": false
   },
   "outputs": [
    {
     "name": "stdout",
     "output_type": "stream",
     "text": [
      "1 loops, best of 3: 212 ms per loop\n"
     ]
    }
   ],
   "source": [
    "# This is pretty fast, even when generating a new population each time:\n",
    "%timeit pop.observe(new=True)"
   ]
  },
  {
   "cell_type": "code",
   "execution_count": 9,
   "metadata": {
    "collapsed": false
   },
   "outputs": [
    {
     "name": "stdout",
     "output_type": "stream",
     "text": [
      "10 loops, best of 3: 79.2 ms per loop\n"
     ]
    }
   ],
   "source": [
    "# Even faster if we only generate new orbits.\n",
    "%timeit pop.observe(new_orbits=True)"
   ]
  },
  {
   "cell_type": "code",
   "execution_count": 10,
   "metadata": {
    "collapsed": false,
    "scrolled": true
   },
   "outputs": [
    {
     "data": {
      "text/plain": [
       "(150.56, 12.621663915665003)"
      ]
     },
     "execution_count": 10,
     "metadata": {},
     "output_type": "execute_result"
    }
   ],
   "source": [
    "# So we can predict the expected number of observations pretty easily.\n",
    "import numpy as np\n",
    "N = 100\n",
    "n_obs = np.array([len(pop.observe(new_orbits=True)) for i in range(N)])\n",
    "n_obs.mean(), n_obs.std()"
   ]
  },
  {
   "cell_type": "code",
   "execution_count": 11,
   "metadata": {
    "collapsed": false
   },
   "outputs": [
    {
     "name": "stdout",
     "output_type": "stream",
     "text": [
      "147\n"
     ]
    },
    {
     "data": {
      "text/plain": [
       "Index([u'host', u'period', u'ecc', u'w', u'inc', u'a', u'aR', u'b_pri',\n",
       "       u'b_sec', u'k', u'tra', u'occ', u'd_pri', u'd_sec', u'T14_pri',\n",
       "       u'T14_sec', u'T23_pri', u'T23_sec', u'dataspan', u'dutycycle',\n",
       "       u'b_target', u'flux_ratio', u'n_pri', u'n_sec', u'phase_sec',\n",
       "       u'trap_dur_pri', u'trap_depth_pri', u'trap_slope_pri', u'trap_dur_sec',\n",
       "       u'trap_depth_sec', u'trap_slope_sec'],\n",
       "      dtype='object')"
      ]
     },
     "execution_count": 11,
     "metadata": {},
     "output_type": "execute_result"
    }
   ],
   "source": [
    "# Notice that the above does not yet have trapezoidal parameters.  There are two options to generate these.\n",
    "# Either we can set the fit_trap parameter, as follows:\n",
    "obs = pop.observe(fit_trap=True)\n",
    "print(len(obs))\n",
    "obs.columns"
   ]
  },
  {
   "cell_type": "code",
   "execution_count": 12,
   "metadata": {
    "collapsed": false
   },
   "outputs": [
    {
     "name": "stdout",
     "output_type": "stream",
     "text": [
      "1 loops, best of 3: 841 ms per loop\n"
     ]
    }
   ],
   "source": [
    "# All things considered, this is still pretty fast if we just need to do it a few times:\n",
    "%timeit pop.observe(fit_trap=True)"
   ]
  },
  {
   "cell_type": "code",
   "execution_count": 13,
   "metadata": {
    "collapsed": false
   },
   "outputs": [
    {
     "name": "stdout",
     "output_type": "stream",
     "text": [
      "EB: Depth trained: R2=0.998124257679\n",
      "EB: Duration trained: R2=0.997735090565\n",
      "EB: Slope trained: R2=0.994708310901\n",
      "140\n"
     ]
    },
    {
     "data": {
      "text/plain": [
       "Index([u'host', u'period', u'ecc', u'w', u'inc', u'a', u'aR', u'b_pri',\n",
       "       u'b_sec', u'k', u'tra', u'occ', u'd_pri', u'd_sec', u'T14_pri',\n",
       "       u'T14_sec', u'T23_pri', u'T23_sec', u'dataspan', u'dutycycle',\n",
       "       u'b_target', u'flux_ratio', u'n_pri', u'n_sec', u'phase_sec',\n",
       "       u'trap_dur_pri_regr', u'trap_depth_pri_regr', u'trap_slope_pri_regr',\n",
       "       u'trap_dur_sec_regr', u'trap_depth_sec_regr', u'trap_slope_sec_regr'],\n",
       "      dtype='object')"
      ]
     },
     "execution_count": 13,
     "metadata": {},
     "output_type": "execute_result"
    }
   ],
   "source": [
    "# However, this is pretty slow if we want to do inference.  To help with this, we can \n",
    "# tell it to train & use a regression.  Training only happens once; by default with 10,000 \n",
    "# synthetic observations.  This takes a minute or so.\n",
    "obs = pop.observe(regr_trap=True)\n",
    "print(len(obs))\n",
    "obs.columns"
   ]
  },
  {
   "cell_type": "code",
   "execution_count": 14,
   "metadata": {
    "collapsed": false
   },
   "outputs": [
    {
     "name": "stdout",
     "output_type": "stream",
     "text": [
      "10 loops, best of 3: 25.9 ms per loop\n"
     ]
    }
   ],
   "source": [
    "# Subsequent calls are much faster\n",
    "%timeit pop.observe(regr_trap=True)"
   ]
  },
  {
   "cell_type": "code",
   "execution_count": 15,
   "metadata": {
    "collapsed": false
   },
   "outputs": [
    {
     "name": "stdout",
     "output_type": "stream",
     "text": [
      "1 loops, best of 3: 224 ms per loop\n"
     ]
    }
   ],
   "source": [
    "# Even generating a new stellar population & observing it is pretty quick\n",
    "%timeit pop.observe(regr_trap=True, new=True)"
   ]
  },
  {
   "cell_type": "code",
   "execution_count": 16,
   "metadata": {
    "collapsed": false
   },
   "outputs": [
    {
     "name": "stdout",
     "output_type": "stream",
     "text": [
      "10 loops, best of 3: 94.1 ms per loop\n"
     ]
    }
   ],
   "source": [
    "# Or again, you can just generate new orbits (rather than new binaries & new orbits)\n",
    "%timeit pop.observe(regr_trap=True, new_orbits=True)"
   ]
  },
  {
   "cell_type": "code",
   "execution_count": 17,
   "metadata": {
    "collapsed": false,
    "scrolled": true
   },
   "outputs": [
    {
     "name": "stdout",
     "output_type": "stream",
     "text": [
      "10030\n"
     ]
    },
    {
     "data": {
      "text/plain": [
       "Index([u'host', u'period', u'ecc', u'w', u'inc', u'a', u'aR', u'b_pri',\n",
       "       u'b_sec', u'k', u'tra', u'occ', u'd_pri', u'd_sec', u'T14_pri',\n",
       "       u'T14_sec', u'T23_pri', u'T23_sec', u'dataspan', u'dutycycle',\n",
       "       u'b_target', u'flux_ratio', u'n_pri', u'n_sec', u'phase_sec',\n",
       "       u'trap_dur_pri_regr', u'trap_depth_pri_regr', u'trap_slope_pri_regr',\n",
       "       u'trap_dur_sec_regr', u'trap_depth_sec_regr', u'trap_slope_sec_regr'],\n",
       "      dtype='object')"
      ]
     },
     "execution_count": 17,
     "metadata": {},
     "output_type": "execute_result"
    }
   ],
   "source": [
    "# Generating the training data used for the trapezoid shape regression above used\n",
    "# this function, which can be otherwise useful to sample >N random observations \n",
    "# from the existing population.  `trap_regr` defaults to `True` here.  \n",
    "# This function also takes `new` or `new_orbits` keywords.\n",
    "obs_pop = pop.get_N_observed(N=10000, new_orbits=True)\n",
    "print(len(obs_pop))\n",
    "obs_pop.columns"
   ]
  },
  {
   "cell_type": "code",
   "execution_count": 18,
   "metadata": {
    "collapsed": false
   },
   "outputs": [
    {
     "data": {
      "text/plain": [
       "(4.3399999999999999, 1.8396738841436002)"
      ]
     },
     "execution_count": 18,
     "metadata": {},
     "output_type": "execute_result"
    }
   ],
   "source": [
    "# We can now look, e.g. at the expected number of single/double eclipsing systems:\n",
    "query = '(n_pri < 3) & (n_sec < 3) & (n_pri==0 | n_sec==0)'\n",
    "N = 100\n",
    "n_obs = np.array([len(pop.observe(new_orbits=True).query(query)) for i in range(N)])\n",
    "n_obs.mean(), n_obs.std()"
   ]
  },
  {
   "cell_type": "code",
   "execution_count": 19,
   "metadata": {
    "collapsed": false
   },
   "outputs": [
    {
     "data": {
      "text/plain": [
       "(6.2800000000000002, 2.1821090715177367)"
      ]
     },
     "execution_count": 19,
     "metadata": {},
     "output_type": "execute_result"
    }
   ],
   "source": [
    "# Try this again, this time using the empirical eccentricity distribution\n",
    "# (as opposed to the beta distribution with default params)---eccentricity matters!\n",
    "pop.ecc_empirical = True\n",
    "n_obs = np.array([len(pop.observe(new_orbits=True).query(query)) for i in range(N)])\n",
    "n_obs.mean(), n_obs.std()"
   ]
  },
  {
   "cell_type": "code",
   "execution_count": 20,
   "metadata": {
    "collapsed": false
   },
   "outputs": [],
   "source": [
    "# You can also save a trained model so that you can load it back and hit the ground running.\n",
    "pop.save('ebpop', overwrite=True)\n",
    "pop = KeplerBinaryPopulation.load('ebpop')"
   ]
  },
  {
   "cell_type": "code",
   "execution_count": 21,
   "metadata": {
    "collapsed": false
   },
   "outputs": [
    {
     "data": {
      "text/html": [
       "<div>\n",
       "<table border=\"1\" class=\"dataframe\">\n",
       "  <thead>\n",
       "    <tr style=\"text-align: right;\">\n",
       "      <th></th>\n",
       "      <th>host</th>\n",
       "      <th>period</th>\n",
       "      <th>ecc</th>\n",
       "      <th>w</th>\n",
       "      <th>inc</th>\n",
       "      <th>a</th>\n",
       "      <th>aR</th>\n",
       "      <th>b_pri</th>\n",
       "      <th>b_sec</th>\n",
       "      <th>k</th>\n",
       "      <th>...</th>\n",
       "      <th>flux_ratio</th>\n",
       "      <th>n_pri</th>\n",
       "      <th>n_sec</th>\n",
       "      <th>phase_sec</th>\n",
       "      <th>trap_dur_pri_regr</th>\n",
       "      <th>trap_depth_pri_regr</th>\n",
       "      <th>trap_slope_pri_regr</th>\n",
       "      <th>trap_dur_sec_regr</th>\n",
       "      <th>trap_depth_sec_regr</th>\n",
       "      <th>trap_slope_sec_regr</th>\n",
       "    </tr>\n",
       "  </thead>\n",
       "  <tbody>\n",
       "    <tr>\n",
       "      <th>0</th>\n",
       "      <td>1303</td>\n",
       "      <td>1.508235</td>\n",
       "      <td>0.794690</td>\n",
       "      <td>0.908785</td>\n",
       "      <td>0.571017</td>\n",
       "      <td>4.392560e+11</td>\n",
       "      <td>6.760580</td>\n",
       "      <td>1.288318</td>\n",
       "      <td>5.616169</td>\n",
       "      <td>0.495810</td>\n",
       "      <td>...</td>\n",
       "      <td>0.021415</td>\n",
       "      <td>849</td>\n",
       "      <td>0</td>\n",
       "      <td>0.871170</td>\n",
       "      <td>0.044697</td>\n",
       "      <td>0.021101</td>\n",
       "      <td>2.288434</td>\n",
       "      <td>NaN</td>\n",
       "      <td>NaN</td>\n",
       "      <td>NaN</td>\n",
       "    </tr>\n",
       "    <tr>\n",
       "      <th>1</th>\n",
       "      <td>1481</td>\n",
       "      <td>1.119021</td>\n",
       "      <td>0.095647</td>\n",
       "      <td>1.220300</td>\n",
       "      <td>1.557535</td>\n",
       "      <td>3.946543e+11</td>\n",
       "      <td>4.311374</td>\n",
       "      <td>0.051982</td>\n",
       "      <td>0.062243</td>\n",
       "      <td>0.645139</td>\n",
       "      <td>...</td>\n",
       "      <td>0.267657</td>\n",
       "      <td>1139</td>\n",
       "      <td>1144</td>\n",
       "      <td>0.520989</td>\n",
       "      <td>0.111869</td>\n",
       "      <td>0.368570</td>\n",
       "      <td>2.405604</td>\n",
       "      <td>0.140385</td>\n",
       "      <td>0.207068</td>\n",
       "      <td>2.538372</td>\n",
       "    </tr>\n",
       "    <tr>\n",
       "      <th>2</th>\n",
       "      <td>1704</td>\n",
       "      <td>54.984939</td>\n",
       "      <td>0.687238</td>\n",
       "      <td>1.753266</td>\n",
       "      <td>1.523692</td>\n",
       "      <td>4.608242e+12</td>\n",
       "      <td>60.380019</td>\n",
       "      <td>0.895275</td>\n",
       "      <td>4.628196</td>\n",
       "      <td>0.279898</td>\n",
       "      <td>...</td>\n",
       "      <td>0.003981</td>\n",
       "      <td>22</td>\n",
       "      <td>0</td>\n",
       "      <td>0.392804</td>\n",
       "      <td>0.110049</td>\n",
       "      <td>0.047288</td>\n",
       "      <td>2.554566</td>\n",
       "      <td>NaN</td>\n",
       "      <td>NaN</td>\n",
       "      <td>NaN</td>\n",
       "    </tr>\n",
       "    <tr>\n",
       "      <th>3</th>\n",
       "      <td>2426</td>\n",
       "      <td>5.777147</td>\n",
       "      <td>0.086197</td>\n",
       "      <td>4.066556</td>\n",
       "      <td>1.550388</td>\n",
       "      <td>1.162926e+12</td>\n",
       "      <td>18.001832</td>\n",
       "      <td>0.391580</td>\n",
       "      <td>0.341142</td>\n",
       "      <td>0.932021</td>\n",
       "      <td>...</td>\n",
       "      <td>0.769349</td>\n",
       "      <td>175</td>\n",
       "      <td>184</td>\n",
       "      <td>0.466909</td>\n",
       "      <td>0.179252</td>\n",
       "      <td>0.405019</td>\n",
       "      <td>2.298384</td>\n",
       "      <td>0.161438</td>\n",
       "      <td>0.359476</td>\n",
       "      <td>2.288638</td>\n",
       "    </tr>\n",
       "    <tr>\n",
       "      <th>4</th>\n",
       "      <td>5496</td>\n",
       "      <td>44.842503</td>\n",
       "      <td>0.808260</td>\n",
       "      <td>4.761843</td>\n",
       "      <td>1.518526</td>\n",
       "      <td>3.995373e+12</td>\n",
       "      <td>87.611478</td>\n",
       "      <td>8.234749</td>\n",
       "      <td>0.878159</td>\n",
       "      <td>0.872604</td>\n",
       "      <td>...</td>\n",
       "      <td>0.376656</td>\n",
       "      <td>0</td>\n",
       "      <td>19</td>\n",
       "      <td>0.543067</td>\n",
       "      <td>NaN</td>\n",
       "      <td>NaN</td>\n",
       "      <td>NaN</td>\n",
       "      <td>0.082805</td>\n",
       "      <td>0.130946</td>\n",
       "      <td>2.359772</td>\n",
       "    </tr>\n",
       "  </tbody>\n",
       "</table>\n",
       "<p>5 rows × 31 columns</p>\n",
       "</div>"
      ],
      "text/plain": [
       "   host     period       ecc         w       inc             a         aR  \\\n",
       "0  1303   1.508235  0.794690  0.908785  0.571017  4.392560e+11   6.760580   \n",
       "1  1481   1.119021  0.095647  1.220300  1.557535  3.946543e+11   4.311374   \n",
       "2  1704  54.984939  0.687238  1.753266  1.523692  4.608242e+12  60.380019   \n",
       "3  2426   5.777147  0.086197  4.066556  1.550388  1.162926e+12  18.001832   \n",
       "4  5496  44.842503  0.808260  4.761843  1.518526  3.995373e+12  87.611478   \n",
       "\n",
       "      b_pri     b_sec         k         ...          flux_ratio n_pri  n_sec  \\\n",
       "0  1.288318  5.616169  0.495810         ...            0.021415   849      0   \n",
       "1  0.051982  0.062243  0.645139         ...            0.267657  1139   1144   \n",
       "2  0.895275  4.628196  0.279898         ...            0.003981    22      0   \n",
       "3  0.391580  0.341142  0.932021         ...            0.769349   175    184   \n",
       "4  8.234749  0.878159  0.872604         ...            0.376656     0     19   \n",
       "\n",
       "   phase_sec  trap_dur_pri_regr  trap_depth_pri_regr  trap_slope_pri_regr  \\\n",
       "0   0.871170           0.044697             0.021101             2.288434   \n",
       "1   0.520989           0.111869             0.368570             2.405604   \n",
       "2   0.392804           0.110049             0.047288             2.554566   \n",
       "3   0.466909           0.179252             0.405019             2.298384   \n",
       "4   0.543067                NaN                  NaN                  NaN   \n",
       "\n",
       "   trap_dur_sec_regr  trap_depth_sec_regr  trap_slope_sec_regr  \n",
       "0                NaN                  NaN                  NaN  \n",
       "1           0.140385             0.207068             2.538372  \n",
       "2                NaN                  NaN                  NaN  \n",
       "3           0.161438             0.359476             2.288638  \n",
       "4           0.082805             0.130946             2.359772  \n",
       "\n",
       "[5 rows x 31 columns]"
      ]
     },
     "execution_count": 21,
     "metadata": {},
     "output_type": "execute_result"
    }
   ],
   "source": [
    "# No training necessary!\n",
    "pop.observe(regr_trap=True).head()"
   ]
  },
  {
   "cell_type": "code",
   "execution_count": null,
   "metadata": {
    "collapsed": true
   },
   "outputs": [],
   "source": []
  }
 ],
 "metadata": {
  "kernelspec": {
   "display_name": "Python 2",
   "language": "python",
   "name": "python2"
  },
  "language_info": {
   "codemirror_mode": {
    "name": "ipython",
    "version": 2
   },
   "file_extension": ".py",
   "mimetype": "text/x-python",
   "name": "python",
   "nbconvert_exporter": "python",
   "pygments_lexer": "ipython2",
   "version": "2.7.11"
  }
 },
 "nbformat": 4,
 "nbformat_minor": 0
}
