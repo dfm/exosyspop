{
 "cells": [
  {
   "cell_type": "code",
   "execution_count": 1,
   "metadata": {
    "collapsed": false,
    "scrolled": false
   },
   "outputs": [
    {
     "name": "stderr",
     "output_type": "stream",
     "text": [
      "WARNING:root:progressbar not imported\n"
     ]
    }
   ],
   "source": [
    "import sys\n",
    "\n",
    "## This to get the peerless target star DataFrame for example purposes\n",
    "#sys.path.append('/u/tdm/repositories/peerless/prediction')\n",
    "#sys.path.append('/u/tdm/repositories/peerless')\n",
    "#from targets import targets\n",
    "\n",
    "\n",
    "import pandas as pd\n",
    "targets = pd.read_hdf('targets.h5')\n",
    "\n",
    "# Sanitize dtypes of targets DataFrame\n",
    "for c in targets.columns:\n",
    "    if targets[c].dtype == object:\n",
    "        targets.loc[:,c] = targets.loc[:,c].astype(str)\n",
    "\n",
    "\n",
    "# The action is here. Depends on vespa & isochrones.\n",
    "from exosyspop.populations import KeplerBinaryPopulation"
   ]
  },
  {
   "cell_type": "code",
   "execution_count": 2,
   "metadata": {
    "collapsed": false,
    "scrolled": true
   },
   "outputs": [],
   "source": [
    "pop = KeplerBinaryPopulation(targets, fB=0.4)"
   ]
  },
  {
   "cell_type": "code",
   "execution_count": 3,
   "metadata": {
    "collapsed": false,
    "scrolled": true
   },
   "outputs": [
    {
     "name": "stdout",
     "output_type": "stream",
     "text": [
      "EB: dmag regressor trained, R2=0.999571783813\n",
      "EB: qR regressor trained, R2=0.999491522142\n"
     ]
    },
    {
     "data": {
      "text/plain": [
       "array([        nan,         nan,         nan, ...,         nan,\n",
       "        0.79875507,         nan])"
      ]
     },
     "execution_count": 3,
     "metadata": {},
     "output_type": "execute_result"
    }
   ],
   "source": [
    "# Accessing secondary properties will initialize a secondary simulation,\n",
    "# calling pop._generate_binaries().  The first time this is called, the\n",
    "# secondary property regressors get trained.\n",
    "pop.radius_B"
   ]
  },
  {
   "cell_type": "code",
   "execution_count": 4,
   "metadata": {
    "collapsed": false,
    "scrolled": true
   },
   "outputs": [
    {
     "name": "stdout",
     "output_type": "stream",
     "text": [
      "[        nan  0.48217627  0.17883418 ...,         nan         nan\n",
      "  0.84244681]\n",
      "10 loops, best of 3: 119 ms per loop\n"
     ]
    }
   ],
   "source": [
    "# subsequent calls are much faster; e.g.\n",
    "pop._generate_binaries()\n",
    "print(pop.radius_B)\n",
    "%timeit pop._generate_binaries()"
   ]
  },
  {
   "cell_type": "code",
   "execution_count": 5,
   "metadata": {
    "collapsed": false
   },
   "outputs": [
    {
     "name": "stdout",
     "output_type": "stream",
     "text": [
      "[ 0.59548858  0.87027945  0.21264382 ...,         nan         nan\n",
      "         nan]\n",
      "1 loops, best of 3: 540 ms per loop\n"
     ]
    }
   ],
   "source": [
    "# If physical accuracy is important, you can also choose to generate binary properties\n",
    "# directly from the isochrone, but it's a factor of a few slower:\n",
    "pop._generate_binaries(use_ic=True)\n",
    "print(pop.radius_B)\n",
    "%timeit pop._generate_binaries(use_ic=True)"
   ]
  },
  {
   "cell_type": "code",
   "execution_count": 6,
   "metadata": {
    "collapsed": false
   },
   "outputs": [
    {
     "data": {
      "text/plain": [
       "array([  2.37831975e+03,   4.58478418e+05,   1.29475810e+01, ...,\n",
       "         2.53311429e+04,   2.12623475e+00,   6.64783757e+00])"
      ]
     },
     "execution_count": 6,
     "metadata": {},
     "output_type": "execute_result"
    }
   ],
   "source": [
    "# Similarly, accessing orbital properties will generate them\n",
    "pop.period"
   ]
  },
  {
   "cell_type": "markdown",
   "metadata": {},
   "source": [
    "# Synthetic observations"
   ]
  },
  {
   "cell_type": "code",
   "execution_count": 7,
   "metadata": {
    "collapsed": false,
    "scrolled": true
   },
   "outputs": [
    {
     "name": "stdout",
     "output_type": "stream",
     "text": [
      "534\n",
      "Index([u'host', u'period', u'ecc', u'w', u'inc', u'a', u'aR', u'b_pri',\n",
      "       u'b_sec', u'k', u'tra', u'occ', u'd_pri', u'd_sec', u'T14_pri',\n",
      "       u'T14_sec', u'T23_pri', u'T23_sec', u'dataspan', u'dutycycle',\n",
      "       u'b_target', u'flux_ratio', u'n_pri', u'n_sec', u'phase_sec'],\n",
      "      dtype='object')\n"
     ]
    },
    {
     "data": {
      "text/html": [
       "<div>\n",
       "<table border=\"1\" class=\"dataframe\">\n",
       "  <thead>\n",
       "    <tr style=\"text-align: right;\">\n",
       "      <th></th>\n",
       "      <th>host</th>\n",
       "      <th>period</th>\n",
       "      <th>ecc</th>\n",
       "      <th>w</th>\n",
       "      <th>inc</th>\n",
       "      <th>a</th>\n",
       "      <th>aR</th>\n",
       "      <th>b_pri</th>\n",
       "      <th>b_sec</th>\n",
       "      <th>k</th>\n",
       "      <th>...</th>\n",
       "      <th>T14_sec</th>\n",
       "      <th>T23_pri</th>\n",
       "      <th>T23_sec</th>\n",
       "      <th>dataspan</th>\n",
       "      <th>dutycycle</th>\n",
       "      <th>b_target</th>\n",
       "      <th>flux_ratio</th>\n",
       "      <th>n_pri</th>\n",
       "      <th>n_sec</th>\n",
       "      <th>phase_sec</th>\n",
       "    </tr>\n",
       "  </thead>\n",
       "  <tbody>\n",
       "    <tr>\n",
       "      <th>0</th>\n",
       "      <td>162</td>\n",
       "      <td>1.546554</td>\n",
       "      <td>0.259108</td>\n",
       "      <td>4.888875</td>\n",
       "      <td>1.299541</td>\n",
       "      <td>4.752261e+11</td>\n",
       "      <td>6.653142</td>\n",
       "      <td>2.232421</td>\n",
       "      <td>1.324986</td>\n",
       "      <td>0.694411</td>\n",
       "      <td>...</td>\n",
       "      <td>0.062706</td>\n",
       "      <td>0.000000</td>\n",
       "      <td>0.000000</td>\n",
       "      <td>1459.789</td>\n",
       "      <td>0.8751</td>\n",
       "      <td>19.302264</td>\n",
       "      <td>0.193729</td>\n",
       "      <td>0</td>\n",
       "      <td>824</td>\n",
       "      <td>0.529941</td>\n",
       "    </tr>\n",
       "    <tr>\n",
       "      <th>1</th>\n",
       "      <td>583</td>\n",
       "      <td>2.107884</td>\n",
       "      <td>0.336064</td>\n",
       "      <td>0.538883</td>\n",
       "      <td>1.397619</td>\n",
       "      <td>5.949802e+11</td>\n",
       "      <td>8.717726</td>\n",
       "      <td>1.136517</td>\n",
       "      <td>1.610221</td>\n",
       "      <td>0.864561</td>\n",
       "      <td>...</td>\n",
       "      <td>0.083766</td>\n",
       "      <td>0.000000</td>\n",
       "      <td>0.000000</td>\n",
       "      <td>1459.789</td>\n",
       "      <td>0.6988</td>\n",
       "      <td>9.314785</td>\n",
       "      <td>0.564509</td>\n",
       "      <td>467</td>\n",
       "      <td>486</td>\n",
       "      <td>0.683719</td>\n",
       "    </tr>\n",
       "    <tr>\n",
       "      <th>2</th>\n",
       "      <td>793</td>\n",
       "      <td>28.011116</td>\n",
       "      <td>0.560312</td>\n",
       "      <td>1.798498</td>\n",
       "      <td>1.556732</td>\n",
       "      <td>2.756256e+12</td>\n",
       "      <td>43.806803</td>\n",
       "      <td>0.273422</td>\n",
       "      <td>0.930680</td>\n",
       "      <td>0.141959</td>\n",
       "      <td>...</td>\n",
       "      <td>0.245678</td>\n",
       "      <td>0.088710</td>\n",
       "      <td>0.000000</td>\n",
       "      <td>1459.789</td>\n",
       "      <td>0.6988</td>\n",
       "      <td>10.281481</td>\n",
       "      <td>0.000729</td>\n",
       "      <td>39</td>\n",
       "      <td>36</td>\n",
       "      <td>0.404264</td>\n",
       "    </tr>\n",
       "    <tr>\n",
       "      <th>3</th>\n",
       "      <td>1411</td>\n",
       "      <td>4.632179</td>\n",
       "      <td>0.733379</td>\n",
       "      <td>5.737479</td>\n",
       "      <td>1.567717</td>\n",
       "      <td>9.375844e+11</td>\n",
       "      <td>13.034092</td>\n",
       "      <td>0.029954</td>\n",
       "      <td>0.013437</td>\n",
       "      <td>0.482192</td>\n",
       "      <td>...</td>\n",
       "      <td>0.082737</td>\n",
       "      <td>0.064204</td>\n",
       "      <td>0.028841</td>\n",
       "      <td>1459.789</td>\n",
       "      <td>0.8754</td>\n",
       "      <td>12.995275</td>\n",
       "      <td>0.020901</td>\n",
       "      <td>278</td>\n",
       "      <td>276</td>\n",
       "      <td>0.895740</td>\n",
       "    </tr>\n",
       "    <tr>\n",
       "      <th>4</th>\n",
       "      <td>1509</td>\n",
       "      <td>2.432720</td>\n",
       "      <td>0.595290</td>\n",
       "      <td>4.428534</td>\n",
       "      <td>1.299418</td>\n",
       "      <td>5.925735e+11</td>\n",
       "      <td>12.003357</td>\n",
       "      <td>4.847686</td>\n",
       "      <td>1.321941</td>\n",
       "      <td>0.860955</td>\n",
       "      <td>...</td>\n",
       "      <td>0.044943</td>\n",
       "      <td>0.000000</td>\n",
       "      <td>0.000000</td>\n",
       "      <td>1459.789</td>\n",
       "      <td>0.8755</td>\n",
       "      <td>13.927386</td>\n",
       "      <td>0.343714</td>\n",
       "      <td>0</td>\n",
       "      <td>516</td>\n",
       "      <td>0.371561</td>\n",
       "    </tr>\n",
       "  </tbody>\n",
       "</table>\n",
       "<p>5 rows × 25 columns</p>\n",
       "</div>"
      ],
      "text/plain": [
       "   host     period       ecc         w       inc             a         aR  \\\n",
       "0   162   1.546554  0.259108  4.888875  1.299541  4.752261e+11   6.653142   \n",
       "1   583   2.107884  0.336064  0.538883  1.397619  5.949802e+11   8.717726   \n",
       "2   793  28.011116  0.560312  1.798498  1.556732  2.756256e+12  43.806803   \n",
       "3  1411   4.632179  0.733379  5.737479  1.567717  9.375844e+11  13.034092   \n",
       "4  1509   2.432720  0.595290  4.428534  1.299418  5.925735e+11  12.003357   \n",
       "\n",
       "      b_pri     b_sec         k    ...       T14_sec   T23_pri   T23_sec  \\\n",
       "0  2.232421  1.324986  0.694411    ...      0.062706  0.000000  0.000000   \n",
       "1  1.136517  1.610221  0.864561    ...      0.083766  0.000000  0.000000   \n",
       "2  0.273422  0.930680  0.141959    ...      0.245678  0.088710  0.000000   \n",
       "3  0.029954  0.013437  0.482192    ...      0.082737  0.064204  0.028841   \n",
       "4  4.847686  1.321941  0.860955    ...      0.044943  0.000000  0.000000   \n",
       "\n",
       "   dataspan  dutycycle   b_target  flux_ratio  n_pri  n_sec  phase_sec  \n",
       "0  1459.789     0.8751  19.302264    0.193729      0    824   0.529941  \n",
       "1  1459.789     0.6988   9.314785    0.564509    467    486   0.683719  \n",
       "2  1459.789     0.6988  10.281481    0.000729     39     36   0.404264  \n",
       "3  1459.789     0.8754  12.995275    0.020901    278    276   0.895740  \n",
       "4  1459.789     0.8755  13.927386    0.343714      0    516   0.371561  \n",
       "\n",
       "[5 rows x 25 columns]"
      ]
     },
     "execution_count": 7,
     "metadata": {},
     "output_type": "execute_result"
    }
   ],
   "source": [
    "# Now, we can observe and see what we see.  This takes into account\n",
    "# duty cycle & data span, as well as geometry.\n",
    "obs = pop.observe()\n",
    "print(len(obs))\n",
    "print(obs.columns)\n",
    "obs.head()"
   ]
  },
  {
   "cell_type": "code",
   "execution_count": 8,
   "metadata": {
    "collapsed": false
   },
   "outputs": [
    {
     "name": "stdout",
     "output_type": "stream",
     "text": [
      "1 loops, best of 3: 264 ms per loop\n"
     ]
    }
   ],
   "source": [
    "# This is pretty fast, even when generating a new population each time:\n",
    "%timeit pop.observe(new=True)"
   ]
  },
  {
   "cell_type": "code",
   "execution_count": 9,
   "metadata": {
    "collapsed": false
   },
   "outputs": [
    {
     "name": "stdout",
     "output_type": "stream",
     "text": [
      "10 loops, best of 3: 103 ms per loop\n"
     ]
    }
   ],
   "source": [
    "# Even faster if we only generate new orbits.\n",
    "%timeit pop.observe(new_orbits=True)"
   ]
  },
  {
   "cell_type": "code",
   "execution_count": 10,
   "metadata": {
    "collapsed": false,
    "scrolled": true
   },
   "outputs": [
    {
     "data": {
      "text/plain": [
       "(530.79999999999995, 21.420550879937707)"
      ]
     },
     "execution_count": 10,
     "metadata": {},
     "output_type": "execute_result"
    }
   ],
   "source": [
    "# So we can predict the expected number of observations pretty easily.\n",
    "import numpy as np\n",
    "N = 100\n",
    "n_obs = np.array([len(pop.observe(new_orbits=True)) for i in range(N)])\n",
    "n_obs.mean(), n_obs.std()"
   ]
  },
  {
   "cell_type": "code",
   "execution_count": 11,
   "metadata": {
    "collapsed": false
   },
   "outputs": [
    {
     "name": "stdout",
     "output_type": "stream",
     "text": [
      "568\n"
     ]
    },
    {
     "data": {
      "text/plain": [
       "Index([u'host', u'period', u'ecc', u'w', u'inc', u'a', u'aR', u'b_pri',\n",
       "       u'b_sec', u'k', u'tra', u'occ', u'd_pri', u'd_sec', u'T14_pri',\n",
       "       u'T14_sec', u'T23_pri', u'T23_sec', u'dataspan', u'dutycycle',\n",
       "       u'b_target', u'flux_ratio', u'n_pri', u'n_sec', u'phase_sec',\n",
       "       u'trap_dur_pri', u'trap_depth_pri', u'trap_slope_pri', u'trap_dur_sec',\n",
       "       u'trap_depth_sec', u'trap_slope_sec'],\n",
       "      dtype='object')"
      ]
     },
     "execution_count": 11,
     "metadata": {},
     "output_type": "execute_result"
    }
   ],
   "source": [
    "# Notice that the above does not yet have trapezoidal parameters.  There are two options to generate these.\n",
    "# Either we can set the fit_trap parameter, as follows:\n",
    "obs = pop.observe(fit_trap=True)\n",
    "print(len(obs))\n",
    "obs.columns"
   ]
  },
  {
   "cell_type": "code",
   "execution_count": 12,
   "metadata": {
    "collapsed": false
   },
   "outputs": [
    {
     "name": "stdout",
     "output_type": "stream",
     "text": [
      "1 loops, best of 3: 2.61 s per loop\n"
     ]
    }
   ],
   "source": [
    "# All things considered, this is still pretty fast if we just need to do it a few times:\n",
    "%timeit pop.observe(fit_trap=True)"
   ]
  },
  {
   "cell_type": "code",
   "execution_count": 13,
   "metadata": {
    "collapsed": false
   },
   "outputs": [
    {
     "name": "stdout",
     "output_type": "stream",
     "text": [
      "EB: Depth trained: R2=0.996803131152\n",
      "EB: Duration trained: R2=0.999143741679\n",
      "EB: Slope trained: R2=0.989257644072\n",
      "502\n"
     ]
    },
    {
     "data": {
      "text/plain": [
       "Index([u'host', u'period', u'ecc', u'w', u'inc', u'a', u'aR', u'b_pri',\n",
       "       u'b_sec', u'k', u'tra', u'occ', u'd_pri', u'd_sec', u'T14_pri',\n",
       "       u'T14_sec', u'T23_pri', u'T23_sec', u'dataspan', u'dutycycle',\n",
       "       u'b_target', u'flux_ratio', u'n_pri', u'n_sec', u'phase_sec',\n",
       "       u'trap_dur_pri_regr', u'trap_depth_pri_regr', u'trap_slope_pri_regr',\n",
       "       u'trap_dur_sec_regr', u'trap_depth_sec_regr', u'trap_slope_sec_regr'],\n",
       "      dtype='object')"
      ]
     },
     "execution_count": 13,
     "metadata": {},
     "output_type": "execute_result"
    }
   ],
   "source": [
    "# However, this is pretty slow if we want to do inference.  To help with this, we can \n",
    "# tell it to train & use a regression.  Training only happens once; by default with 10,000 \n",
    "# synthetic observations.  This takes a minute or so.\n",
    "obs = pop.observe(regr_trap=True)\n",
    "print(len(obs))\n",
    "obs.columns"
   ]
  },
  {
   "cell_type": "code",
   "execution_count": 14,
   "metadata": {
    "collapsed": false
   },
   "outputs": [
    {
     "name": "stdout",
     "output_type": "stream",
     "text": [
      "10 loops, best of 3: 33.4 ms per loop\n"
     ]
    }
   ],
   "source": [
    "# Subsequent calls are much faster\n",
    "%timeit pop.observe(regr_trap=True)"
   ]
  },
  {
   "cell_type": "code",
   "execution_count": 15,
   "metadata": {
    "collapsed": false
   },
   "outputs": [
    {
     "name": "stdout",
     "output_type": "stream",
     "text": [
      "1 loops, best of 3: 259 ms per loop\n"
     ]
    }
   ],
   "source": [
    "# Even generating a new stellar population & observing it is pretty quick\n",
    "%timeit pop.observe(regr_trap=True, new=True)"
   ]
  },
  {
   "cell_type": "code",
   "execution_count": 16,
   "metadata": {
    "collapsed": false
   },
   "outputs": [
    {
     "name": "stdout",
     "output_type": "stream",
     "text": [
      "10 loops, best of 3: 121 ms per loop\n"
     ]
    }
   ],
   "source": [
    "# Or again, you can just generate new orbits (rather than new binaries & new orbits)\n",
    "%timeit pop.observe(regr_trap=True, new_orbits=True)"
   ]
  },
  {
   "cell_type": "code",
   "execution_count": 17,
   "metadata": {
    "collapsed": false,
    "scrolled": true
   },
   "outputs": [
    {
     "name": "stdout",
     "output_type": "stream",
     "text": [
      "10169\n"
     ]
    },
    {
     "data": {
      "text/plain": [
       "Index([u'host', u'period', u'ecc', u'w', u'inc', u'a', u'aR', u'b_pri',\n",
       "       u'b_sec', u'k', u'tra', u'occ', u'd_pri', u'd_sec', u'T14_pri',\n",
       "       u'T14_sec', u'T23_pri', u'T23_sec', u'dataspan', u'dutycycle',\n",
       "       u'b_target', u'flux_ratio', u'n_pri', u'n_sec', u'phase_sec',\n",
       "       u'trap_dur_pri_regr', u'trap_depth_pri_regr', u'trap_slope_pri_regr',\n",
       "       u'trap_dur_sec_regr', u'trap_depth_sec_regr', u'trap_slope_sec_regr'],\n",
       "      dtype='object')"
      ]
     },
     "execution_count": 17,
     "metadata": {},
     "output_type": "execute_result"
    }
   ],
   "source": [
    "# Generating the training data used for the trapezoid shape regression above used\n",
    "# this function, which can be otherwise useful to sample >N random observations \n",
    "# from the existing population.  `trap_regr` defaults to `True` here.  \n",
    "# This function also takes `new` or `new_orbits` keywords.\n",
    "obs_pop = pop.get_N_observed(N=10000, new_orbits=True)\n",
    "print(len(obs_pop))\n",
    "obs_pop.columns"
   ]
  },
  {
   "cell_type": "code",
   "execution_count": 18,
   "metadata": {
    "collapsed": false
   },
   "outputs": [
    {
     "data": {
      "text/plain": [
       "(6.2699999999999996, 2.2443484577934858)"
      ]
     },
     "execution_count": 18,
     "metadata": {},
     "output_type": "execute_result"
    }
   ],
   "source": [
    "# We can now look, e.g. at the expected number of single/double eclipsing systems:\n",
    "query = '(n_pri < 3) & (n_sec < 3) & (n_pri==0 | n_sec==0)'\n",
    "N = 100\n",
    "n_obs = np.array([len(pop.observe(new_orbits=True).query(query)) for i in range(N)])\n",
    "n_obs.mean(), n_obs.std()"
   ]
  },
  {
   "cell_type": "code",
   "execution_count": 19,
   "metadata": {
    "collapsed": false
   },
   "outputs": [
    {
     "data": {
      "text/plain": [
       "(10.23, 2.8874036780471135)"
      ]
     },
     "execution_count": 19,
     "metadata": {},
     "output_type": "execute_result"
    }
   ],
   "source": [
    "# Try this again, this time using the empirical eccentricity distribution\n",
    "# (as opposed to the beta distribution with default params)---eccentricity matters!\n",
    "pop.ecc_empirical = True\n",
    "n_obs = np.array([len(pop.observe(new_orbits=True).query(query)) for i in range(N)])\n",
    "n_obs.mean(), n_obs.std()"
   ]
  },
  {
   "cell_type": "code",
   "execution_count": 20,
   "metadata": {
    "collapsed": false
   },
   "outputs": [],
   "source": [
    "# You can also save a trained model so that you can load it back and hit the ground running.\n",
    "pop.save('ebpop', overwrite=True)\n",
    "pop = KeplerBinaryPopulation.load('ebpop')"
   ]
  },
  {
   "cell_type": "code",
   "execution_count": 21,
   "metadata": {
    "collapsed": false
   },
   "outputs": [
    {
     "data": {
      "text/html": [
       "<div>\n",
       "<table border=\"1\" class=\"dataframe\">\n",
       "  <thead>\n",
       "    <tr style=\"text-align: right;\">\n",
       "      <th></th>\n",
       "      <th>host</th>\n",
       "      <th>period</th>\n",
       "      <th>ecc</th>\n",
       "      <th>w</th>\n",
       "      <th>inc</th>\n",
       "      <th>a</th>\n",
       "      <th>aR</th>\n",
       "      <th>b_pri</th>\n",
       "      <th>b_sec</th>\n",
       "      <th>k</th>\n",
       "      <th>...</th>\n",
       "      <th>flux_ratio</th>\n",
       "      <th>n_pri</th>\n",
       "      <th>n_sec</th>\n",
       "      <th>phase_sec</th>\n",
       "      <th>trap_dur_pri_regr</th>\n",
       "      <th>trap_depth_pri_regr</th>\n",
       "      <th>trap_slope_pri_regr</th>\n",
       "      <th>trap_dur_sec_regr</th>\n",
       "      <th>trap_depth_sec_regr</th>\n",
       "      <th>trap_slope_sec_regr</th>\n",
       "    </tr>\n",
       "  </thead>\n",
       "  <tbody>\n",
       "    <tr>\n",
       "      <th>0</th>\n",
       "      <td>546</td>\n",
       "      <td>19.935476</td>\n",
       "      <td>0.000000</td>\n",
       "      <td>0.344833</td>\n",
       "      <td>1.556793</td>\n",
       "      <td>2.398414e+12</td>\n",
       "      <td>44.941875</td>\n",
       "      <td>0.629302</td>\n",
       "      <td>0.629302</td>\n",
       "      <td>0.667462</td>\n",
       "      <td>...</td>\n",
       "      <td>0.074515</td>\n",
       "      <td>55</td>\n",
       "      <td>48</td>\n",
       "      <td>0.500000</td>\n",
       "      <td>0.194304</td>\n",
       "      <td>0.331414</td>\n",
       "      <td>2.362083</td>\n",
       "      <td>0.197460</td>\n",
       "      <td>0.055789</td>\n",
       "      <td>2.542610</td>\n",
       "    </tr>\n",
       "    <tr>\n",
       "      <th>1</th>\n",
       "      <td>612</td>\n",
       "      <td>1.069235</td>\n",
       "      <td>0.030276</td>\n",
       "      <td>4.568418</td>\n",
       "      <td>1.424856</td>\n",
       "      <td>3.150776e+11</td>\n",
       "      <td>6.442061</td>\n",
       "      <td>0.964877</td>\n",
       "      <td>0.908738</td>\n",
       "      <td>0.434965</td>\n",
       "      <td>...</td>\n",
       "      <td>0.020585</td>\n",
       "      <td>1184</td>\n",
       "      <td>1199</td>\n",
       "      <td>0.497233</td>\n",
       "      <td>0.058478</td>\n",
       "      <td>0.080409</td>\n",
       "      <td>2.368696</td>\n",
       "      <td>0.057238</td>\n",
       "      <td>0.011923</td>\n",
       "      <td>2.411930</td>\n",
       "    </tr>\n",
       "    <tr>\n",
       "      <th>2</th>\n",
       "      <td>1652</td>\n",
       "      <td>10.888951</td>\n",
       "      <td>0.000000</td>\n",
       "      <td>0.494733</td>\n",
       "      <td>1.527856</td>\n",
       "      <td>1.697257e+12</td>\n",
       "      <td>30.300001</td>\n",
       "      <td>1.300691</td>\n",
       "      <td>1.300691</td>\n",
       "      <td>0.880530</td>\n",
       "      <td>...</td>\n",
       "      <td>0.539813</td>\n",
       "      <td>89</td>\n",
       "      <td>93</td>\n",
       "      <td>0.500000</td>\n",
       "      <td>0.147233</td>\n",
       "      <td>0.100797</td>\n",
       "      <td>2.430906</td>\n",
       "      <td>0.148203</td>\n",
       "      <td>0.072054</td>\n",
       "      <td>2.396568</td>\n",
       "    </tr>\n",
       "    <tr>\n",
       "      <th>3</th>\n",
       "      <td>2016</td>\n",
       "      <td>14.983803</td>\n",
       "      <td>0.135394</td>\n",
       "      <td>3.861119</td>\n",
       "      <td>1.525659</td>\n",
       "      <td>1.970475e+12</td>\n",
       "      <td>35.954779</td>\n",
       "      <td>1.748630</td>\n",
       "      <td>1.462137</td>\n",
       "      <td>0.647213</td>\n",
       "      <td>...</td>\n",
       "      <td>0.070845</td>\n",
       "      <td>0</td>\n",
       "      <td>81</td>\n",
       "      <td>0.435025</td>\n",
       "      <td>NaN</td>\n",
       "      <td>NaN</td>\n",
       "      <td>NaN</td>\n",
       "      <td>0.088492</td>\n",
       "      <td>0.003549</td>\n",
       "      <td>2.548455</td>\n",
       "    </tr>\n",
       "    <tr>\n",
       "      <th>4</th>\n",
       "      <td>2377</td>\n",
       "      <td>12.536840</td>\n",
       "      <td>0.082197</td>\n",
       "      <td>1.143465</td>\n",
       "      <td>1.538545</td>\n",
       "      <td>1.899138e+12</td>\n",
       "      <td>30.408404</td>\n",
       "      <td>0.906140</td>\n",
       "      <td>1.052670</td>\n",
       "      <td>0.953555</td>\n",
       "      <td>...</td>\n",
       "      <td>0.821778</td>\n",
       "      <td>107</td>\n",
       "      <td>103</td>\n",
       "      <td>0.521744</td>\n",
       "      <td>0.188651</td>\n",
       "      <td>0.226335</td>\n",
       "      <td>2.423779</td>\n",
       "      <td>0.209617</td>\n",
       "      <td>0.160692</td>\n",
       "      <td>2.531009</td>\n",
       "    </tr>\n",
       "  </tbody>\n",
       "</table>\n",
       "<p>5 rows × 31 columns</p>\n",
       "</div>"
      ],
      "text/plain": [
       "   host     period       ecc         w       inc             a         aR  \\\n",
       "0   546  19.935476  0.000000  0.344833  1.556793  2.398414e+12  44.941875   \n",
       "1   612   1.069235  0.030276  4.568418  1.424856  3.150776e+11   6.442061   \n",
       "2  1652  10.888951  0.000000  0.494733  1.527856  1.697257e+12  30.300001   \n",
       "3  2016  14.983803  0.135394  3.861119  1.525659  1.970475e+12  35.954779   \n",
       "4  2377  12.536840  0.082197  1.143465  1.538545  1.899138e+12  30.408404   \n",
       "\n",
       "      b_pri     b_sec         k         ...          flux_ratio n_pri  n_sec  \\\n",
       "0  0.629302  0.629302  0.667462         ...            0.074515    55     48   \n",
       "1  0.964877  0.908738  0.434965         ...            0.020585  1184   1199   \n",
       "2  1.300691  1.300691  0.880530         ...            0.539813    89     93   \n",
       "3  1.748630  1.462137  0.647213         ...            0.070845     0     81   \n",
       "4  0.906140  1.052670  0.953555         ...            0.821778   107    103   \n",
       "\n",
       "   phase_sec  trap_dur_pri_regr  trap_depth_pri_regr  trap_slope_pri_regr  \\\n",
       "0   0.500000           0.194304             0.331414             2.362083   \n",
       "1   0.497233           0.058478             0.080409             2.368696   \n",
       "2   0.500000           0.147233             0.100797             2.430906   \n",
       "3   0.435025                NaN                  NaN                  NaN   \n",
       "4   0.521744           0.188651             0.226335             2.423779   \n",
       "\n",
       "   trap_dur_sec_regr  trap_depth_sec_regr  trap_slope_sec_regr  \n",
       "0           0.197460             0.055789             2.542610  \n",
       "1           0.057238             0.011923             2.411930  \n",
       "2           0.148203             0.072054             2.396568  \n",
       "3           0.088492             0.003549             2.548455  \n",
       "4           0.209617             0.160692             2.531009  \n",
       "\n",
       "[5 rows x 31 columns]"
      ]
     },
     "execution_count": 21,
     "metadata": {},
     "output_type": "execute_result"
    }
   ],
   "source": [
    "# No training necessary!\n",
    "pop.observe(regr_trap=True).head()"
   ]
  },
  {
   "cell_type": "code",
   "execution_count": null,
   "metadata": {
    "collapsed": true
   },
   "outputs": [],
   "source": []
  }
 ],
 "metadata": {
  "kernelspec": {
   "display_name": "Python 2",
   "language": "python",
   "name": "python2"
  },
  "language_info": {
   "codemirror_mode": {
    "name": "ipython",
    "version": 2
   },
   "file_extension": ".py",
   "mimetype": "text/x-python",
   "name": "python",
   "nbconvert_exporter": "python",
   "pygments_lexer": "ipython2",
   "version": "2.7.11"
  }
 },
 "nbformat": 4,
 "nbformat_minor": 0
}
