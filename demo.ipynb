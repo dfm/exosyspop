{
 "cells": [
  {
   "cell_type": "code",
   "execution_count": 1,
   "metadata": {
    "collapsed": false,
    "scrolled": true
   },
   "outputs": [
    {
     "name": "stderr",
     "output_type": "stream",
     "text": [
      "/u/tdm/anaconda/lib/python2.7/site-packages/pandas/core/indexing.py:426: SettingWithCopyWarning: \n",
      "A value is trying to be set on a copy of a slice from a DataFrame.\n",
      "Try using .loc[row_indexer,col_indexer] = value instead\n",
      "\n",
      "See the caveats in the documentation: http://pandas.pydata.org/pandas-docs/stable/indexing.html#indexing-view-versus-copy\n",
      "  self.obj[item] = s\n",
      "WARNING:root:progressbar not imported\n"
     ]
    }
   ],
   "source": [
    "import sys\n",
    "\n",
    "# This to get the peerless target star DataFrame for example purposes\n",
    "sys.path.append('/u/tdm/repositories/peerless/prediction')\n",
    "sys.path.append('/u/tdm/repositories/peerless')\n",
    "from targets import targets\n",
    "\n",
    "# The action is here. Depends on vespa & isochrones.\n",
    "from exosyspop.populations import KeplerBinaryPopulation"
   ]
  },
  {
   "cell_type": "code",
   "execution_count": 2,
   "metadata": {
    "collapsed": false,
    "scrolled": true
   },
   "outputs": [],
   "source": [
    "pop = KeplerBinaryPopulation(targets, fB=0.4)"
   ]
  },
  {
   "cell_type": "code",
   "execution_count": 3,
   "metadata": {
    "collapsed": false,
    "scrolled": true
   },
   "outputs": [
    {
     "name": "stdout",
     "output_type": "stream",
     "text": [
      "dmag regressor trained, R2=0.999232045787\n",
      "q regressor trained, R2=0.999646571181\n"
     ]
    },
    {
     "data": {
      "text/plain": [
       "array([        nan,         nan,         nan, ...,  0.45223187,\n",
       "        0.57815922,  0.30554178])"
      ]
     },
     "execution_count": 3,
     "metadata": {},
     "output_type": "execute_result"
    }
   ],
   "source": [
    "# Accessing secondary properties will initialize a secondary simulation,\n",
    "# calling pop._generate_binaries().  The first time this is called, the\n",
    "# secondary property regressors get trained.\n",
    "pop.radius_B"
   ]
  },
  {
   "cell_type": "code",
   "execution_count": 4,
   "metadata": {
    "collapsed": false,
    "scrolled": true
   },
   "outputs": [
    {
     "name": "stdout",
     "output_type": "stream",
     "text": [
      "[        nan         nan  0.53384353 ...,  0.43024235         nan\n",
      "  0.84651946]\n",
      "10 loops, best of 3: 88 ms per loop\n"
     ]
    }
   ],
   "source": [
    "# subsequent calls are much faster; e.g.\n",
    "pop._generate_binaries()\n",
    "print(pop.radius_B)\n",
    "%timeit pop._generate_binaries()"
   ]
  },
  {
   "cell_type": "code",
   "execution_count": 5,
   "metadata": {
    "collapsed": false
   },
   "outputs": [
    {
     "data": {
      "text/plain": [
       "array([  1.11245753e+05,   7.92807104e+02,   1.43041258e+05, ...,\n",
       "         3.66699423e+04,   5.70222238e+03,   1.30271621e+02])"
      ]
     },
     "execution_count": 5,
     "metadata": {},
     "output_type": "execute_result"
    }
   ],
   "source": [
    "# Similarly, accessing orbital properties will generate them\n",
    "pop.period"
   ]
  },
  {
   "cell_type": "markdown",
   "metadata": {},
   "source": [
    "# Synthetic observations"
   ]
  },
  {
   "cell_type": "code",
   "execution_count": 6,
   "metadata": {
    "collapsed": false,
    "scrolled": true
   },
   "outputs": [
    {
     "name": "stdout",
     "output_type": "stream",
     "text": [
      "536\n",
      "Index([u'index', u'period', u'ecc', u'w', u'inc', u'a', u'aR', u'b_pri',\n",
      "       u'b_sec', u'k', u'tra', u'occ', u'd_pri', u'd_sec', u'T14_pri',\n",
      "       u'T14_sec', u'T23_pri', u'T23_sec', u'dataspan', u'dutycycle',\n",
      "       u'flux_ratio', u'n_pri', u'n_sec'],\n",
      "      dtype='object')\n"
     ]
    },
    {
     "data": {
      "text/html": [
       "<div>\n",
       "<table border=\"1\" class=\"dataframe\">\n",
       "  <thead>\n",
       "    <tr style=\"text-align: right;\">\n",
       "      <th></th>\n",
       "      <th>index</th>\n",
       "      <th>period</th>\n",
       "      <th>ecc</th>\n",
       "      <th>w</th>\n",
       "      <th>inc</th>\n",
       "      <th>a</th>\n",
       "      <th>aR</th>\n",
       "      <th>b_pri</th>\n",
       "      <th>b_sec</th>\n",
       "      <th>k</th>\n",
       "      <th>...</th>\n",
       "      <th>d_sec</th>\n",
       "      <th>T14_pri</th>\n",
       "      <th>T14_sec</th>\n",
       "      <th>T23_pri</th>\n",
       "      <th>T23_sec</th>\n",
       "      <th>dataspan</th>\n",
       "      <th>dutycycle</th>\n",
       "      <th>flux_ratio</th>\n",
       "      <th>n_pri</th>\n",
       "      <th>n_sec</th>\n",
       "    </tr>\n",
       "  </thead>\n",
       "  <tbody>\n",
       "    <tr>\n",
       "      <th>0</th>\n",
       "      <td>531</td>\n",
       "      <td>3.585071</td>\n",
       "      <td>0.000000</td>\n",
       "      <td>3.606254</td>\n",
       "      <td>1.516895</td>\n",
       "      <td>7.757489e+11</td>\n",
       "      <td>12.699439</td>\n",
       "      <td>0.684183</td>\n",
       "      <td>0.684183</td>\n",
       "      <td>0.654988</td>\n",
       "      <td>...</td>\n",
       "      <td>0.062051</td>\n",
       "      <td>0.135931</td>\n",
       "      <td>0.135931</td>\n",
       "      <td>0</td>\n",
       "      <td>0</td>\n",
       "      <td>1459.789</td>\n",
       "      <td>0.8750</td>\n",
       "      <td>0.089177</td>\n",
       "      <td>362</td>\n",
       "      <td>357</td>\n",
       "    </tr>\n",
       "    <tr>\n",
       "      <th>1</th>\n",
       "      <td>557</td>\n",
       "      <td>117.809806</td>\n",
       "      <td>0.939598</td>\n",
       "      <td>5.075881</td>\n",
       "      <td>1.525295</td>\n",
       "      <td>7.944181e+12</td>\n",
       "      <td>129.467282</td>\n",
       "      <td>5.664627</td>\n",
       "      <td>0.367330</td>\n",
       "      <td>0.653539</td>\n",
       "      <td>...</td>\n",
       "      <td>0.069027</td>\n",
       "      <td>0.000000</td>\n",
       "      <td>0.085192</td>\n",
       "      <td>0</td>\n",
       "      <td>0</td>\n",
       "      <td>1459.789</td>\n",
       "      <td>0.6988</td>\n",
       "      <td>0.074392</td>\n",
       "      <td>0</td>\n",
       "      <td>8</td>\n",
       "    </tr>\n",
       "    <tr>\n",
       "      <th>2</th>\n",
       "      <td>707</td>\n",
       "      <td>3.414607</td>\n",
       "      <td>0.773348</td>\n",
       "      <td>1.007553</td>\n",
       "      <td>1.287839</td>\n",
       "      <td>7.346569e+11</td>\n",
       "      <td>13.283652</td>\n",
       "      <td>0.901315</td>\n",
       "      <td>4.306891</td>\n",
       "      <td>0.576628</td>\n",
       "      <td>...</td>\n",
       "      <td>0.000000</td>\n",
       "      <td>0.042327</td>\n",
       "      <td>0.000000</td>\n",
       "      <td>0</td>\n",
       "      <td>0</td>\n",
       "      <td>1459.789</td>\n",
       "      <td>0.8749</td>\n",
       "      <td>0.038368</td>\n",
       "      <td>358</td>\n",
       "      <td>0</td>\n",
       "    </tr>\n",
       "    <tr>\n",
       "      <th>3</th>\n",
       "      <td>1155</td>\n",
       "      <td>21.369804</td>\n",
       "      <td>0.272991</td>\n",
       "      <td>3.697487</td>\n",
       "      <td>1.528740</td>\n",
       "      <td>2.742820e+12</td>\n",
       "      <td>41.833898</td>\n",
       "      <td>1.901730</td>\n",
       "      <td>1.422804</td>\n",
       "      <td>0.776050</td>\n",
       "      <td>...</td>\n",
       "      <td>0.026571</td>\n",
       "      <td>0.000000</td>\n",
       "      <td>0.145487</td>\n",
       "      <td>0</td>\n",
       "      <td>0</td>\n",
       "      <td>1459.789</td>\n",
       "      <td>0.8752</td>\n",
       "      <td>0.286366</td>\n",
       "      <td>0</td>\n",
       "      <td>60</td>\n",
       "    </tr>\n",
       "    <tr>\n",
       "      <th>4</th>\n",
       "      <td>2300</td>\n",
       "      <td>1.897511</td>\n",
       "      <td>0.727851</td>\n",
       "      <td>6.194288</td>\n",
       "      <td>1.026348</td>\n",
       "      <td>5.394446e+11</td>\n",
       "      <td>6.924148</td>\n",
       "      <td>1.802916</td>\n",
       "      <td>1.584054</td>\n",
       "      <td>0.732371</td>\n",
       "      <td>...</td>\n",
       "      <td>0.008110</td>\n",
       "      <td>0.000000</td>\n",
       "      <td>0.046175</td>\n",
       "      <td>0</td>\n",
       "      <td>0</td>\n",
       "      <td>1459.789</td>\n",
       "      <td>0.8751</td>\n",
       "      <td>0.352192</td>\n",
       "      <td>0</td>\n",
       "      <td>681</td>\n",
       "    </tr>\n",
       "  </tbody>\n",
       "</table>\n",
       "<p>5 rows × 23 columns</p>\n",
       "</div>"
      ],
      "text/plain": [
       "   index      period       ecc         w       inc             a          aR  \\\n",
       "0    531    3.585071  0.000000  3.606254  1.516895  7.757489e+11   12.699439   \n",
       "1    557  117.809806  0.939598  5.075881  1.525295  7.944181e+12  129.467282   \n",
       "2    707    3.414607  0.773348  1.007553  1.287839  7.346569e+11   13.283652   \n",
       "3   1155   21.369804  0.272991  3.697487  1.528740  2.742820e+12   41.833898   \n",
       "4   2300    1.897511  0.727851  6.194288  1.026348  5.394446e+11    6.924148   \n",
       "\n",
       "      b_pri     b_sec         k  ...       d_sec   T14_pri   T14_sec  T23_pri  \\\n",
       "0  0.684183  0.684183  0.654988  ...    0.062051  0.135931  0.135931        0   \n",
       "1  5.664627  0.367330  0.653539  ...    0.069027  0.000000  0.085192        0   \n",
       "2  0.901315  4.306891  0.576628  ...    0.000000  0.042327  0.000000        0   \n",
       "3  1.901730  1.422804  0.776050  ...    0.026571  0.000000  0.145487        0   \n",
       "4  1.802916  1.584054  0.732371  ...    0.008110  0.000000  0.046175        0   \n",
       "\n",
       "   T23_sec  dataspan  dutycycle  flux_ratio  n_pri  n_sec  \n",
       "0        0  1459.789     0.8750    0.089177    362    357  \n",
       "1        0  1459.789     0.6988    0.074392      0      8  \n",
       "2        0  1459.789     0.8749    0.038368    358      0  \n",
       "3        0  1459.789     0.8752    0.286366      0     60  \n",
       "4        0  1459.789     0.8751    0.352192      0    681  \n",
       "\n",
       "[5 rows x 23 columns]"
      ]
     },
     "execution_count": 6,
     "metadata": {},
     "output_type": "execute_result"
    }
   ],
   "source": [
    "# Now, we can observe and see what we see.  This takes into account\n",
    "# duty cycle & data span, as well as geometry.\n",
    "obs = pop.observe()\n",
    "print(len(obs))\n",
    "print(obs.columns)\n",
    "obs.head()"
   ]
  },
  {
   "cell_type": "code",
   "execution_count": 7,
   "metadata": {
    "collapsed": false
   },
   "outputs": [
    {
     "name": "stdout",
     "output_type": "stream",
     "text": [
      "10 loops, best of 3: 170 ms per loop\n"
     ]
    }
   ],
   "source": [
    "# This is pretty fast, even when generating a new population each time:\n",
    "%timeit pop.observe(new=True)"
   ]
  },
  {
   "cell_type": "code",
   "execution_count": 8,
   "metadata": {
    "collapsed": false
   },
   "outputs": [
    {
     "name": "stdout",
     "output_type": "stream",
     "text": [
      "10 loops, best of 3: 81.9 ms per loop\n"
     ]
    }
   ],
   "source": [
    "# Even faster if we only generate new orbits.\n",
    "%timeit pop.observe(new_orbits=True)"
   ]
  },
  {
   "cell_type": "code",
   "execution_count": 9,
   "metadata": {
    "collapsed": false
   },
   "outputs": [
    {
     "data": {
      "text/plain": [
       "(535.49000000000001, 25.06212082007427)"
      ]
     },
     "execution_count": 9,
     "metadata": {},
     "output_type": "execute_result"
    }
   ],
   "source": [
    "# So we can predict the expected number of observations pretty easily.\n",
    "import numpy as np\n",
    "N = 100\n",
    "n_obs = np.array([len(pop.observe(new_orbits=True)) for i in range(N)])\n",
    "n_obs.mean(), n_obs.std()"
   ]
  },
  {
   "cell_type": "code",
   "execution_count": 10,
   "metadata": {
    "collapsed": false
   },
   "outputs": [
    {
     "name": "stdout",
     "output_type": "stream",
     "text": [
      "555\n"
     ]
    },
    {
     "data": {
      "text/plain": [
       "Index([u'index', u'period', u'ecc', u'w', u'inc', u'a', u'aR', u'b_pri',\n",
       "       u'b_sec', u'k', u'tra', u'occ', u'd_pri', u'd_sec', u'T14_pri',\n",
       "       u'T14_sec', u'T23_pri', u'T23_sec', u'dataspan', u'dutycycle',\n",
       "       u'flux_ratio', u'n_pri', u'n_sec', u'trap_dur_pri', u'trap_depth_pri',\n",
       "       u'trap_slope_pri', u'trap_dur_sec', u'trap_depth_sec',\n",
       "       u'trap_slope_sec'],\n",
       "      dtype='object')"
      ]
     },
     "execution_count": 10,
     "metadata": {},
     "output_type": "execute_result"
    }
   ],
   "source": [
    "# Notice that the above does not yet have trapezoidal parameters.  There are two options to generate these.\n",
    "# Either we can set the fit_trap parameter, as follows:\n",
    "obs = pop.observe(fit_trap=True)\n",
    "print(len(obs))\n",
    "obs.columns"
   ]
  },
  {
   "cell_type": "code",
   "execution_count": null,
   "metadata": {
    "collapsed": false
   },
   "outputs": [
    {
     "name": "stdout",
     "output_type": "stream",
     "text": [
      "1 loops, best of 3: 2.43 s per loop\n"
     ]
    }
   ],
   "source": [
    "# All things considered, this is still pretty fast if we just need to do it a few times:\n",
    "%timeit pop.observe(fit_trap=True)"
   ]
  },
  {
   "cell_type": "code",
   "execution_count": null,
   "metadata": {
    "collapsed": false
   },
   "outputs": [],
   "source": [
    "# However, this is pretty slow if we want to do inference.  To help with this, we can \n",
    "# tell it to train & use a regression.  Training only happens once; by default with 10,000 \n",
    "# synthetic observations.  This takes a minute or so.\n",
    "obs = pop.observe(regr_trap=True)\n",
    "print(len(obs))\n",
    "obs.columns"
   ]
  },
  {
   "cell_type": "code",
   "execution_count": null,
   "metadata": {
    "collapsed": false
   },
   "outputs": [],
   "source": [
    "# Subsequent calls are much faster\n",
    "%timeit pop.observe(regr_trap=True)"
   ]
  },
  {
   "cell_type": "code",
   "execution_count": null,
   "metadata": {
    "collapsed": false
   },
   "outputs": [],
   "source": [
    "# Even generating a new stellar population & observing it is pretty quick\n",
    "%timeit pop.observe(regr_trap=True, new=True)"
   ]
  },
  {
   "cell_type": "code",
   "execution_count": null,
   "metadata": {
    "collapsed": false
   },
   "outputs": [],
   "source": [
    "# Or again, you can just generate new orbits (rather than new binaries & new orbits)\n",
    "%timeit pop.observe(regr_trap=True, new_orbits=True)"
   ]
  },
  {
   "cell_type": "code",
   "execution_count": null,
   "metadata": {
    "collapsed": false,
    "scrolled": true
   },
   "outputs": [],
   "source": [
    "# Generating the training data used for the trapezoid shape regression above used\n",
    "# this function, which can be otherwise useful to sample >N random observations \n",
    "# from the existing population.  `trap_regr` defaults to `True` here.  \n",
    "# This function also takes `new` or `new_orbits` keywords.\n",
    "obs_pop = pop.get_N_observed(N=10000, new_orbits=True)\n",
    "print(len(obs_pop))\n",
    "obs_pop.columns"
   ]
  },
  {
   "cell_type": "code",
   "execution_count": null,
   "metadata": {
    "collapsed": false
   },
   "outputs": [],
   "source": [
    "# We can now look, e.g. at the expected number of single/double eclipsing systems:\n",
    "query = '(n_pri < 3) & (n_sec < 3) & (n_pri==0 | n_sec==0)'\n",
    "N = 100\n",
    "n_obs = np.array([len(pop.observe(new_orbits=True).query(query)) for i in range(N)])\n",
    "n_obs.mean(), n_obs.std()"
   ]
  },
  {
   "cell_type": "code",
   "execution_count": null,
   "metadata": {
    "collapsed": true
   },
   "outputs": [],
   "source": []
  }
 ],
 "metadata": {
  "kernelspec": {
   "display_name": "Python 2",
   "language": "python",
   "name": "python2"
  },
  "language_info": {
   "codemirror_mode": {
    "name": "ipython",
    "version": 2
   },
   "file_extension": ".py",
   "mimetype": "text/x-python",
   "name": "python",
   "nbconvert_exporter": "python",
   "pygments_lexer": "ipython2",
   "version": "2.7.11"
  }
 },
 "nbformat": 4,
 "nbformat_minor": 0
}
