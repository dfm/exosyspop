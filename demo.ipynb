{
 "cells": [
  {
   "cell_type": "code",
   "execution_count": 1,
   "metadata": {
    "collapsed": false,
    "scrolled": false
   },
   "outputs": [
    {
     "name": "stderr",
     "output_type": "stream",
     "text": [
      "WARNING:root:progressbar not imported\n"
     ]
    }
   ],
   "source": [
    "import sys\n",
    "\n",
    "## This to get the peerless target star DataFrame for example purposes\n",
    "#sys.path.append('/u/tdm/repositories/peerless/prediction')\n",
    "#sys.path.append('/u/tdm/repositories/peerless')\n",
    "#from targets import targets\n",
    "\n",
    "\n",
    "import pandas as pd\n",
    "targets = pd.read_hdf('targets.h5')\n",
    "\n",
    "# The action is here. Depends on vespa & isochrones.\n",
    "from exosyspop.populations import KeplerBinaryPopulation"
   ]
  },
  {
   "cell_type": "code",
   "execution_count": 2,
   "metadata": {
    "collapsed": false,
    "scrolled": true
   },
   "outputs": [],
   "source": [
    "pop = KeplerBinaryPopulation(targets, fB=0.4)"
   ]
  },
  {
   "cell_type": "code",
   "execution_count": 3,
   "metadata": {
    "collapsed": false,
    "scrolled": true
   },
   "outputs": [
    {
     "name": "stdout",
     "output_type": "stream",
     "text": [
      "dmag regressor trained, R2=0.99960881868\n",
      "qR regressor trained, R2=0.99952796003\n"
     ]
    },
    {
     "data": {
      "text/plain": [
       "array([        nan,  0.17176369,         nan, ...,  0.48390194,\n",
       "        0.28676136,  0.15617544])"
      ]
     },
     "execution_count": 3,
     "metadata": {},
     "output_type": "execute_result"
    }
   ],
   "source": [
    "# Accessing secondary properties will initialize a secondary simulation,\n",
    "# calling pop._generate_binaries().  The first time this is called, the\n",
    "# secondary property regressors get trained.\n",
    "pop.radius_B"
   ]
  },
  {
   "cell_type": "code",
   "execution_count": 4,
   "metadata": {
    "collapsed": false,
    "scrolled": true
   },
   "outputs": [
    {
     "name": "stdout",
     "output_type": "stream",
     "text": [
      "[        nan  0.39871054  0.21179369 ...,         nan         nan\n",
      "  0.81898462]\n",
      "10 loops, best of 3: 97.5 ms per loop\n"
     ]
    }
   ],
   "source": [
    "# subsequent calls are much faster; e.g.\n",
    "pop._generate_binaries()\n",
    "print(pop.radius_B)\n",
    "%timeit pop._generate_binaries()"
   ]
  },
  {
   "cell_type": "code",
   "execution_count": 5,
   "metadata": {
    "collapsed": false
   },
   "outputs": [
    {
     "name": "stdout",
     "output_type": "stream",
     "text": [
      "[        nan         nan  0.3948714  ...,         nan         nan\n",
      "  0.81833702]\n",
      "1 loops, best of 3: 360 ms per loop\n"
     ]
    }
   ],
   "source": [
    "# If physical accuracy is important, you can also choose to generate binary properties\n",
    "# directly from the isochrone, but it's a factor of a few slower:\n",
    "pop._generate_binaries(use_ic=True)\n",
    "print(pop.radius_B)\n",
    "%timeit pop._generate_binaries(use_ic=True)"
   ]
  },
  {
   "cell_type": "code",
   "execution_count": 6,
   "metadata": {
    "collapsed": false
   },
   "outputs": [
    {
     "data": {
      "text/plain": [
       "array([  2.38211674e+01,   2.57754117e+04,   1.10169243e+07, ...,\n",
       "         1.19633825e+02,   8.93097784e+01,   3.10943769e+02])"
      ]
     },
     "execution_count": 6,
     "metadata": {},
     "output_type": "execute_result"
    }
   ],
   "source": [
    "# Similarly, accessing orbital properties will generate them\n",
    "pop.period"
   ]
  },
  {
   "cell_type": "markdown",
   "metadata": {},
   "source": [
    "# Synthetic observations"
   ]
  },
  {
   "cell_type": "code",
   "execution_count": 7,
   "metadata": {
    "collapsed": false,
    "scrolled": true
   },
   "outputs": [
    {
     "name": "stdout",
     "output_type": "stream",
     "text": [
      "528\n",
      "Index([u'index', u'period', u'ecc', u'w', u'inc', u'a', u'aR', u'b_pri',\n",
      "       u'b_sec', u'k', u'tra', u'occ', u'd_pri', u'd_sec', u'T14_pri',\n",
      "       u'T14_sec', u'T23_pri', u'T23_sec', u'dataspan', u'dutycycle',\n",
      "       u'flux_ratio', u'n_pri', u'n_sec', u'phase_sec'],\n",
      "      dtype='object')\n"
     ]
    },
    {
     "data": {
      "text/html": [
       "<div>\n",
       "<table border=\"1\" class=\"dataframe\">\n",
       "  <thead>\n",
       "    <tr style=\"text-align: right;\">\n",
       "      <th></th>\n",
       "      <th>index</th>\n",
       "      <th>period</th>\n",
       "      <th>ecc</th>\n",
       "      <th>w</th>\n",
       "      <th>inc</th>\n",
       "      <th>a</th>\n",
       "      <th>aR</th>\n",
       "      <th>b_pri</th>\n",
       "      <th>b_sec</th>\n",
       "      <th>k</th>\n",
       "      <th>...</th>\n",
       "      <th>T14_pri</th>\n",
       "      <th>T14_sec</th>\n",
       "      <th>T23_pri</th>\n",
       "      <th>T23_sec</th>\n",
       "      <th>dataspan</th>\n",
       "      <th>dutycycle</th>\n",
       "      <th>flux_ratio</th>\n",
       "      <th>n_pri</th>\n",
       "      <th>n_sec</th>\n",
       "      <th>phase_sec</th>\n",
       "    </tr>\n",
       "  </thead>\n",
       "  <tbody>\n",
       "    <tr>\n",
       "      <th>0</th>\n",
       "      <td>457</td>\n",
       "      <td>171.547561</td>\n",
       "      <td>0.327245</td>\n",
       "      <td>2.608724</td>\n",
       "      <td>1.557700</td>\n",
       "      <td>1.114594e+13</td>\n",
       "      <td>143.579215</td>\n",
       "      <td>1.439583</td>\n",
       "      <td>2.013657</td>\n",
       "      <td>0.787995</td>\n",
       "      <td>...</td>\n",
       "      <td>0.326802</td>\n",
       "      <td>0.000000</td>\n",
       "      <td>0.000000</td>\n",
       "      <td>0.000000</td>\n",
       "      <td>1459.789</td>\n",
       "      <td>0.6988</td>\n",
       "      <td>0.460116</td>\n",
       "      <td>7</td>\n",
       "      <td>0</td>\n",
       "      <td>0.320531</td>\n",
       "    </tr>\n",
       "    <tr>\n",
       "      <th>1</th>\n",
       "      <td>955</td>\n",
       "      <td>1.048937</td>\n",
       "      <td>0.206638</td>\n",
       "      <td>3.392715</td>\n",
       "      <td>1.270235</td>\n",
       "      <td>3.305033e+11</td>\n",
       "      <td>6.333494</td>\n",
       "      <td>1.892166</td>\n",
       "      <td>1.707340</td>\n",
       "      <td>0.716126</td>\n",
       "      <td>...</td>\n",
       "      <td>0.000000</td>\n",
       "      <td>0.008910</td>\n",
       "      <td>0.000000</td>\n",
       "      <td>0.000000</td>\n",
       "      <td>1421.326</td>\n",
       "      <td>0.8758</td>\n",
       "      <td>0.122219</td>\n",
       "      <td>0</td>\n",
       "      <td>1205</td>\n",
       "      <td>0.373268</td>\n",
       "    </tr>\n",
       "    <tr>\n",
       "      <th>2</th>\n",
       "      <td>1190</td>\n",
       "      <td>17.651124</td>\n",
       "      <td>0.006165</td>\n",
       "      <td>1.932932</td>\n",
       "      <td>1.549319</td>\n",
       "      <td>2.307329e+12</td>\n",
       "      <td>36.772616</td>\n",
       "      <td>0.785148</td>\n",
       "      <td>0.794254</td>\n",
       "      <td>0.669970</td>\n",
       "      <td>...</td>\n",
       "      <td>0.224013</td>\n",
       "      <td>0.225859</td>\n",
       "      <td>0.000000</td>\n",
       "      <td>0.000000</td>\n",
       "      <td>1459.789</td>\n",
       "      <td>0.8755</td>\n",
       "      <td>0.081145</td>\n",
       "      <td>71</td>\n",
       "      <td>72</td>\n",
       "      <td>0.498610</td>\n",
       "    </tr>\n",
       "    <tr>\n",
       "      <th>3</th>\n",
       "      <td>1624</td>\n",
       "      <td>1.198139</td>\n",
       "      <td>0.736528</td>\n",
       "      <td>0.605113</td>\n",
       "      <td>1.442564</td>\n",
       "      <td>3.222687e+11</td>\n",
       "      <td>5.728336</td>\n",
       "      <td>0.236197</td>\n",
       "      <td>0.576843</td>\n",
       "      <td>0.193720</td>\n",
       "      <td>...</td>\n",
       "      <td>0.037713</td>\n",
       "      <td>0.082141</td>\n",
       "      <td>0.024745</td>\n",
       "      <td>0.044096</td>\n",
       "      <td>1459.789</td>\n",
       "      <td>0.8752</td>\n",
       "      <td>0.001966</td>\n",
       "      <td>1083</td>\n",
       "      <td>1062</td>\n",
       "      <td>0.890667</td>\n",
       "    </tr>\n",
       "    <tr>\n",
       "      <th>4</th>\n",
       "      <td>1636</td>\n",
       "      <td>11.633953</td>\n",
       "      <td>0.644317</td>\n",
       "      <td>1.873377</td>\n",
       "      <td>1.432094</td>\n",
       "      <td>1.675218e+12</td>\n",
       "      <td>19.012064</td>\n",
       "      <td>0.951885</td>\n",
       "      <td>3.993565</td>\n",
       "      <td>0.191347</td>\n",
       "      <td>...</td>\n",
       "      <td>0.066732</td>\n",
       "      <td>0.000000</td>\n",
       "      <td>0.000000</td>\n",
       "      <td>0.000000</td>\n",
       "      <td>1459.789</td>\n",
       "      <td>0.8748</td>\n",
       "      <td>0.001148</td>\n",
       "      <td>113</td>\n",
       "      <td>0</td>\n",
       "      <td>0.346530</td>\n",
       "    </tr>\n",
       "  </tbody>\n",
       "</table>\n",
       "<p>5 rows × 24 columns</p>\n",
       "</div>"
      ],
      "text/plain": [
       "   index      period       ecc         w       inc             a          aR  \\\n",
       "0    457  171.547561  0.327245  2.608724  1.557700  1.114594e+13  143.579215   \n",
       "1    955    1.048937  0.206638  3.392715  1.270235  3.305033e+11    6.333494   \n",
       "2   1190   17.651124  0.006165  1.932932  1.549319  2.307329e+12   36.772616   \n",
       "3   1624    1.198139  0.736528  0.605113  1.442564  3.222687e+11    5.728336   \n",
       "4   1636   11.633953  0.644317  1.873377  1.432094  1.675218e+12   19.012064   \n",
       "\n",
       "      b_pri     b_sec         k    ...       T14_pri   T14_sec   T23_pri  \\\n",
       "0  1.439583  2.013657  0.787995    ...      0.326802  0.000000  0.000000   \n",
       "1  1.892166  1.707340  0.716126    ...      0.000000  0.008910  0.000000   \n",
       "2  0.785148  0.794254  0.669970    ...      0.224013  0.225859  0.000000   \n",
       "3  0.236197  0.576843  0.193720    ...      0.037713  0.082141  0.024745   \n",
       "4  0.951885  3.993565  0.191347    ...      0.066732  0.000000  0.000000   \n",
       "\n",
       "    T23_sec  dataspan  dutycycle  flux_ratio  n_pri  n_sec  phase_sec  \n",
       "0  0.000000  1459.789     0.6988    0.460116      7      0   0.320531  \n",
       "1  0.000000  1421.326     0.8758    0.122219      0   1205   0.373268  \n",
       "2  0.000000  1459.789     0.8755    0.081145     71     72   0.498610  \n",
       "3  0.044096  1459.789     0.8752    0.001966   1083   1062   0.890667  \n",
       "4  0.000000  1459.789     0.8748    0.001148    113      0   0.346530  \n",
       "\n",
       "[5 rows x 24 columns]"
      ]
     },
     "execution_count": 7,
     "metadata": {},
     "output_type": "execute_result"
    }
   ],
   "source": [
    "# Now, we can observe and see what we see.  This takes into account\n",
    "# duty cycle & data span, as well as geometry.\n",
    "obs = pop.observe()\n",
    "print(len(obs))\n",
    "print(obs.columns)\n",
    "obs.head()"
   ]
  },
  {
   "cell_type": "code",
   "execution_count": 8,
   "metadata": {
    "collapsed": false
   },
   "outputs": [
    {
     "name": "stdout",
     "output_type": "stream",
     "text": [
      "1 loops, best of 3: 224 ms per loop\n"
     ]
    }
   ],
   "source": [
    "# This is pretty fast, even when generating a new population each time:\n",
    "%timeit pop.observe(new=True)"
   ]
  },
  {
   "cell_type": "code",
   "execution_count": 9,
   "metadata": {
    "collapsed": false
   },
   "outputs": [
    {
     "name": "stdout",
     "output_type": "stream",
     "text": [
      "10 loops, best of 3: 92.5 ms per loop\n"
     ]
    }
   ],
   "source": [
    "# Even faster if we only generate new orbits.\n",
    "%timeit pop.observe(new_orbits=True)"
   ]
  },
  {
   "cell_type": "code",
   "execution_count": 10,
   "metadata": {
    "collapsed": true
   },
   "outputs": [],
   "source": [
    "import logging\n",
    "rootLogger = logging.getLogger()\n",
    "rootLogger.setLevel(logging.DEBUG)"
   ]
  },
  {
   "cell_type": "code",
   "execution_count": 12,
   "metadata": {
    "collapsed": false
   },
   "outputs": [
    {
     "name": "stderr",
     "output_type": "stream",
     "text": [
      "DEBUG:root:Generating binary companions for 39626 stars...\n",
      "DEBUG:root:Generating orbits for 39626 stars...\n",
      "DEBUG:root:17 orbits assigned to ecc=rayleigh(0.03)\n",
      "DEBUG:root:0 orbits assigned to ecc=0\n"
     ]
    },
    {
     "name": "stdout",
     "output_type": "stream",
     "text": [
      " "
     ]
    }
   ],
   "source": [
    "%prun pop.observe(new=True)"
   ]
  },
  {
   "cell_type": "code",
   "execution_count": 11,
   "metadata": {
    "collapsed": false
   },
   "outputs": [
    {
     "data": {
      "text/plain": [
       "(525.24000000000001, 21.941795733257567)"
      ]
     },
     "execution_count": 11,
     "metadata": {},
     "output_type": "execute_result"
    }
   ],
   "source": [
    "# So we can predict the expected number of observations pretty easily.\n",
    "import numpy as np\n",
    "N = 100\n",
    "n_obs = np.array([len(pop.observe(new_orbits=True)) for i in range(N)])\n",
    "n_obs.mean(), n_obs.std()"
   ]
  },
  {
   "cell_type": "code",
   "execution_count": null,
   "metadata": {
    "collapsed": true
   },
   "outputs": [],
   "source": []
  },
  {
   "cell_type": "code",
   "execution_count": 11,
   "metadata": {
    "collapsed": false
   },
   "outputs": [
    {
     "name": "stdout",
     "output_type": "stream",
     "text": [
      "545\n"
     ]
    },
    {
     "data": {
      "text/plain": [
       "Index([u'index', u'period', u'ecc', u'w', u'inc', u'a', u'aR', u'b_pri',\n",
       "       u'b_sec', u'k', u'tra', u'occ', u'd_pri', u'd_sec', u'T14_pri',\n",
       "       u'T14_sec', u'T23_pri', u'T23_sec', u'dataspan', u'dutycycle',\n",
       "       u'flux_ratio', u'n_pri', u'n_sec', u'phase_sec', u'trap_dur_pri',\n",
       "       u'trap_depth_pri', u'trap_slope_pri', u'trap_dur_sec',\n",
       "       u'trap_depth_sec', u'trap_slope_sec'],\n",
       "      dtype='object')"
      ]
     },
     "execution_count": 11,
     "metadata": {},
     "output_type": "execute_result"
    }
   ],
   "source": [
    "# Notice that the above does not yet have trapezoidal parameters.  There are two options to generate these.\n",
    "# Either we can set the fit_trap parameter, as follows:\n",
    "obs = pop.observe(fit_trap=True)\n",
    "print(len(obs))\n",
    "obs.columns"
   ]
  },
  {
   "cell_type": "code",
   "execution_count": 12,
   "metadata": {
    "collapsed": false
   },
   "outputs": [
    {
     "name": "stdout",
     "output_type": "stream",
     "text": [
      "1 loops, best of 3: 2.51 s per loop\n"
     ]
    }
   ],
   "source": [
    "# All things considered, this is still pretty fast if we just need to do it a few times:\n",
    "%timeit pop.observe(fit_trap=True)"
   ]
  },
  {
   "cell_type": "code",
   "execution_count": 13,
   "metadata": {
    "collapsed": false
   },
   "outputs": [
    {
     "name": "stdout",
     "output_type": "stream",
     "text": [
      "Depth trained: R2=0.997913681986\n",
      "Duration trained: R2=0.999125594333\n",
      "Slope trained: R2=0.998668293268\n",
      "534\n"
     ]
    },
    {
     "data": {
      "text/plain": [
       "Index([u'index', u'period', u'ecc', u'w', u'inc', u'a', u'aR', u'b_pri',\n",
       "       u'b_sec', u'k', u'tra', u'occ', u'd_pri', u'd_sec', u'T14_pri',\n",
       "       u'T14_sec', u'T23_pri', u'T23_sec', u'dataspan', u'dutycycle',\n",
       "       u'flux_ratio', u'n_pri', u'n_sec', u'phase_sec', u'trap_dur_pri_regr',\n",
       "       u'trap_depth_pri_regr', u'trap_slope_pri_regr', u'trap_dur_sec_regr',\n",
       "       u'trap_depth_sec_regr', u'trap_slope_sec_regr'],\n",
       "      dtype='object')"
      ]
     },
     "execution_count": 13,
     "metadata": {},
     "output_type": "execute_result"
    }
   ],
   "source": [
    "# However, this is pretty slow if we want to do inference.  To help with this, we can \n",
    "# tell it to train & use a regression.  Training only happens once; by default with 10,000 \n",
    "# synthetic observations.  This takes a minute or so.\n",
    "obs = pop.observe(regr_trap=True)\n",
    "print(len(obs))\n",
    "obs.columns"
   ]
  },
  {
   "cell_type": "code",
   "execution_count": 14,
   "metadata": {
    "collapsed": false
   },
   "outputs": [
    {
     "name": "stdout",
     "output_type": "stream",
     "text": [
      "10 loops, best of 3: 33 ms per loop\n"
     ]
    }
   ],
   "source": [
    "# Subsequent calls are much faster\n",
    "%timeit pop.observe(regr_trap=True)"
   ]
  },
  {
   "cell_type": "code",
   "execution_count": 15,
   "metadata": {
    "collapsed": false
   },
   "outputs": [
    {
     "name": "stdout",
     "output_type": "stream",
     "text": [
      "1 loops, best of 3: 200 ms per loop\n"
     ]
    }
   ],
   "source": [
    "# Even generating a new stellar population & observing it is pretty quick\n",
    "%timeit pop.observe(regr_trap=True, new=True)"
   ]
  },
  {
   "cell_type": "code",
   "execution_count": 16,
   "metadata": {
    "collapsed": false
   },
   "outputs": [
    {
     "name": "stdout",
     "output_type": "stream",
     "text": [
      "10 loops, best of 3: 114 ms per loop\n"
     ]
    }
   ],
   "source": [
    "# Or again, you can just generate new orbits (rather than new binaries & new orbits)\n",
    "%timeit pop.observe(regr_trap=True, new_orbits=True)"
   ]
  },
  {
   "cell_type": "code",
   "execution_count": 17,
   "metadata": {
    "collapsed": false,
    "scrolled": true
   },
   "outputs": [
    {
     "name": "stdout",
     "output_type": "stream",
     "text": [
      "10441\n"
     ]
    },
    {
     "data": {
      "text/plain": [
       "Index([u'index', u'period', u'ecc', u'w', u'inc', u'a', u'aR', u'b_pri',\n",
       "       u'b_sec', u'k', u'tra', u'occ', u'd_pri', u'd_sec', u'T14_pri',\n",
       "       u'T14_sec', u'T23_pri', u'T23_sec', u'dataspan', u'dutycycle',\n",
       "       u'flux_ratio', u'n_pri', u'n_sec', u'phase_sec', u'trap_dur_pri_regr',\n",
       "       u'trap_depth_pri_regr', u'trap_slope_pri_regr', u'trap_dur_sec_regr',\n",
       "       u'trap_depth_sec_regr', u'trap_slope_sec_regr'],\n",
       "      dtype='object')"
      ]
     },
     "execution_count": 17,
     "metadata": {},
     "output_type": "execute_result"
    }
   ],
   "source": [
    "# Generating the training data used for the trapezoid shape regression above used\n",
    "# this function, which can be otherwise useful to sample >N random observations \n",
    "# from the existing population.  `trap_regr` defaults to `True` here.  \n",
    "# This function also takes `new` or `new_orbits` keywords.\n",
    "obs_pop = pop.get_N_observed(N=10000, new_orbits=True)\n",
    "print(len(obs_pop))\n",
    "obs_pop.columns"
   ]
  },
  {
   "cell_type": "code",
   "execution_count": 18,
   "metadata": {
    "collapsed": false
   },
   "outputs": [
    {
     "data": {
      "text/plain": [
       "(6.1299999999999999, 2.4684205476376992)"
      ]
     },
     "execution_count": 18,
     "metadata": {},
     "output_type": "execute_result"
    }
   ],
   "source": [
    "# We can now look, e.g. at the expected number of single/double eclipsing systems:\n",
    "query = '(n_pri < 3) & (n_sec < 3) & (n_pri==0 | n_sec==0)'\n",
    "N = 100\n",
    "n_obs = np.array([len(pop.observe(new_orbits=True).query(query)) for i in range(N)])\n",
    "n_obs.mean(), n_obs.std()"
   ]
  },
  {
   "cell_type": "code",
   "execution_count": 19,
   "metadata": {
    "collapsed": false
   },
   "outputs": [
    {
     "data": {
      "text/plain": [
       "(10.210000000000001, 3.2780939583849635)"
      ]
     },
     "execution_count": 19,
     "metadata": {},
     "output_type": "execute_result"
    }
   ],
   "source": [
    "# Try this again, this time using the empirical eccentricity distribution\n",
    "# (as opposed to the beta distribution with default params)---eccentricity matters!\n",
    "pop.ecc_empirical = True\n",
    "n_obs = np.array([len(pop.observe(new_orbits=True).query(query)) for i in range(N)])\n",
    "n_obs.mean(), n_obs.std()"
   ]
  },
  {
   "cell_type": "code",
   "execution_count": null,
   "metadata": {
    "collapsed": true
   },
   "outputs": [],
   "source": []
  }
 ],
 "metadata": {
  "kernelspec": {
   "display_name": "Python 2",
   "language": "python",
   "name": "python2"
  },
  "language_info": {
   "codemirror_mode": {
    "name": "ipython",
    "version": 2
   },
   "file_extension": ".py",
   "mimetype": "text/x-python",
   "name": "python",
   "nbconvert_exporter": "python",
   "pygments_lexer": "ipython2",
   "version": "2.7.11"
  }
 },
 "nbformat": 4,
 "nbformat_minor": 0
}
