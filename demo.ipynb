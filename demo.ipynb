{
 "cells": [
  {
   "cell_type": "code",
   "execution_count": 1,
   "metadata": {
    "collapsed": false,
    "scrolled": true
   },
   "outputs": [
    {
     "name": "stderr",
     "output_type": "stream",
     "text": [
      "/u/tdm/anaconda/lib/python2.7/site-packages/pandas/core/indexing.py:426: SettingWithCopyWarning: \n",
      "A value is trying to be set on a copy of a slice from a DataFrame.\n",
      "Try using .loc[row_indexer,col_indexer] = value instead\n",
      "\n",
      "See the caveats in the documentation: http://pandas.pydata.org/pandas-docs/stable/indexing.html#indexing-view-versus-copy\n",
      "  self.obj[item] = s\n",
      "WARNING:root:progressbar not imported\n"
     ]
    }
   ],
   "source": [
    "import sys\n",
    "\n",
    "# This to get the peerless target star DataFrame for example purposes\n",
    "sys.path.append('/u/tdm/repositories/peerless/prediction')\n",
    "sys.path.append('/u/tdm/repositories/peerless')\n",
    "from targets import targets\n",
    "\n",
    "# The action is here. Depends on vespa & isochrones.\n",
    "from exosyspop.populations import KeplerBinaryPopulation"
   ]
  },
  {
   "cell_type": "code",
   "execution_count": 2,
   "metadata": {
    "collapsed": false,
    "scrolled": true
   },
   "outputs": [],
   "source": [
    "pop = KeplerBinaryPopulation(targets, fB=0.4)"
   ]
  },
  {
   "cell_type": "code",
   "execution_count": 3,
   "metadata": {
    "collapsed": false,
    "scrolled": true
   },
   "outputs": [
    {
     "name": "stdout",
     "output_type": "stream",
     "text": [
      "flux_ratio regressor trained, R2=0.997480594694\n",
      "q regressor trained, R2=0.999687889712\n"
     ]
    },
    {
     "data": {
      "text/plain": [
       "array([        nan,  0.94406818,         nan, ...,  0.45046734,\n",
       "        0.7588677 ,  0.4555272 ])"
      ]
     },
     "execution_count": 3,
     "metadata": {},
     "output_type": "execute_result"
    }
   ],
   "source": [
    "# Accessing secondary properties will initialize a secondary simulation,\n",
    "# calling pop._generate_binaries().  The first time this is called, the\n",
    "# secondary property regressors get trained.\n",
    "pop.radius_B"
   ]
  },
  {
   "cell_type": "code",
   "execution_count": 4,
   "metadata": {
    "collapsed": false,
    "scrolled": true
   },
   "outputs": [
    {
     "name": "stdout",
     "output_type": "stream",
     "text": [
      "[ 0.70221905         nan  0.42621156 ...,  0.54221126  0.89138903\n",
      "         nan]\n",
      "10 loops, best of 3: 81.1 ms per loop\n"
     ]
    }
   ],
   "source": [
    "# subsequent calls are much faster; e.g.\n",
    "pop._generate_binaries()\n",
    "print(pop.radius_B)\n",
    "%timeit pop._generate_binaries()"
   ]
  },
  {
   "cell_type": "code",
   "execution_count": 5,
   "metadata": {
    "collapsed": false
   },
   "outputs": [
    {
     "data": {
      "text/plain": [
       "array([  1.97281847e+02,   5.94887449e+05,   9.94727375e+04, ...,\n",
       "         9.63095121e+02,   9.58370882e+02,   1.67927627e+01])"
      ]
     },
     "execution_count": 5,
     "metadata": {},
     "output_type": "execute_result"
    }
   ],
   "source": [
    "# Similarly, accessing orbital properties will generate them\n",
    "pop.period"
   ]
  },
  {
   "cell_type": "markdown",
   "metadata": {},
   "source": [
    "# Synthetic observations"
   ]
  },
  {
   "cell_type": "code",
   "execution_count": 6,
   "metadata": {
    "collapsed": false,
    "scrolled": true
   },
   "outputs": [
    {
     "name": "stdout",
     "output_type": "stream",
     "text": [
      "537\n",
      "Index([u'index', u'period', u'ecc', u'w', u'inc', u'a', u'aR', u'b_pri',\n",
      "       u'b_sec', u'k', u'tra', u'occ', u'd_pri', u'd_sec', u'T14_pri',\n",
      "       u'T14_sec', u'T23_pri', u'T23_sec', u'dataspan', u'dutycycle',\n",
      "       u'flux_ratio', u'n_pri', u'n_sec'],\n",
      "      dtype='object')\n"
     ]
    },
    {
     "data": {
      "text/html": [
       "<div>\n",
       "<table border=\"1\" class=\"dataframe\">\n",
       "  <thead>\n",
       "    <tr style=\"text-align: right;\">\n",
       "      <th></th>\n",
       "      <th>index</th>\n",
       "      <th>period</th>\n",
       "      <th>ecc</th>\n",
       "      <th>w</th>\n",
       "      <th>inc</th>\n",
       "      <th>a</th>\n",
       "      <th>aR</th>\n",
       "      <th>b_pri</th>\n",
       "      <th>b_sec</th>\n",
       "      <th>k</th>\n",
       "      <th>...</th>\n",
       "      <th>d_sec</th>\n",
       "      <th>T14_pri</th>\n",
       "      <th>T14_sec</th>\n",
       "      <th>T23_pri</th>\n",
       "      <th>T23_sec</th>\n",
       "      <th>dataspan</th>\n",
       "      <th>dutycycle</th>\n",
       "      <th>flux_ratio</th>\n",
       "      <th>n_pri</th>\n",
       "      <th>n_sec</th>\n",
       "    </tr>\n",
       "  </thead>\n",
       "  <tbody>\n",
       "    <tr>\n",
       "      <th>0</th>\n",
       "      <td>13</td>\n",
       "      <td>297.310135</td>\n",
       "      <td>0.179304</td>\n",
       "      <td>3.409015</td>\n",
       "      <td>1.565552</td>\n",
       "      <td>1.623692e+13</td>\n",
       "      <td>206.936317</td>\n",
       "      <td>1.102682</td>\n",
       "      <td>1.002918</td>\n",
       "      <td>0.971737</td>\n",
       "      <td>...</td>\n",
       "      <td>0.191282</td>\n",
       "      <td>0.772010</td>\n",
       "      <td>0.729244</td>\n",
       "      <td>0.000000</td>\n",
       "      <td>0.000000</td>\n",
       "      <td>1459.789</td>\n",
       "      <td>0.6988</td>\n",
       "      <td>0.922287</td>\n",
       "      <td>3</td>\n",
       "      <td>4</td>\n",
       "    </tr>\n",
       "    <tr>\n",
       "      <th>1</th>\n",
       "      <td>114</td>\n",
       "      <td>1.775185</td>\n",
       "      <td>0.823747</td>\n",
       "      <td>2.551272</td>\n",
       "      <td>0.980192</td>\n",
       "      <td>4.407783e+11</td>\n",
       "      <td>7.087932</td>\n",
       "      <td>0.869877</td>\n",
       "      <td>2.343082</td>\n",
       "      <td>0.317603</td>\n",
       "      <td>...</td>\n",
       "      <td>0.000000</td>\n",
       "      <td>0.037099</td>\n",
       "      <td>0.000000</td>\n",
       "      <td>0.000000</td>\n",
       "      <td>0.000000</td>\n",
       "      <td>1459.789</td>\n",
       "      <td>0.6988</td>\n",
       "      <td>0.007475</td>\n",
       "      <td>571</td>\n",
       "      <td>0</td>\n",
       "    </tr>\n",
       "    <tr>\n",
       "      <th>2</th>\n",
       "      <td>162</td>\n",
       "      <td>3.689386</td>\n",
       "      <td>0.000000</td>\n",
       "      <td>0.226756</td>\n",
       "      <td>1.562825</td>\n",
       "      <td>7.501699e+11</td>\n",
       "      <td>10.479333</td>\n",
       "      <td>0.083534</td>\n",
       "      <td>0.083534</td>\n",
       "      <td>0.218700</td>\n",
       "      <td>...</td>\n",
       "      <td>0.001864</td>\n",
       "      <td>0.136564</td>\n",
       "      <td>0.136564</td>\n",
       "      <td>0.087137</td>\n",
       "      <td>0.087137</td>\n",
       "      <td>1459.789</td>\n",
       "      <td>0.8751</td>\n",
       "      <td>0.001868</td>\n",
       "      <td>345</td>\n",
       "      <td>342</td>\n",
       "    </tr>\n",
       "    <tr>\n",
       "      <th>3</th>\n",
       "      <td>546</td>\n",
       "      <td>514.292155</td>\n",
       "      <td>0.936780</td>\n",
       "      <td>0.817069</td>\n",
       "      <td>1.566063</td>\n",
       "      <td>2.052472e+13</td>\n",
       "      <td>385.401207</td>\n",
       "      <td>0.132708</td>\n",
       "      <td>0.704690</td>\n",
       "      <td>0.567181</td>\n",
       "      <td>...</td>\n",
       "      <td>0.030251</td>\n",
       "      <td>0.137905</td>\n",
       "      <td>0.656439</td>\n",
       "      <td>0.036382</td>\n",
       "      <td>0.000000</td>\n",
       "      <td>1459.789</td>\n",
       "      <td>0.6988</td>\n",
       "      <td>0.039709</td>\n",
       "      <td>2</td>\n",
       "      <td>3</td>\n",
       "    </tr>\n",
       "    <tr>\n",
       "      <th>4</th>\n",
       "      <td>771</td>\n",
       "      <td>133.342726</td>\n",
       "      <td>0.964515</td>\n",
       "      <td>1.466433</td>\n",
       "      <td>1.281343</td>\n",
       "      <td>8.601748e+12</td>\n",
       "      <td>172.414838</td>\n",
       "      <td>1.750950</td>\n",
       "      <td>84.222331</td>\n",
       "      <td>0.850389</td>\n",
       "      <td>...</td>\n",
       "      <td>0.000000</td>\n",
       "      <td>0.020714</td>\n",
       "      <td>0.000000</td>\n",
       "      <td>0.000000</td>\n",
       "      <td>0.000000</td>\n",
       "      <td>1459.789</td>\n",
       "      <td>0.6989</td>\n",
       "      <td>0.332515</td>\n",
       "      <td>6</td>\n",
       "      <td>0</td>\n",
       "    </tr>\n",
       "  </tbody>\n",
       "</table>\n",
       "<p>5 rows × 23 columns</p>\n",
       "</div>"
      ],
      "text/plain": [
       "   index      period       ecc         w       inc             a          aR  \\\n",
       "0     13  297.310135  0.179304  3.409015  1.565552  1.623692e+13  206.936317   \n",
       "1    114    1.775185  0.823747  2.551272  0.980192  4.407783e+11    7.087932   \n",
       "2    162    3.689386  0.000000  0.226756  1.562825  7.501699e+11   10.479333   \n",
       "3    546  514.292155  0.936780  0.817069  1.566063  2.052472e+13  385.401207   \n",
       "4    771  133.342726  0.964515  1.466433  1.281343  8.601748e+12  172.414838   \n",
       "\n",
       "      b_pri      b_sec         k  ...       d_sec   T14_pri   T14_sec  \\\n",
       "0  1.102682   1.002918  0.971737  ...    0.191282  0.772010  0.729244   \n",
       "1  0.869877   2.343082  0.317603  ...    0.000000  0.037099  0.000000   \n",
       "2  0.083534   0.083534  0.218700  ...    0.001864  0.136564  0.136564   \n",
       "3  0.132708   0.704690  0.567181  ...    0.030251  0.137905  0.656439   \n",
       "4  1.750950  84.222331  0.850389  ...    0.000000  0.020714  0.000000   \n",
       "\n",
       "    T23_pri   T23_sec  dataspan  dutycycle  flux_ratio  n_pri  n_sec  \n",
       "0  0.000000  0.000000  1459.789     0.6988    0.922287      3      4  \n",
       "1  0.000000  0.000000  1459.789     0.6988    0.007475    571      0  \n",
       "2  0.087137  0.087137  1459.789     0.8751    0.001868    345    342  \n",
       "3  0.036382  0.000000  1459.789     0.6988    0.039709      2      3  \n",
       "4  0.000000  0.000000  1459.789     0.6989    0.332515      6      0  \n",
       "\n",
       "[5 rows x 23 columns]"
      ]
     },
     "execution_count": 6,
     "metadata": {},
     "output_type": "execute_result"
    }
   ],
   "source": [
    "# Now, we can observe and see what we see.  This takes into account\n",
    "# duty cycle & data span, as well as geometry.\n",
    "obs = pop.observe()\n",
    "print(len(obs))\n",
    "print(obs.columns)\n",
    "obs.head()"
   ]
  },
  {
   "cell_type": "code",
   "execution_count": 7,
   "metadata": {
    "collapsed": false
   },
   "outputs": [
    {
     "name": "stdout",
     "output_type": "stream",
     "text": [
      "10 loops, best of 3: 164 ms per loop\n"
     ]
    }
   ],
   "source": [
    "# This is pretty fast, even when generating a new population each time:\n",
    "%timeit pop.observe(new=True)"
   ]
  },
  {
   "cell_type": "code",
   "execution_count": 8,
   "metadata": {
    "collapsed": false
   },
   "outputs": [
    {
     "name": "stdout",
     "output_type": "stream",
     "text": [
      "10 loops, best of 3: 82 ms per loop\n"
     ]
    }
   ],
   "source": [
    "# Even faster if we only generate new orbits.\n",
    "%timeit pop.observe(new_orbits=True)"
   ]
  },
  {
   "cell_type": "code",
   "execution_count": 11,
   "metadata": {
    "collapsed": false
   },
   "outputs": [
    {
     "data": {
      "text/plain": [
       "(533.49000000000001, 20.071121044924222)"
      ]
     },
     "execution_count": 11,
     "metadata": {},
     "output_type": "execute_result"
    }
   ],
   "source": [
    "# So we can predict the expected number of observations pretty easily.\n",
    "import numpy as np\n",
    "n_obs = np.array([len(pop.observe(new_orbits=True)) for i in range(100)])\n",
    "n_obs.mean(), n_obs.std()"
   ]
  },
  {
   "cell_type": "code",
   "execution_count": 12,
   "metadata": {
    "collapsed": false
   },
   "outputs": [
    {
     "name": "stdout",
     "output_type": "stream",
     "text": [
      "534\n"
     ]
    },
    {
     "data": {
      "text/plain": [
       "Index([u'index', u'period', u'ecc', u'w', u'inc', u'a', u'aR', u'b_pri',\n",
       "       u'b_sec', u'k', u'tra', u'occ', u'd_pri', u'd_sec', u'T14_pri',\n",
       "       u'T14_sec', u'T23_pri', u'T23_sec', u'dataspan', u'dutycycle',\n",
       "       u'flux_ratio', u'n_pri', u'n_sec', u'trap_dur_pri', u'trap_depth_pri',\n",
       "       u'trap_slope_pri', u'trap_dur_sec', u'trap_depth_sec',\n",
       "       u'trap_slope_sec'],\n",
       "      dtype='object')"
      ]
     },
     "execution_count": 12,
     "metadata": {},
     "output_type": "execute_result"
    }
   ],
   "source": [
    "# Notice that the above does not yet have trapezoidal parameters.  There are two options to generate these.\n",
    "# Either we can set the fit_trap parameter, as follows:\n",
    "obs = pop.observe(fit_trap=True)\n",
    "print(len(obs))\n",
    "obs.columns"
   ]
  },
  {
   "cell_type": "code",
   "execution_count": 13,
   "metadata": {
    "collapsed": false
   },
   "outputs": [
    {
     "name": "stdout",
     "output_type": "stream",
     "text": [
      "1 loops, best of 3: 2.49 s per loop\n"
     ]
    }
   ],
   "source": [
    "# All things considered, this is still pretty fast if we just need to do it a few times:\n",
    "%timeit pop.observe(fit_trap=True)"
   ]
  },
  {
   "cell_type": "code",
   "execution_count": 14,
   "metadata": {
    "collapsed": false
   },
   "outputs": [
    {
     "name": "stdout",
     "output_type": "stream",
     "text": [
      "Depth trained: R2=0.99821227196\n",
      "Duration trained: R2=0.996635115395\n",
      "Slope trained: R2=0.997047978794\n",
      "529\n"
     ]
    },
    {
     "data": {
      "text/plain": [
       "Index([u'index', u'period', u'ecc', u'w', u'inc', u'a', u'aR', u'b_pri',\n",
       "       u'b_sec', u'k', u'tra', u'occ', u'd_pri', u'd_sec', u'T14_pri',\n",
       "       u'T14_sec', u'T23_pri', u'T23_sec', u'dataspan', u'dutycycle',\n",
       "       u'flux_ratio', u'n_pri', u'n_sec', u'trap_dur_pri_regr',\n",
       "       u'trap_depth_pri_regr', u'trap_slope_pri_regr', u'trap_dur_sec_regr',\n",
       "       u'trap_depth_sec_regr', u'trap_slope_sec_regr'],\n",
       "      dtype='object')"
      ]
     },
     "execution_count": 14,
     "metadata": {},
     "output_type": "execute_result"
    }
   ],
   "source": [
    "# However, this is pretty slow if we want to do inference.  To help with this, we can \n",
    "# tell it to train & use a regression.  Training only happens once; by default with 10,000 \n",
    "# synthetic observations.  This takes a minute or so.\n",
    "obs = pop.observe(regr_trap=True)\n",
    "print(len(obs))\n",
    "obs.columns"
   ]
  },
  {
   "cell_type": "code",
   "execution_count": 15,
   "metadata": {
    "collapsed": false
   },
   "outputs": [
    {
     "name": "stdout",
     "output_type": "stream",
     "text": [
      "10 loops, best of 3: 33.8 ms per loop\n"
     ]
    }
   ],
   "source": [
    "# Subsequent calls are much faster\n",
    "%timeit pop.observe(regr_trap=True)"
   ]
  },
  {
   "cell_type": "code",
   "execution_count": 14,
   "metadata": {
    "collapsed": false
   },
   "outputs": [
    {
     "name": "stdout",
     "output_type": "stream",
     "text": [
      "10 loops, best of 3: 181 ms per loop\n"
     ]
    }
   ],
   "source": [
    "# Even generating a new stellar population & observing it is pretty quick\n",
    "%timeit pop.observe(regr_trap=True, new=True)"
   ]
  },
  {
   "cell_type": "code",
   "execution_count": 16,
   "metadata": {
    "collapsed": false
   },
   "outputs": [
    {
     "name": "stdout",
     "output_type": "stream",
     "text": [
      "10 loops, best of 3: 102 ms per loop\n"
     ]
    }
   ],
   "source": [
    "# Or again, you can just generate new orbits (rather than new binaries & new orbits)\n",
    "%timeit pop.observe(regr_trap=True, new_orbits=True)"
   ]
  },
  {
   "cell_type": "code",
   "execution_count": 17,
   "metadata": {
    "collapsed": false,
    "scrolled": true
   },
   "outputs": [
    {
     "name": "stdout",
     "output_type": "stream",
     "text": [
      "10052\n"
     ]
    },
    {
     "data": {
      "text/plain": [
       "Index([u'index', u'period', u'ecc', u'w', u'inc', u'a', u'aR', u'b_pri',\n",
       "       u'b_sec', u'k', u'tra', u'occ', u'd_pri', u'd_sec', u'T14_pri',\n",
       "       u'T14_sec', u'T23_pri', u'T23_sec', u'dataspan', u'dutycycle',\n",
       "       u'flux_ratio', u'n_pri', u'n_sec', u'trap_dur_pri_regr',\n",
       "       u'trap_depth_pri_regr', u'trap_slope_pri_regr', u'trap_dur_sec_regr',\n",
       "       u'trap_depth_sec_regr', u'trap_slope_sec_regr'],\n",
       "      dtype='object')"
      ]
     },
     "execution_count": 17,
     "metadata": {},
     "output_type": "execute_result"
    }
   ],
   "source": [
    "# Generating the training data used for the trapezoid shape regression above used\n",
    "# this function, which can be otherwise useful to sample >N random observations \n",
    "# from the existing population.  `trap_regr` defaults to `True` here.  \n",
    "# This function also takes `new` or `new_orbits` keywords.\n",
    "obs_pop = pop.get_N_observed(N=10000, new_orbits=True)\n",
    "print(len(obs_pop))\n",
    "obs_pop.columns"
   ]
  }
 ],
 "metadata": {
  "kernelspec": {
   "display_name": "Python 2",
   "language": "python",
   "name": "python2"
  },
  "language_info": {
   "codemirror_mode": {
    "name": "ipython",
    "version": 2
   },
   "file_extension": ".py",
   "mimetype": "text/x-python",
   "name": "python",
   "nbconvert_exporter": "python",
   "pygments_lexer": "ipython2",
   "version": "2.7.11"
  }
 },
 "nbformat": 4,
 "nbformat_minor": 0
}
