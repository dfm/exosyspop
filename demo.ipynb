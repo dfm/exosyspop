{
 "cells": [
  {
   "cell_type": "code",
   "execution_count": 1,
   "metadata": {
    "collapsed": false,
    "scrolled": false
   },
   "outputs": [
    {
     "name": "stderr",
     "output_type": "stream",
     "text": [
      "WARNING:root:progressbar not imported\n"
     ]
    }
   ],
   "source": [
    "import sys\n",
    "\n",
    "## This to get the peerless target star DataFrame for example purposes\n",
    "#sys.path.append('/u/tdm/repositories/peerless/prediction')\n",
    "#sys.path.append('/u/tdm/repositories/peerless')\n",
    "#from targets import targets\n",
    "\n",
    "\n",
    "import pandas as pd\n",
    "targets = pd.read_hdf('targets.h5')\n",
    "\n",
    "# The action is here. Depends on vespa & isochrones.\n",
    "from exosyspop.populations import KeplerBinaryPopulation"
   ]
  },
  {
   "cell_type": "code",
   "execution_count": 2,
   "metadata": {
    "collapsed": false,
    "scrolled": true
   },
   "outputs": [],
   "source": [
    "pop = KeplerBinaryPopulation(targets, fB=0.4)"
   ]
  },
  {
   "cell_type": "code",
   "execution_count": 3,
   "metadata": {
    "collapsed": false,
    "scrolled": true
   },
   "outputs": [
    {
     "name": "stdout",
     "output_type": "stream",
     "text": [
      "dmag regressor trained, R2=0.99954097449\n",
      "qR regressor trained, R2=0.999498769996\n"
     ]
    },
    {
     "data": {
      "text/plain": [
       "array([        nan,         nan,  0.67073112, ...,  0.63813378,\n",
       "        0.28178712,         nan])"
      ]
     },
     "execution_count": 3,
     "metadata": {},
     "output_type": "execute_result"
    }
   ],
   "source": [
    "# Accessing secondary properties will initialize a secondary simulation,\n",
    "# calling pop._generate_binaries().  The first time this is called, the\n",
    "# secondary property regressors get trained.\n",
    "pop.radius_B"
   ]
  },
  {
   "cell_type": "code",
   "execution_count": 4,
   "metadata": {
    "collapsed": false,
    "scrolled": true
   },
   "outputs": [
    {
     "name": "stdout",
     "output_type": "stream",
     "text": [
      "[        nan  0.21464393         nan ...,         nan         nan\n",
      "         nan]\n",
      "10 loops, best of 3: 97.4 ms per loop\n"
     ]
    }
   ],
   "source": [
    "# subsequent calls are much faster; e.g.\n",
    "pop._generate_binaries()\n",
    "print(pop.radius_B)\n",
    "%timeit pop._generate_binaries()"
   ]
  },
  {
   "cell_type": "code",
   "execution_count": 5,
   "metadata": {
    "collapsed": false
   },
   "outputs": [
    {
     "name": "stdout",
     "output_type": "stream",
     "text": [
      "[        nan         nan  0.74756056 ...,         nan  0.12412566\n",
      "         nan]\n",
      "1 loops, best of 3: 356 ms per loop\n"
     ]
    }
   ],
   "source": [
    "# If physical accuracy is important, you can also choose to generate binary properties\n",
    "# directly from the isochrone, but it's a factor of a few slower:\n",
    "pop._generate_binaries(use_ic=True)\n",
    "print(pop.radius_B)\n",
    "%timeit pop._generate_binaries(use_ic=True)"
   ]
  },
  {
   "cell_type": "code",
   "execution_count": 6,
   "metadata": {
    "collapsed": false
   },
   "outputs": [
    {
     "data": {
      "text/plain": [
       "array([  1.19526129e+05,   2.50938408e+02,   8.93330939e+01, ...,\n",
       "         5.22629197e+01,   3.49208202e+01,   1.73349147e+01])"
      ]
     },
     "execution_count": 6,
     "metadata": {},
     "output_type": "execute_result"
    }
   ],
   "source": [
    "# Similarly, accessing orbital properties will generate them\n",
    "pop.period"
   ]
  },
  {
   "cell_type": "markdown",
   "metadata": {},
   "source": [
    "# Synthetic observations"
   ]
  },
  {
   "cell_type": "code",
   "execution_count": 7,
   "metadata": {
    "collapsed": false,
    "scrolled": true
   },
   "outputs": [
    {
     "name": "stdout",
     "output_type": "stream",
     "text": [
      "529\n",
      "Index([u'host', u'period', u'ecc', u'w', u'inc', u'a', u'aR', u'b_pri',\n",
      "       u'b_sec', u'k', u'tra', u'occ', u'd_pri', u'd_sec', u'T14_pri',\n",
      "       u'T14_sec', u'T23_pri', u'T23_sec', u'dataspan', u'dutycycle',\n",
      "       u'flux_ratio', u'n_pri', u'n_sec', u'phase_sec'],\n",
      "      dtype='object')\n"
     ]
    },
    {
     "data": {
      "text/html": [
       "<div>\n",
       "<table border=\"1\" class=\"dataframe\">\n",
       "  <thead>\n",
       "    <tr style=\"text-align: right;\">\n",
       "      <th></th>\n",
       "      <th>host</th>\n",
       "      <th>period</th>\n",
       "      <th>ecc</th>\n",
       "      <th>w</th>\n",
       "      <th>inc</th>\n",
       "      <th>a</th>\n",
       "      <th>aR</th>\n",
       "      <th>b_pri</th>\n",
       "      <th>b_sec</th>\n",
       "      <th>k</th>\n",
       "      <th>...</th>\n",
       "      <th>T14_pri</th>\n",
       "      <th>T14_sec</th>\n",
       "      <th>T23_pri</th>\n",
       "      <th>T23_sec</th>\n",
       "      <th>dataspan</th>\n",
       "      <th>dutycycle</th>\n",
       "      <th>flux_ratio</th>\n",
       "      <th>n_pri</th>\n",
       "      <th>n_sec</th>\n",
       "      <th>phase_sec</th>\n",
       "    </tr>\n",
       "  </thead>\n",
       "  <tbody>\n",
       "    <tr>\n",
       "      <th>0</th>\n",
       "      <td>609</td>\n",
       "      <td>6.229675</td>\n",
       "      <td>0.591941</td>\n",
       "      <td>0.820613</td>\n",
       "      <td>1.495747</td>\n",
       "      <td>1.163083e+12</td>\n",
       "      <td>19.646664</td>\n",
       "      <td>0.667758</td>\n",
       "      <td>1.687827</td>\n",
       "      <td>0.868603</td>\n",
       "      <td>...</td>\n",
       "      <td>0.099481</td>\n",
       "      <td>0.115405</td>\n",
       "      <td>0.000000</td>\n",
       "      <td>0.00000</td>\n",
       "      <td>1459.789</td>\n",
       "      <td>0.8751</td>\n",
       "      <td>0.515938</td>\n",
       "      <td>211</td>\n",
       "      <td>205</td>\n",
       "      <td>0.775200</td>\n",
       "    </tr>\n",
       "    <tr>\n",
       "      <th>1</th>\n",
       "      <td>878</td>\n",
       "      <td>1.755104</td>\n",
       "      <td>0.058031</td>\n",
       "      <td>2.750630</td>\n",
       "      <td>1.452779</td>\n",
       "      <td>4.514730e+11</td>\n",
       "      <td>8.200713</td>\n",
       "      <td>0.941505</td>\n",
       "      <td>0.984089</td>\n",
       "      <td>0.426689</td>\n",
       "      <td>...</td>\n",
       "      <td>0.072032</td>\n",
       "      <td>0.072538</td>\n",
       "      <td>0.000000</td>\n",
       "      <td>0.00000</td>\n",
       "      <td>1459.789</td>\n",
       "      <td>0.6987</td>\n",
       "      <td>0.015628</td>\n",
       "      <td>568</td>\n",
       "      <td>600</td>\n",
       "      <td>0.465852</td>\n",
       "    </tr>\n",
       "    <tr>\n",
       "      <th>2</th>\n",
       "      <td>1499</td>\n",
       "      <td>1.415073</td>\n",
       "      <td>0.438953</td>\n",
       "      <td>5.407751</td>\n",
       "      <td>1.295306</td>\n",
       "      <td>4.054972e+11</td>\n",
       "      <td>6.537987</td>\n",
       "      <td>2.165710</td>\n",
       "      <td>1.073855</td>\n",
       "      <td>0.446262</td>\n",
       "      <td>...</td>\n",
       "      <td>0.000000</td>\n",
       "      <td>0.046796</td>\n",
       "      <td>0.000000</td>\n",
       "      <td>0.00000</td>\n",
       "      <td>1459.789</td>\n",
       "      <td>0.8752</td>\n",
       "      <td>0.015501</td>\n",
       "      <td>0</td>\n",
       "      <td>884</td>\n",
       "      <td>0.687290</td>\n",
       "    </tr>\n",
       "    <tr>\n",
       "      <th>3</th>\n",
       "      <td>1517</td>\n",
       "      <td>1.169640</td>\n",
       "      <td>0.135898</td>\n",
       "      <td>3.344064</td>\n",
       "      <td>1.515084</td>\n",
       "      <td>3.446115e+11</td>\n",
       "      <td>3.836275</td>\n",
       "      <td>0.215561</td>\n",
       "      <td>0.204093</td>\n",
       "      <td>0.119424</td>\n",
       "      <td>...</td>\n",
       "      <td>0.110302</td>\n",
       "      <td>0.104648</td>\n",
       "      <td>0.085244</td>\n",
       "      <td>0.08098</td>\n",
       "      <td>1459.789</td>\n",
       "      <td>0.8755</td>\n",
       "      <td>0.000422</td>\n",
       "      <td>1092</td>\n",
       "      <td>1087</td>\n",
       "      <td>0.415472</td>\n",
       "    </tr>\n",
       "    <tr>\n",
       "      <th>4</th>\n",
       "      <td>1861</td>\n",
       "      <td>685.622170</td>\n",
       "      <td>0.000374</td>\n",
       "      <td>1.371500</td>\n",
       "      <td>1.569825</td>\n",
       "      <td>2.768710e+13</td>\n",
       "      <td>398.725272</td>\n",
       "      <td>0.387136</td>\n",
       "      <td>0.387420</td>\n",
       "      <td>0.909675</td>\n",
       "      <td>...</td>\n",
       "      <td>1.023177</td>\n",
       "      <td>1.023895</td>\n",
       "      <td>0.000000</td>\n",
       "      <td>0.00000</td>\n",
       "      <td>1459.789</td>\n",
       "      <td>0.8749</td>\n",
       "      <td>0.732362</td>\n",
       "      <td>1</td>\n",
       "      <td>2</td>\n",
       "      <td>0.500047</td>\n",
       "    </tr>\n",
       "  </tbody>\n",
       "</table>\n",
       "<p>5 rows × 24 columns</p>\n",
       "</div>"
      ],
      "text/plain": [
       "   host      period       ecc         w       inc             a          aR  \\\n",
       "0   609    6.229675  0.591941  0.820613  1.495747  1.163083e+12   19.646664   \n",
       "1   878    1.755104  0.058031  2.750630  1.452779  4.514730e+11    8.200713   \n",
       "2  1499    1.415073  0.438953  5.407751  1.295306  4.054972e+11    6.537987   \n",
       "3  1517    1.169640  0.135898  3.344064  1.515084  3.446115e+11    3.836275   \n",
       "4  1861  685.622170  0.000374  1.371500  1.569825  2.768710e+13  398.725272   \n",
       "\n",
       "      b_pri     b_sec         k    ...       T14_pri   T14_sec   T23_pri  \\\n",
       "0  0.667758  1.687827  0.868603    ...      0.099481  0.115405  0.000000   \n",
       "1  0.941505  0.984089  0.426689    ...      0.072032  0.072538  0.000000   \n",
       "2  2.165710  1.073855  0.446262    ...      0.000000  0.046796  0.000000   \n",
       "3  0.215561  0.204093  0.119424    ...      0.110302  0.104648  0.085244   \n",
       "4  0.387136  0.387420  0.909675    ...      1.023177  1.023895  0.000000   \n",
       "\n",
       "   T23_sec  dataspan  dutycycle  flux_ratio  n_pri  n_sec  phase_sec  \n",
       "0  0.00000  1459.789     0.8751    0.515938    211    205   0.775200  \n",
       "1  0.00000  1459.789     0.6987    0.015628    568    600   0.465852  \n",
       "2  0.00000  1459.789     0.8752    0.015501      0    884   0.687290  \n",
       "3  0.08098  1459.789     0.8755    0.000422   1092   1087   0.415472  \n",
       "4  0.00000  1459.789     0.8749    0.732362      1      2   0.500047  \n",
       "\n",
       "[5 rows x 24 columns]"
      ]
     },
     "execution_count": 7,
     "metadata": {},
     "output_type": "execute_result"
    }
   ],
   "source": [
    "# Now, we can observe and see what we see.  This takes into account\n",
    "# duty cycle & data span, as well as geometry.\n",
    "obs = pop.observe()\n",
    "print(len(obs))\n",
    "print(obs.columns)\n",
    "obs.head()"
   ]
  },
  {
   "cell_type": "code",
   "execution_count": 8,
   "metadata": {
    "collapsed": false
   },
   "outputs": [
    {
     "name": "stdout",
     "output_type": "stream",
     "text": [
      "1 loops, best of 3: 217 ms per loop\n"
     ]
    }
   ],
   "source": [
    "# This is pretty fast, even when generating a new population each time:\n",
    "%timeit pop.observe(new=True)"
   ]
  },
  {
   "cell_type": "code",
   "execution_count": 9,
   "metadata": {
    "collapsed": false
   },
   "outputs": [
    {
     "name": "stdout",
     "output_type": "stream",
     "text": [
      "10 loops, best of 3: 85.2 ms per loop\n"
     ]
    }
   ],
   "source": [
    "# Even faster if we only generate new orbits.\n",
    "%timeit pop.observe(new_orbits=True)"
   ]
  },
  {
   "cell_type": "code",
   "execution_count": 10,
   "metadata": {
    "collapsed": false,
    "scrolled": true
   },
   "outputs": [
    {
     "data": {
      "text/plain": [
       "(531.37, 22.693900061470263)"
      ]
     },
     "execution_count": 10,
     "metadata": {},
     "output_type": "execute_result"
    }
   ],
   "source": [
    "# So we can predict the expected number of observations pretty easily.\n",
    "import numpy as np\n",
    "N = 100\n",
    "n_obs = np.array([len(pop.observe(new_orbits=True)) for i in range(N)])\n",
    "n_obs.mean(), n_obs.std()"
   ]
  },
  {
   "cell_type": "code",
   "execution_count": 11,
   "metadata": {
    "collapsed": false
   },
   "outputs": [
    {
     "name": "stdout",
     "output_type": "stream",
     "text": [
      "508\n"
     ]
    },
    {
     "data": {
      "text/plain": [
       "Index([u'host', u'period', u'ecc', u'w', u'inc', u'a', u'aR', u'b_pri',\n",
       "       u'b_sec', u'k', u'tra', u'occ', u'd_pri', u'd_sec', u'T14_pri',\n",
       "       u'T14_sec', u'T23_pri', u'T23_sec', u'dataspan', u'dutycycle',\n",
       "       u'flux_ratio', u'n_pri', u'n_sec', u'phase_sec', u'trap_dur_pri',\n",
       "       u'trap_depth_pri', u'trap_slope_pri', u'trap_dur_sec',\n",
       "       u'trap_depth_sec', u'trap_slope_sec'],\n",
       "      dtype='object')"
      ]
     },
     "execution_count": 11,
     "metadata": {},
     "output_type": "execute_result"
    }
   ],
   "source": [
    "# Notice that the above does not yet have trapezoidal parameters.  There are two options to generate these.\n",
    "# Either we can set the fit_trap parameter, as follows:\n",
    "obs = pop.observe(fit_trap=True)\n",
    "print(len(obs))\n",
    "obs.columns"
   ]
  },
  {
   "cell_type": "code",
   "execution_count": 12,
   "metadata": {
    "collapsed": false
   },
   "outputs": [
    {
     "name": "stdout",
     "output_type": "stream",
     "text": [
      "1 loops, best of 3: 2.46 s per loop\n"
     ]
    }
   ],
   "source": [
    "# All things considered, this is still pretty fast if we just need to do it a few times:\n",
    "%timeit pop.observe(fit_trap=True)"
   ]
  },
  {
   "cell_type": "code",
   "execution_count": 13,
   "metadata": {
    "collapsed": false
   },
   "outputs": [
    {
     "name": "stdout",
     "output_type": "stream",
     "text": [
      "Depth trained: R2=0.998214479742\n",
      "Duration trained: R2=0.99183295272\n",
      "Slope trained: R2=0.990978838946\n",
      "554\n"
     ]
    },
    {
     "data": {
      "text/plain": [
       "Index([u'host', u'period', u'ecc', u'w', u'inc', u'a', u'aR', u'b_pri',\n",
       "       u'b_sec', u'k', u'tra', u'occ', u'd_pri', u'd_sec', u'T14_pri',\n",
       "       u'T14_sec', u'T23_pri', u'T23_sec', u'dataspan', u'dutycycle',\n",
       "       u'flux_ratio', u'n_pri', u'n_sec', u'phase_sec', u'trap_dur_pri_regr',\n",
       "       u'trap_depth_pri_regr', u'trap_slope_pri_regr', u'trap_dur_sec_regr',\n",
       "       u'trap_depth_sec_regr', u'trap_slope_sec_regr'],\n",
       "      dtype='object')"
      ]
     },
     "execution_count": 13,
     "metadata": {},
     "output_type": "execute_result"
    }
   ],
   "source": [
    "# However, this is pretty slow if we want to do inference.  To help with this, we can \n",
    "# tell it to train & use a regression.  Training only happens once; by default with 10,000 \n",
    "# synthetic observations.  This takes a minute or so.\n",
    "obs = pop.observe(regr_trap=True)\n",
    "print(len(obs))\n",
    "obs.columns"
   ]
  },
  {
   "cell_type": "code",
   "execution_count": 14,
   "metadata": {
    "collapsed": false
   },
   "outputs": [
    {
     "name": "stdout",
     "output_type": "stream",
     "text": [
      "10 loops, best of 3: 34.4 ms per loop\n"
     ]
    }
   ],
   "source": [
    "# Subsequent calls are much faster\n",
    "%timeit pop.observe(regr_trap=True)"
   ]
  },
  {
   "cell_type": "code",
   "execution_count": 15,
   "metadata": {
    "collapsed": false
   },
   "outputs": [
    {
     "name": "stdout",
     "output_type": "stream",
     "text": [
      "1 loops, best of 3: 237 ms per loop\n"
     ]
    }
   ],
   "source": [
    "# Even generating a new stellar population & observing it is pretty quick\n",
    "%timeit pop.observe(regr_trap=True, new=True)"
   ]
  },
  {
   "cell_type": "code",
   "execution_count": 16,
   "metadata": {
    "collapsed": false
   },
   "outputs": [
    {
     "name": "stdout",
     "output_type": "stream",
     "text": [
      "10 loops, best of 3: 108 ms per loop\n"
     ]
    }
   ],
   "source": [
    "# Or again, you can just generate new orbits (rather than new binaries & new orbits)\n",
    "%timeit pop.observe(regr_trap=True, new_orbits=True)"
   ]
  },
  {
   "cell_type": "code",
   "execution_count": 17,
   "metadata": {
    "collapsed": false,
    "scrolled": true
   },
   "outputs": [
    {
     "name": "stdout",
     "output_type": "stream",
     "text": [
      "10439\n"
     ]
    },
    {
     "data": {
      "text/plain": [
       "Index([u'host', u'period', u'ecc', u'w', u'inc', u'a', u'aR', u'b_pri',\n",
       "       u'b_sec', u'k', u'tra', u'occ', u'd_pri', u'd_sec', u'T14_pri',\n",
       "       u'T14_sec', u'T23_pri', u'T23_sec', u'dataspan', u'dutycycle',\n",
       "       u'flux_ratio', u'n_pri', u'n_sec', u'phase_sec', u'trap_dur_pri_regr',\n",
       "       u'trap_depth_pri_regr', u'trap_slope_pri_regr', u'trap_dur_sec_regr',\n",
       "       u'trap_depth_sec_regr', u'trap_slope_sec_regr'],\n",
       "      dtype='object')"
      ]
     },
     "execution_count": 17,
     "metadata": {},
     "output_type": "execute_result"
    }
   ],
   "source": [
    "# Generating the training data used for the trapezoid shape regression above used\n",
    "# this function, which can be otherwise useful to sample >N random observations \n",
    "# from the existing population.  `trap_regr` defaults to `True` here.  \n",
    "# This function also takes `new` or `new_orbits` keywords.\n",
    "obs_pop = pop.get_N_observed(N=10000, new_orbits=True)\n",
    "print(len(obs_pop))\n",
    "obs_pop.columns"
   ]
  },
  {
   "cell_type": "code",
   "execution_count": 18,
   "metadata": {
    "collapsed": false
   },
   "outputs": [
    {
     "data": {
      "text/plain": [
       "(6.2800000000000002, 2.2850820554194549)"
      ]
     },
     "execution_count": 18,
     "metadata": {},
     "output_type": "execute_result"
    }
   ],
   "source": [
    "# We can now look, e.g. at the expected number of single/double eclipsing systems:\n",
    "query = '(n_pri < 3) & (n_sec < 3) & (n_pri==0 | n_sec==0)'\n",
    "N = 100\n",
    "n_obs = np.array([len(pop.observe(new_orbits=True).query(query)) for i in range(N)])\n",
    "n_obs.mean(), n_obs.std()"
   ]
  },
  {
   "cell_type": "code",
   "execution_count": 19,
   "metadata": {
    "collapsed": false
   },
   "outputs": [
    {
     "data": {
      "text/plain": [
       "(9.9299999999999997, 3.2007967758044251)"
      ]
     },
     "execution_count": 19,
     "metadata": {},
     "output_type": "execute_result"
    }
   ],
   "source": [
    "# Try this again, this time using the empirical eccentricity distribution\n",
    "# (as opposed to the beta distribution with default params)---eccentricity matters!\n",
    "pop.ecc_empirical = True\n",
    "n_obs = np.array([len(pop.observe(new_orbits=True).query(query)) for i in range(N)])\n",
    "n_obs.mean(), n_obs.std()"
   ]
  },
  {
   "cell_type": "code",
   "execution_count": null,
   "metadata": {
    "collapsed": true
   },
   "outputs": [],
   "source": []
  }
 ],
 "metadata": {
  "kernelspec": {
   "display_name": "Python 2",
   "language": "python",
   "name": "python2"
  },
  "language_info": {
   "codemirror_mode": {
    "name": "ipython",
    "version": 2
   },
   "file_extension": ".py",
   "mimetype": "text/x-python",
   "name": "python",
   "nbconvert_exporter": "python",
   "pygments_lexer": "ipython2",
   "version": "2.7.11"
  }
 },
 "nbformat": 4,
 "nbformat_minor": 0
}
