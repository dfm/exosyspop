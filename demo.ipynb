{
 "cells": [
  {
   "cell_type": "code",
   "execution_count": 1,
   "metadata": {
    "collapsed": false,
    "scrolled": true
   },
   "outputs": [
    {
     "name": "stderr",
     "output_type": "stream",
     "text": [
      "WARNING:root:Deprecation Warning: 'triangle' has been renamed to 'corner'. This shim should continue to work but you should use 'import corner' in new code. https://github.com/dfm/corner.py\n",
      "WARNING:root:PyMultiNest not available; only emcee fits will be possible.\n",
      "WARNING:root:progressbar not imported\n"
     ]
    }
   ],
   "source": [
    "import sys\n",
    "\n",
    "## This to get the peerless target star DataFrame for example purposes\n",
    "#sys.path.append('/u/tdm/repositories/peerless/prediction')\n",
    "#sys.path.append('/u/tdm/repositories/peerless')\n",
    "#from targets import targets\n",
    "\n",
    "\n",
    "import pandas as pd\n",
    "targets = pd.read_hdf('targets.h5')\n",
    "\n",
    "# Sanitize dtypes of targets DataFrame\n",
    "for c in targets.columns:\n",
    "    if targets[c].dtype == object:\n",
    "        targets.loc[:,c] = targets.loc[:,c].astype(str)\n",
    "\n",
    "\n",
    "# The action is here. Depends on vespa & isochrones.\n",
    "from exosyspop.populations import KeplerBinaryPopulation"
   ]
  },
  {
   "cell_type": "code",
   "execution_count": 2,
   "metadata": {
    "collapsed": false,
    "scrolled": true
   },
   "outputs": [],
   "source": [
    "pop = KeplerBinaryPopulation(targets, fB=0.4)"
   ]
  },
  {
   "cell_type": "code",
   "execution_count": 3,
   "metadata": {
    "collapsed": false,
    "scrolled": true
   },
   "outputs": [
    {
     "name": "stdout",
     "output_type": "stream",
     "text": [
      "EB: dmag regressor trained, R2=0.999563133137\n",
      "EB: qR regressor trained, R2=0.999492802596\n"
     ]
    },
    {
     "data": {
      "text/plain": [
       "array([        nan,         nan,         nan, ...,         nan,\n",
       "        0.63471573,         nan])"
      ]
     },
     "execution_count": 3,
     "metadata": {},
     "output_type": "execute_result"
    }
   ],
   "source": [
    "# Accessing secondary properties will initialize a secondary simulation,\n",
    "# calling pop._generate_binaries().  The first time this is called, the\n",
    "# secondary property regressors get trained.\n",
    "pop.radius_B"
   ]
  },
  {
   "cell_type": "code",
   "execution_count": 4,
   "metadata": {
    "collapsed": false
   },
   "outputs": [],
   "source": [
    "pop.save('testpop', overwrite=True)"
   ]
  },
  {
   "cell_type": "code",
   "execution_count": 7,
   "metadata": {
    "collapsed": false
   },
   "outputs": [],
   "source": [
    "pop = KeplerBinaryPopulation('testpop')"
   ]
  },
  {
   "cell_type": "code",
   "execution_count": 8,
   "metadata": {
    "collapsed": false
   },
   "outputs": [
    {
     "data": {
      "text/plain": [
       "array([        nan,         nan,         nan, ...,         nan,\n",
       "        0.63471573,         nan])"
      ]
     },
     "execution_count": 8,
     "metadata": {},
     "output_type": "execute_result"
    }
   ],
   "source": [
    "pop.radius_B"
   ]
  },
  {
   "cell_type": "code",
   "execution_count": 4,
   "metadata": {
    "collapsed": false,
    "scrolled": true
   },
   "outputs": [
    {
     "name": "stdout",
     "output_type": "stream",
     "text": [
      "[ 0.40864961  0.41787574  0.27628832 ...,  0.29279917  0.60313767\n",
      "  0.13122177]\n",
      "10 loops, best of 3: 96.7 ms per loop\n"
     ]
    }
   ],
   "source": [
    "# subsequent calls are much faster; e.g.\n",
    "pop._generate_binaries()\n",
    "print(pop.radius_B)\n",
    "%timeit pop._generate_binaries()"
   ]
  },
  {
   "cell_type": "code",
   "execution_count": 5,
   "metadata": {
    "collapsed": false
   },
   "outputs": [
    {
     "name": "stdout",
     "output_type": "stream",
     "text": [
      "[        nan  0.33306469         nan ...,         nan         nan\n",
      "         nan]\n",
      "1 loops, best of 3: 362 ms per loop\n"
     ]
    }
   ],
   "source": [
    "# If physical accuracy is important, you can also choose to generate binary properties\n",
    "# directly from the isochrone, but it's a factor of a few slower:\n",
    "pop._generate_binaries(use_ic=True)\n",
    "print(pop.radius_B)\n",
    "%timeit pop._generate_binaries(use_ic=True)"
   ]
  },
  {
   "cell_type": "code",
   "execution_count": 7,
   "metadata": {
    "collapsed": false
   },
   "outputs": [
    {
     "data": {
      "text/plain": [
       "array([  6.28572685e+06,   2.28632375e+04,   2.28765433e+03, ...,\n",
       "         4.59113422e+04,   1.42098463e+07,   4.25721097e+02])"
      ]
     },
     "execution_count": 7,
     "metadata": {},
     "output_type": "execute_result"
    }
   ],
   "source": [
    "# Similarly, accessing orbital properties will generate them\n",
    "pop.period"
   ]
  },
  {
   "cell_type": "markdown",
   "metadata": {},
   "source": [
    "# Synthetic observations"
   ]
  },
  {
   "cell_type": "code",
   "execution_count": 9,
   "metadata": {
    "collapsed": false,
    "scrolled": true
   },
   "outputs": [
    {
     "name": "stdout",
     "output_type": "stream",
     "text": [
      "84\n",
      "Index([u'host', u'period', u'ecc', u'w', u'inc', u'a', u'aR', u'b_pri',\n",
      "       u'b_sec', u'k', u'tra', u'occ', u'd_pri', u'd_sec', u'T14_pri',\n",
      "       u'T14_sec', u'T23_pri', u'T23_sec', u'dataspan', u'dutycycle',\n",
      "       u'b_target', u'flux_ratio', u'dilution', u'n_pri', u'n_sec',\n",
      "       u'phase_sec'],\n",
      "      dtype='object')\n"
     ]
    },
    {
     "data": {
      "text/html": [
       "<div>\n",
       "<table border=\"1\" class=\"dataframe\">\n",
       "  <thead>\n",
       "    <tr style=\"text-align: right;\">\n",
       "      <th></th>\n",
       "      <th>host</th>\n",
       "      <th>period</th>\n",
       "      <th>ecc</th>\n",
       "      <th>w</th>\n",
       "      <th>inc</th>\n",
       "      <th>a</th>\n",
       "      <th>aR</th>\n",
       "      <th>b_pri</th>\n",
       "      <th>b_sec</th>\n",
       "      <th>k</th>\n",
       "      <th>...</th>\n",
       "      <th>T23_pri</th>\n",
       "      <th>T23_sec</th>\n",
       "      <th>dataspan</th>\n",
       "      <th>dutycycle</th>\n",
       "      <th>b_target</th>\n",
       "      <th>flux_ratio</th>\n",
       "      <th>dilution</th>\n",
       "      <th>n_pri</th>\n",
       "      <th>n_sec</th>\n",
       "      <th>phase_sec</th>\n",
       "    </tr>\n",
       "  </thead>\n",
       "  <tbody>\n",
       "    <tr>\n",
       "      <th>0</th>\n",
       "      <td>3153</td>\n",
       "      <td>129.484872</td>\n",
       "      <td>0.924090</td>\n",
       "      <td>3.683342</td>\n",
       "      <td>1.562058</td>\n",
       "      <td>8.452738e+12</td>\n",
       "      <td>149.848309</td>\n",
       "      <td>0.365319</td>\n",
       "      <td>0.129528</td>\n",
       "      <td>0.657573</td>\n",
       "      <td>...</td>\n",
       "      <td>0.000000</td>\n",
       "      <td>0.022568</td>\n",
       "      <td>1459.789</td>\n",
       "      <td>0.8750</td>\n",
       "      <td>12.441995</td>\n",
       "      <td>0.075144</td>\n",
       "      <td>1</td>\n",
       "      <td>11</td>\n",
       "      <td>12</td>\n",
       "      <td>0.018533</td>\n",
       "    </tr>\n",
       "    <tr>\n",
       "      <th>1</th>\n",
       "      <td>6084</td>\n",
       "      <td>17.888648</td>\n",
       "      <td>0.259020</td>\n",
       "      <td>4.725544</td>\n",
       "      <td>1.545415</td>\n",
       "      <td>2.054122e+12</td>\n",
       "      <td>39.603986</td>\n",
       "      <td>1.265411</td>\n",
       "      <td>0.744777</td>\n",
       "      <td>0.437976</td>\n",
       "      <td>...</td>\n",
       "      <td>0.000000</td>\n",
       "      <td>0.000000</td>\n",
       "      <td>1459.789</td>\n",
       "      <td>0.8750</td>\n",
       "      <td>16.627310</td>\n",
       "      <td>0.021948</td>\n",
       "      <td>1</td>\n",
       "      <td>72</td>\n",
       "      <td>68</td>\n",
       "      <td>0.502246</td>\n",
       "    </tr>\n",
       "    <tr>\n",
       "      <th>2</th>\n",
       "      <td>6495</td>\n",
       "      <td>6.372333</td>\n",
       "      <td>0.178574</td>\n",
       "      <td>2.336309</td>\n",
       "      <td>1.563346</td>\n",
       "      <td>1.181537e+12</td>\n",
       "      <td>14.990881</td>\n",
       "      <td>0.095795</td>\n",
       "      <td>0.124109</td>\n",
       "      <td>0.510538</td>\n",
       "      <td>...</td>\n",
       "      <td>0.056625</td>\n",
       "      <td>0.072363</td>\n",
       "      <td>1459.789</td>\n",
       "      <td>0.6984</td>\n",
       "      <td>18.011633</td>\n",
       "      <td>0.032885</td>\n",
       "      <td>1</td>\n",
       "      <td>160</td>\n",
       "      <td>153</td>\n",
       "      <td>0.420773</td>\n",
       "    </tr>\n",
       "    <tr>\n",
       "      <th>3</th>\n",
       "      <td>7802</td>\n",
       "      <td>14.745000</td>\n",
       "      <td>0.122320</td>\n",
       "      <td>1.058705</td>\n",
       "      <td>1.570133</td>\n",
       "      <td>2.074451e+12</td>\n",
       "      <td>34.262813</td>\n",
       "      <td>0.020219</td>\n",
       "      <td>0.025045</td>\n",
       "      <td>0.745252</td>\n",
       "      <td>...</td>\n",
       "      <td>0.031199</td>\n",
       "      <td>0.038581</td>\n",
       "      <td>1459.789</td>\n",
       "      <td>0.6988</td>\n",
       "      <td>10.682069</td>\n",
       "      <td>0.183112</td>\n",
       "      <td>1</td>\n",
       "      <td>67</td>\n",
       "      <td>73</td>\n",
       "      <td>0.538353</td>\n",
       "    </tr>\n",
       "    <tr>\n",
       "      <th>4</th>\n",
       "      <td>16868</td>\n",
       "      <td>1324.872423</td>\n",
       "      <td>0.407945</td>\n",
       "      <td>0.085859</td>\n",
       "      <td>1.570145</td>\n",
       "      <td>3.803832e+13</td>\n",
       "      <td>475.945615</td>\n",
       "      <td>0.249497</td>\n",
       "      <td>0.267586</td>\n",
       "      <td>0.196276</td>\n",
       "      <td>...</td>\n",
       "      <td>0.597188</td>\n",
       "      <td>0.635334</td>\n",
       "      <td>1459.789</td>\n",
       "      <td>0.8752</td>\n",
       "      <td>19.020436</td>\n",
       "      <td>0.001356</td>\n",
       "      <td>1</td>\n",
       "      <td>1</td>\n",
       "      <td>1</td>\n",
       "      <td>0.751582</td>\n",
       "    </tr>\n",
       "  </tbody>\n",
       "</table>\n",
       "<p>5 rows × 26 columns</p>\n",
       "</div>"
      ],
      "text/plain": [
       "    host       period       ecc         w       inc             a          aR  \\\n",
       "0   3153   129.484872  0.924090  3.683342  1.562058  8.452738e+12  149.848309   \n",
       "1   6084    17.888648  0.259020  4.725544  1.545415  2.054122e+12   39.603986   \n",
       "2   6495     6.372333  0.178574  2.336309  1.563346  1.181537e+12   14.990881   \n",
       "3   7802    14.745000  0.122320  1.058705  1.570133  2.074451e+12   34.262813   \n",
       "4  16868  1324.872423  0.407945  0.085859  1.570145  3.803832e+13  475.945615   \n",
       "\n",
       "      b_pri     b_sec         k    ...       T23_pri   T23_sec  dataspan  \\\n",
       "0  0.365319  0.129528  0.657573    ...      0.000000  0.022568  1459.789   \n",
       "1  1.265411  0.744777  0.437976    ...      0.000000  0.000000  1459.789   \n",
       "2  0.095795  0.124109  0.510538    ...      0.056625  0.072363  1459.789   \n",
       "3  0.020219  0.025045  0.745252    ...      0.031199  0.038581  1459.789   \n",
       "4  0.249497  0.267586  0.196276    ...      0.597188  0.635334  1459.789   \n",
       "\n",
       "   dutycycle   b_target  flux_ratio  dilution  n_pri  n_sec  phase_sec  \n",
       "0     0.8750  12.441995    0.075144         1     11     12   0.018533  \n",
       "1     0.8750  16.627310    0.021948         1     72     68   0.502246  \n",
       "2     0.6984  18.011633    0.032885         1    160    153   0.420773  \n",
       "3     0.6988  10.682069    0.183112         1     67     73   0.538353  \n",
       "4     0.8752  19.020436    0.001356         1      1      1   0.751582  \n",
       "\n",
       "[5 rows x 26 columns]"
      ]
     },
     "execution_count": 9,
     "metadata": {},
     "output_type": "execute_result"
    }
   ],
   "source": [
    "# Now, we can observe and see what we see.  This takes into account\n",
    "# duty cycle & data span, as well as geometry.\n",
    "obs = pop.observe()\n",
    "print(len(obs))\n",
    "print(obs.columns)\n",
    "obs.head()"
   ]
  },
  {
   "cell_type": "code",
   "execution_count": 10,
   "metadata": {
    "collapsed": false
   },
   "outputs": [
    {
     "name": "stdout",
     "output_type": "stream",
     "text": [
      "1 loops, best of 3: 209 ms per loop\n"
     ]
    }
   ],
   "source": [
    "# This is pretty fast, even when generating a new population each time:\n",
    "%timeit pop.observe(new=True)"
   ]
  },
  {
   "cell_type": "code",
   "execution_count": 11,
   "metadata": {
    "collapsed": false
   },
   "outputs": [
    {
     "name": "stdout",
     "output_type": "stream",
     "text": [
      "10 loops, best of 3: 78.8 ms per loop\n"
     ]
    }
   ],
   "source": [
    "# Even faster if we only generate new orbits.\n",
    "%timeit pop.observe(new_orbits=True)"
   ]
  },
  {
   "cell_type": "code",
   "execution_count": 12,
   "metadata": {
    "collapsed": false,
    "scrolled": true
   },
   "outputs": [
    {
     "data": {
      "text/plain": [
       "(86.090000000000003, 9.2218165238742404)"
      ]
     },
     "execution_count": 12,
     "metadata": {},
     "output_type": "execute_result"
    }
   ],
   "source": [
    "# So we can predict the expected number of observations pretty easily.\n",
    "import numpy as np\n",
    "N = 100\n",
    "n_obs = np.array([len(pop.observe(new_orbits=True)) for i in range(N)])\n",
    "n_obs.mean(), n_obs.std()"
   ]
  },
  {
   "cell_type": "code",
   "execution_count": 13,
   "metadata": {
    "collapsed": false
   },
   "outputs": [
    {
     "name": "stdout",
     "output_type": "stream",
     "text": [
      "83\n"
     ]
    },
    {
     "data": {
      "text/plain": [
       "Index([u'host', u'period', u'ecc', u'w', u'inc', u'a', u'aR', u'b_pri',\n",
       "       u'b_sec', u'k', u'tra', u'occ', u'd_pri', u'd_sec', u'T14_pri',\n",
       "       u'T14_sec', u'T23_pri', u'T23_sec', u'dataspan', u'dutycycle',\n",
       "       u'b_target', u'flux_ratio', u'dilution', u'n_pri', u'n_sec',\n",
       "       u'phase_sec', u'trap_dur_pri', u'trap_depth_pri', u'trap_slope_pri',\n",
       "       u'trap_dur_sec', u'trap_depth_sec', u'trap_slope_sec'],\n",
       "      dtype='object')"
      ]
     },
     "execution_count": 13,
     "metadata": {},
     "output_type": "execute_result"
    }
   ],
   "source": [
    "# Notice that the above does not yet have trapezoidal parameters.  There are two options to generate these.\n",
    "# Either we can set the fit_trap parameter, as follows:\n",
    "obs = pop.observe(fit_trap=True)\n",
    "print(len(obs))\n",
    "obs.columns"
   ]
  },
  {
   "cell_type": "code",
   "execution_count": 14,
   "metadata": {
    "collapsed": false
   },
   "outputs": [
    {
     "name": "stdout",
     "output_type": "stream",
     "text": [
      "1 loops, best of 3: 571 ms per loop\n"
     ]
    }
   ],
   "source": [
    "# All things considered, this is still pretty fast if we just need to do it a few times:\n",
    "%timeit pop.observe(fit_trap=True)"
   ]
  },
  {
   "cell_type": "code",
   "execution_count": 15,
   "metadata": {
    "collapsed": false
   },
   "outputs": [
    {
     "name": "stdout",
     "output_type": "stream",
     "text": [
      "EB: Depth trained: R2=0.998884328172\n",
      "EB: Duration trained: R2=0.999454156259\n",
      "EB: Slope trained: R2=0.995354253342\n",
      "101\n"
     ]
    },
    {
     "data": {
      "text/plain": [
       "Index([u'host', u'period', u'ecc', u'w', u'inc', u'a', u'aR', u'b_pri',\n",
       "       u'b_sec', u'k', u'tra', u'occ', u'd_pri', u'd_sec', u'T14_pri',\n",
       "       u'T14_sec', u'T23_pri', u'T23_sec', u'dataspan', u'dutycycle',\n",
       "       u'b_target', u'flux_ratio', u'dilution', u'n_pri', u'n_sec',\n",
       "       u'phase_sec', u'trap_dur_pri_regr', u'trap_depth_pri_regr',\n",
       "       u'trap_slope_pri_regr', u'trap_dur_sec_regr', u'trap_depth_sec_regr',\n",
       "       u'trap_slope_sec_regr'],\n",
       "      dtype='object')"
      ]
     },
     "execution_count": 15,
     "metadata": {},
     "output_type": "execute_result"
    }
   ],
   "source": [
    "# However, this is pretty slow if we want to do inference.  To help with this, we can \n",
    "# tell it to train & use a regression.  Training only happens once; by default with 10,000 \n",
    "# synthetic observations.  This takes a minute or so.\n",
    "obs = pop.observe(regr_trap=True)\n",
    "print(len(obs))\n",
    "obs.columns"
   ]
  },
  {
   "cell_type": "code",
   "execution_count": 16,
   "metadata": {
    "collapsed": false
   },
   "outputs": [
    {
     "name": "stdout",
     "output_type": "stream",
     "text": [
      "10 loops, best of 3: 23.4 ms per loop\n"
     ]
    }
   ],
   "source": [
    "# Subsequent calls are much faster\n",
    "%timeit pop.observe(regr_trap=True)"
   ]
  },
  {
   "cell_type": "code",
   "execution_count": 17,
   "metadata": {
    "collapsed": false
   },
   "outputs": [
    {
     "name": "stdout",
     "output_type": "stream",
     "text": [
      "1 loops, best of 3: 223 ms per loop\n"
     ]
    }
   ],
   "source": [
    "# Even generating a new stellar population & observing it is pretty quick\n",
    "%timeit pop.observe(regr_trap=True, new=True)"
   ]
  },
  {
   "cell_type": "code",
   "execution_count": 16,
   "metadata": {
    "collapsed": false
   },
   "outputs": [
    {
     "name": "stdout",
     "output_type": "stream",
     "text": [
      "10 loops, best of 3: 94.1 ms per loop\n"
     ]
    }
   ],
   "source": [
    "# Or again, you can just generate new orbits (rather than new binaries & new orbits)\n",
    "%timeit pop.observe(regr_trap=True, new_orbits=True)"
   ]
  },
  {
   "cell_type": "code",
   "execution_count": 40,
   "metadata": {
    "collapsed": false,
    "scrolled": true
   },
   "outputs": [
    {
     "name": "stdout",
     "output_type": "stream",
     "text": [
      "2083\n"
     ]
    },
    {
     "data": {
      "text/plain": [
       "Index([u'host', u'period', u'ecc', u'w', u'inc', u'a', u'aR', u'b_pri',\n",
       "       u'b_sec', u'k', u'tra', u'occ', u'd_pri', u'd_sec', u'T14_pri',\n",
       "       u'T14_sec', u'T23_pri', u'T23_sec', u'dataspan', u'dutycycle',\n",
       "       u'b_target', u'flux_ratio', u'dilution', u'n_pri', u'n_sec',\n",
       "       u'phase_sec', u'trap_dur_pri_regr', u'trap_depth_pri_regr',\n",
       "       u'trap_slope_pri_regr', u'trap_dur_sec_regr', u'trap_depth_sec_regr',\n",
       "       u'trap_slope_sec_regr'],\n",
       "      dtype='object')"
      ]
     },
     "execution_count": 40,
     "metadata": {},
     "output_type": "execute_result"
    }
   ],
   "source": [
    "# Generating the training data used for the trapezoid shape regression above used\n",
    "# this function, which can be otherwise useful to sample >N random observations \n",
    "# from the existing population.  `trap_regr` defaults to `True` here.  \n",
    "# This function also takes `new` or `new_orbits` keywords.\n",
    "obs_pop = pop.get_N_observed(N=2000, new_orbits=True)\n",
    "print(len(obs_pop))\n",
    "obs_pop.columns"
   ]
  },
  {
   "cell_type": "code",
   "execution_count": 45,
   "metadata": {
    "collapsed": false
   },
   "outputs": [
    {
     "data": {
      "image/png": "[encoded data removed]",
      "text/plain": [
       "<matplotlib.figure.Figure at 0x7f41e01a3b50>"
      ]
     },
     "metadata": {},
     "output_type": "display_data"
    }
   ],
   "source": [
    "# Let's look at the distribution of trapezoid parameters\n",
    "%matplotlib inline\n",
    "from corner import corner\n",
    "\n",
    "def trap_corner(df, regr=True, **kwargs):\n",
    "\n",
    "    pri = df.n_pri.values > 0\n",
    "    sec = (df.n_sec.values > 0) & ~pri\n",
    "    \n",
    "    if regr:\n",
    "        dur = pri*df.trap_dur_pri_regr.fillna(0) + sec*df.trap_dur_sec_regr.fillna(0)\n",
    "        logd = np.log10(pri*df.trap_depth_pri_regr.fillna(0) + \n",
    "                        sec*df.trap_depth_sec_regr.fillna(0))\n",
    "        slope = pri*df.trap_slope_pri_regr.fillna(0) + sec*df.trap_slope_sec_regr.fillna(0)\n",
    "    else:\n",
    "        dur = pri*df.trap_dur_pri.fillna(0) + sec*df.trap_dur_sec.fillna(0)\n",
    "        logd = np.log10(pri*df.trap_depth_pri.fillna(0) + sec*df.trap_depth_sec.fillna(0))\n",
    "        slope = pri*df.trap_slope_pri.fillna(0) + sec*df.trap_slope_sec.fillna(0)\n",
    "        \n",
    "    #return (dur, logd, slope)\n",
    "    return corner(np.array([dur, logd, slope]).T, labels=['duration', 'log(d)', 'T/tau'],\n",
    "                 plot_contours=False, **kwargs)\n",
    "\n",
    "    \n",
    "trap_corner(obs_pop, range=[(0,0.6),(-4,0), (2,6)]);"
   ]
  },
  {
   "cell_type": "code",
   "execution_count": 42,
   "metadata": {
    "collapsed": true
   },
   "outputs": [],
   "source": [
    "obs_pop2 = pop.get_N_observed(N=2000, new_orbits=True, fit_trap=True)"
   ]
  },
  {
   "cell_type": "code",
   "execution_count": 46,
   "metadata": {
    "collapsed": false
   },
   "outputs": [
    {
     "data": {
      "image/png": "[encoded data removed]",
      "text/plain": [
       "<matplotlib.figure.Figure at 0x7f41e0195750>"
      ]
     },
     "metadata": {},
     "output_type": "display_data"
    }
   ],
   "source": [
    "trap_corner(obs_pop2, regr=False, range=[(0,0.6),(-4,0), (2,6)]);"
   ]
  },
  {
   "cell_type": "code",
   "execution_count": 18,
   "metadata": {
    "collapsed": false
   },
   "outputs": [
    {
     "data": {
      "text/plain": [
       "(4.3399999999999999, 1.8396738841436002)"
      ]
     },
     "execution_count": 18,
     "metadata": {},
     "output_type": "execute_result"
    }
   ],
   "source": [
    "# We can now look, e.g. at the expected number of single/double eclipsing systems:\n",
    "query = '(n_pri < 3) & (n_sec < 3) & (n_pri==0 | n_sec==0)'\n",
    "N = 100\n",
    "n_obs = np.array([len(pop.observe(new_orbits=True).query(query)) for i in range(N)])\n",
    "n_obs.mean(), n_obs.std()"
   ]
  },
  {
   "cell_type": "code",
   "execution_count": 19,
   "metadata": {
    "collapsed": false
   },
   "outputs": [
    {
     "data": {
      "text/plain": [
       "(6.2800000000000002, 2.1821090715177367)"
      ]
     },
     "execution_count": 19,
     "metadata": {},
     "output_type": "execute_result"
    }
   ],
   "source": [
    "# Try this again, this time using the empirical eccentricity distribution\n",
    "# (as opposed to the beta distribution with default params)---eccentricity matters!\n",
    "pop.ecc_empirical = True\n",
    "n_obs = np.array([len(pop.observe(new_orbits=True).query(query)) for i in range(N)])\n",
    "n_obs.mean(), n_obs.std()"
   ]
  },
  {
   "cell_type": "code",
   "execution_count": 20,
   "metadata": {
    "collapsed": false
   },
   "outputs": [],
   "source": [
    "# You can also save a trained model so that you can load it back and hit the ground running.\n",
    "pop.save('ebpop', overwrite=True)\n",
    "pop = KeplerBinaryPopulation.load('ebpop')"
   ]
  },
  {
   "cell_type": "code",
   "execution_count": 21,
   "metadata": {
    "collapsed": false
   },
   "outputs": [
    {
     "data": {
      "text/html": [
       "<div>\n",
       "<table border=\"1\" class=\"dataframe\">\n",
       "  <thead>\n",
       "    <tr style=\"text-align: right;\">\n",
       "      <th></th>\n",
       "      <th>host</th>\n",
       "      <th>period</th>\n",
       "      <th>ecc</th>\n",
       "      <th>w</th>\n",
       "      <th>inc</th>\n",
       "      <th>a</th>\n",
       "      <th>aR</th>\n",
       "      <th>b_pri</th>\n",
       "      <th>b_sec</th>\n",
       "      <th>k</th>\n",
       "      <th>...</th>\n",
       "      <th>flux_ratio</th>\n",
       "      <th>n_pri</th>\n",
       "      <th>n_sec</th>\n",
       "      <th>phase_sec</th>\n",
       "      <th>trap_dur_pri_regr</th>\n",
       "      <th>trap_depth_pri_regr</th>\n",
       "      <th>trap_slope_pri_regr</th>\n",
       "      <th>trap_dur_sec_regr</th>\n",
       "      <th>trap_depth_sec_regr</th>\n",
       "      <th>trap_slope_sec_regr</th>\n",
       "    </tr>\n",
       "  </thead>\n",
       "  <tbody>\n",
       "    <tr>\n",
       "      <th>0</th>\n",
       "      <td>1303</td>\n",
       "      <td>1.508235</td>\n",
       "      <td>0.794690</td>\n",
       "      <td>0.908785</td>\n",
       "      <td>0.571017</td>\n",
       "      <td>4.392560e+11</td>\n",
       "      <td>6.760580</td>\n",
       "      <td>1.288318</td>\n",
       "      <td>5.616169</td>\n",
       "      <td>0.495810</td>\n",
       "      <td>...</td>\n",
       "      <td>0.021415</td>\n",
       "      <td>849</td>\n",
       "      <td>0</td>\n",
       "      <td>0.871170</td>\n",
       "      <td>0.044697</td>\n",
       "      <td>0.021101</td>\n",
       "      <td>2.288434</td>\n",
       "      <td>NaN</td>\n",
       "      <td>NaN</td>\n",
       "      <td>NaN</td>\n",
       "    </tr>\n",
       "    <tr>\n",
       "      <th>1</th>\n",
       "      <td>1481</td>\n",
       "      <td>1.119021</td>\n",
       "      <td>0.095647</td>\n",
       "      <td>1.220300</td>\n",
       "      <td>1.557535</td>\n",
       "      <td>3.946543e+11</td>\n",
       "      <td>4.311374</td>\n",
       "      <td>0.051982</td>\n",
       "      <td>0.062243</td>\n",
       "      <td>0.645139</td>\n",
       "      <td>...</td>\n",
       "      <td>0.267657</td>\n",
       "      <td>1139</td>\n",
       "      <td>1144</td>\n",
       "      <td>0.520989</td>\n",
       "      <td>0.111869</td>\n",
       "      <td>0.368570</td>\n",
       "      <td>2.405604</td>\n",
       "      <td>0.140385</td>\n",
       "      <td>0.207068</td>\n",
       "      <td>2.538372</td>\n",
       "    </tr>\n",
       "    <tr>\n",
       "      <th>2</th>\n",
       "      <td>1704</td>\n",
       "      <td>54.984939</td>\n",
       "      <td>0.687238</td>\n",
       "      <td>1.753266</td>\n",
       "      <td>1.523692</td>\n",
       "      <td>4.608242e+12</td>\n",
       "      <td>60.380019</td>\n",
       "      <td>0.895275</td>\n",
       "      <td>4.628196</td>\n",
       "      <td>0.279898</td>\n",
       "      <td>...</td>\n",
       "      <td>0.003981</td>\n",
       "      <td>22</td>\n",
       "      <td>0</td>\n",
       "      <td>0.392804</td>\n",
       "      <td>0.110049</td>\n",
       "      <td>0.047288</td>\n",
       "      <td>2.554566</td>\n",
       "      <td>NaN</td>\n",
       "      <td>NaN</td>\n",
       "      <td>NaN</td>\n",
       "    </tr>\n",
       "    <tr>\n",
       "      <th>3</th>\n",
       "      <td>2426</td>\n",
       "      <td>5.777147</td>\n",
       "      <td>0.086197</td>\n",
       "      <td>4.066556</td>\n",
       "      <td>1.550388</td>\n",
       "      <td>1.162926e+12</td>\n",
       "      <td>18.001832</td>\n",
       "      <td>0.391580</td>\n",
       "      <td>0.341142</td>\n",
       "      <td>0.932021</td>\n",
       "      <td>...</td>\n",
       "      <td>0.769349</td>\n",
       "      <td>175</td>\n",
       "      <td>184</td>\n",
       "      <td>0.466909</td>\n",
       "      <td>0.179252</td>\n",
       "      <td>0.405019</td>\n",
       "      <td>2.298384</td>\n",
       "      <td>0.161438</td>\n",
       "      <td>0.359476</td>\n",
       "      <td>2.288638</td>\n",
       "    </tr>\n",
       "    <tr>\n",
       "      <th>4</th>\n",
       "      <td>5496</td>\n",
       "      <td>44.842503</td>\n",
       "      <td>0.808260</td>\n",
       "      <td>4.761843</td>\n",
       "      <td>1.518526</td>\n",
       "      <td>3.995373e+12</td>\n",
       "      <td>87.611478</td>\n",
       "      <td>8.234749</td>\n",
       "      <td>0.878159</td>\n",
       "      <td>0.872604</td>\n",
       "      <td>...</td>\n",
       "      <td>0.376656</td>\n",
       "      <td>0</td>\n",
       "      <td>19</td>\n",
       "      <td>0.543067</td>\n",
       "      <td>NaN</td>\n",
       "      <td>NaN</td>\n",
       "      <td>NaN</td>\n",
       "      <td>0.082805</td>\n",
       "      <td>0.130946</td>\n",
       "      <td>2.359772</td>\n",
       "    </tr>\n",
       "  </tbody>\n",
       "</table>\n",
       "<p>5 rows × 31 columns</p>\n",
       "</div>"
      ],
      "text/plain": [
       "   host     period       ecc         w       inc             a         aR  \\\n",
       "0  1303   1.508235  0.794690  0.908785  0.571017  4.392560e+11   6.760580   \n",
       "1  1481   1.119021  0.095647  1.220300  1.557535  3.946543e+11   4.311374   \n",
       "2  1704  54.984939  0.687238  1.753266  1.523692  4.608242e+12  60.380019   \n",
       "3  2426   5.777147  0.086197  4.066556  1.550388  1.162926e+12  18.001832   \n",
       "4  5496  44.842503  0.808260  4.761843  1.518526  3.995373e+12  87.611478   \n",
       "\n",
       "      b_pri     b_sec         k         ...          flux_ratio n_pri  n_sec  \\\n",
       "0  1.288318  5.616169  0.495810         ...            0.021415   849      0   \n",
       "1  0.051982  0.062243  0.645139         ...            0.267657  1139   1144   \n",
       "2  0.895275  4.628196  0.279898         ...            0.003981    22      0   \n",
       "3  0.391580  0.341142  0.932021         ...            0.769349   175    184   \n",
       "4  8.234749  0.878159  0.872604         ...            0.376656     0     19   \n",
       "\n",
       "   phase_sec  trap_dur_pri_regr  trap_depth_pri_regr  trap_slope_pri_regr  \\\n",
       "0   0.871170           0.044697             0.021101             2.288434   \n",
       "1   0.520989           0.111869             0.368570             2.405604   \n",
       "2   0.392804           0.110049             0.047288             2.554566   \n",
       "3   0.466909           0.179252             0.405019             2.298384   \n",
       "4   0.543067                NaN                  NaN                  NaN   \n",
       "\n",
       "   trap_dur_sec_regr  trap_depth_sec_regr  trap_slope_sec_regr  \n",
       "0                NaN                  NaN                  NaN  \n",
       "1           0.140385             0.207068             2.538372  \n",
       "2                NaN                  NaN                  NaN  \n",
       "3           0.161438             0.359476             2.288638  \n",
       "4           0.082805             0.130946             2.359772  \n",
       "\n",
       "[5 rows x 31 columns]"
      ]
     },
     "execution_count": 21,
     "metadata": {},
     "output_type": "execute_result"
    }
   ],
   "source": [
    "# No training necessary!\n",
    "pop.observe(regr_trap=True).head()"
   ]
  },
  {
   "cell_type": "code",
   "execution_count": null,
   "metadata": {
    "collapsed": true
   },
   "outputs": [],
   "source": []
  }
 ],
 "metadata": {
  "kernelspec": {
   "display_name": "Python 2",
   "language": "python",
   "name": "python2"
  },
  "language_info": {
   "codemirror_mode": {
    "name": "ipython",
    "version": 2
   },
   "file_extension": ".py",
   "mimetype": "text/x-python",
   "name": "python",
   "nbconvert_exporter": "python",
   "pygments_lexer": "ipython2",
   "version": "2.7.11"
  }
 },
 "nbformat": 4,
 "nbformat_minor": 0
}
