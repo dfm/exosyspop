{
 "cells": [
  {
   "cell_type": "code",
   "execution_count": 1,
   "metadata": {
    "collapsed": false,
    "scrolled": false
   },
   "outputs": [
    {
     "name": "stderr",
     "output_type": "stream",
     "text": [
      "WARNING:root:progressbar not imported\n"
     ]
    }
   ],
   "source": [
    "import sys\n",
    "\n",
    "## This to get the peerless target star DataFrame for example purposes\n",
    "#sys.path.append('/u/tdm/repositories/peerless/prediction')\n",
    "#sys.path.append('/u/tdm/repositories/peerless')\n",
    "#from targets import targets\n",
    "\n",
    "\n",
    "import pandas as pd\n",
    "targets = pd.read_hdf('targets.h5')\n",
    "\n",
    "# The action is here. Depends on vespa & isochrones.\n",
    "from exosyspop.populations import KeplerBinaryPopulation"
   ]
  },
  {
   "cell_type": "code",
   "execution_count": 2,
   "metadata": {
    "collapsed": false,
    "scrolled": true
   },
   "outputs": [],
   "source": [
    "pop = KeplerBinaryPopulation(targets, fB=0.4)"
   ]
  },
  {
   "cell_type": "code",
   "execution_count": 3,
   "metadata": {
    "collapsed": false,
    "scrolled": true
   },
   "outputs": [
    {
     "name": "stdout",
     "output_type": "stream",
     "text": [
      "dmag regressor trained, R2=0.999518867152\n",
      "qR regressor trained, R2=0.999517339583\n"
     ]
    },
    {
     "data": {
      "text/plain": [
       "array([        nan,  0.96345122,         nan, ...,         nan,\n",
       "        0.4876422 ,  0.66056978])"
      ]
     },
     "execution_count": 3,
     "metadata": {},
     "output_type": "execute_result"
    }
   ],
   "source": [
    "# Accessing secondary properties will initialize a secondary simulation,\n",
    "# calling pop._generate_binaries().  The first time this is called, the\n",
    "# secondary property regressors get trained.\n",
    "pop.radius_B"
   ]
  },
  {
   "cell_type": "code",
   "execution_count": 4,
   "metadata": {
    "collapsed": false,
    "scrolled": true
   },
   "outputs": [
    {
     "name": "stdout",
     "output_type": "stream",
     "text": [
      "[       nan        nan  0.7760728 ...,        nan        nan        nan]\n",
      "10 loops, best of 3: 99.6 ms per loop\n"
     ]
    }
   ],
   "source": [
    "# subsequent calls are much faster; e.g.\n",
    "pop._generate_binaries()\n",
    "print(pop.radius_B)\n",
    "%timeit pop._generate_binaries()"
   ]
  },
  {
   "cell_type": "code",
   "execution_count": 5,
   "metadata": {
    "collapsed": false
   },
   "outputs": [
    {
     "name": "stdout",
     "output_type": "stream",
     "text": [
      "[        nan         nan         nan ...,         nan  0.25332     0.52269921]\n",
      "1 loops, best of 3: 363 ms per loop\n"
     ]
    }
   ],
   "source": [
    "# If physical accuracy is important, you can also choose to generate binary properties\n",
    "# directly from the isochrone, but it's a factor of a few slower:\n",
    "pop._generate_binaries(use_ic=True)\n",
    "print(pop.radius_B)\n",
    "%timeit pop._generate_binaries(use_ic=True)"
   ]
  },
  {
   "cell_type": "code",
   "execution_count": 6,
   "metadata": {
    "collapsed": false
   },
   "outputs": [
    {
     "data": {
      "text/plain": [
       "array([  2.70754341e+02,   1.50263650e+03,   1.59658107e+09, ...,\n",
       "         3.70762435e+01,   3.38338829e+05,   1.81463417e+06])"
      ]
     },
     "execution_count": 6,
     "metadata": {},
     "output_type": "execute_result"
    }
   ],
   "source": [
    "# Similarly, accessing orbital properties will generate them\n",
    "pop.period"
   ]
  },
  {
   "cell_type": "markdown",
   "metadata": {},
   "source": [
    "# Synthetic observations"
   ]
  },
  {
   "cell_type": "code",
   "execution_count": 7,
   "metadata": {
    "collapsed": false,
    "scrolled": true
   },
   "outputs": [
    {
     "name": "stdout",
     "output_type": "stream",
     "text": [
      "543\n",
      "Index([u'period', u'ecc', u'w', u'inc', u'a', u'aR', u'b_pri', u'b_sec', u'k',\n",
      "       u'tra', u'occ', u'd_pri', u'd_sec', u'T14_pri', u'T14_sec', u'T23_pri',\n",
      "       u'T23_sec', u'dataspan', u'dutycycle', u'flux_ratio', u'n_pri',\n",
      "       u'n_sec', u'phase_sec'],\n",
      "      dtype='object')\n"
     ]
    },
    {
     "data": {
      "text/html": [
       "<div>\n",
       "<table border=\"1\" class=\"dataframe\">\n",
       "  <thead>\n",
       "    <tr style=\"text-align: right;\">\n",
       "      <th></th>\n",
       "      <th>period</th>\n",
       "      <th>ecc</th>\n",
       "      <th>w</th>\n",
       "      <th>inc</th>\n",
       "      <th>a</th>\n",
       "      <th>aR</th>\n",
       "      <th>b_pri</th>\n",
       "      <th>b_sec</th>\n",
       "      <th>k</th>\n",
       "      <th>tra</th>\n",
       "      <th>...</th>\n",
       "      <th>T14_pri</th>\n",
       "      <th>T14_sec</th>\n",
       "      <th>T23_pri</th>\n",
       "      <th>T23_sec</th>\n",
       "      <th>dataspan</th>\n",
       "      <th>dutycycle</th>\n",
       "      <th>flux_ratio</th>\n",
       "      <th>n_pri</th>\n",
       "      <th>n_sec</th>\n",
       "      <th>phase_sec</th>\n",
       "    </tr>\n",
       "  </thead>\n",
       "  <tbody>\n",
       "    <tr>\n",
       "      <th>297</th>\n",
       "      <td>1.972736</td>\n",
       "      <td>0.337185</td>\n",
       "      <td>0.800068</td>\n",
       "      <td>1.337084</td>\n",
       "      <td>4.868477e+11</td>\n",
       "      <td>8.939893</td>\n",
       "      <td>1.477581</td>\n",
       "      <td>2.420525</td>\n",
       "      <td>0.482794</td>\n",
       "      <td>True</td>\n",
       "      <td>...</td>\n",
       "      <td>0.006800</td>\n",
       "      <td>0.000000</td>\n",
       "      <td>0.000000</td>\n",
       "      <td>0.000000</td>\n",
       "      <td>1459.789</td>\n",
       "      <td>0.8751</td>\n",
       "      <td>0.025788</td>\n",
       "      <td>648</td>\n",
       "      <td>0</td>\n",
       "      <td>0.652602</td>\n",
       "    </tr>\n",
       "    <tr>\n",
       "      <th>777</th>\n",
       "      <td>26.807846</td>\n",
       "      <td>0.412153</td>\n",
       "      <td>3.814548</td>\n",
       "      <td>1.538211</td>\n",
       "      <td>3.322826e+12</td>\n",
       "      <td>42.088512</td>\n",
       "      <td>1.531805</td>\n",
       "      <td>0.905638</td>\n",
       "      <td>0.844951</td>\n",
       "      <td>True</td>\n",
       "      <td>...</td>\n",
       "      <td>0.255781</td>\n",
       "      <td>0.236416</td>\n",
       "      <td>0.000000</td>\n",
       "      <td>0.000000</td>\n",
       "      <td>1459.789</td>\n",
       "      <td>0.6987</td>\n",
       "      <td>0.587086</td>\n",
       "      <td>38</td>\n",
       "      <td>33</td>\n",
       "      <td>0.291698</td>\n",
       "    </tr>\n",
       "    <tr>\n",
       "      <th>1773</th>\n",
       "      <td>32.332283</td>\n",
       "      <td>0.162323</td>\n",
       "      <td>2.090950</td>\n",
       "      <td>1.564085</td>\n",
       "      <td>3.815206e+12</td>\n",
       "      <td>38.839093</td>\n",
       "      <td>0.222459</td>\n",
       "      <td>0.295402</td>\n",
       "      <td>0.657896</td>\n",
       "      <td>True</td>\n",
       "      <td>...</td>\n",
       "      <td>0.376652</td>\n",
       "      <td>0.496640</td>\n",
       "      <td>0.059567</td>\n",
       "      <td>0.052514</td>\n",
       "      <td>1459.789</td>\n",
       "      <td>0.6986</td>\n",
       "      <td>0.319264</td>\n",
       "      <td>28</td>\n",
       "      <td>33</td>\n",
       "      <td>0.448180</td>\n",
       "    </tr>\n",
       "    <tr>\n",
       "      <th>2484</th>\n",
       "      <td>1.385138</td>\n",
       "      <td>0.494728</td>\n",
       "      <td>1.674322</td>\n",
       "      <td>1.153620</td>\n",
       "      <td>3.938570e+11</td>\n",
       "      <td>6.588954</td>\n",
       "      <td>1.351326</td>\n",
       "      <td>3.969690</td>\n",
       "      <td>0.383128</td>\n",
       "      <td>True</td>\n",
       "      <td>...</td>\n",
       "      <td>0.012576</td>\n",
       "      <td>0.000000</td>\n",
       "      <td>0.000000</td>\n",
       "      <td>0.000000</td>\n",
       "      <td>1459.789</td>\n",
       "      <td>0.8752</td>\n",
       "      <td>0.009414</td>\n",
       "      <td>927</td>\n",
       "      <td>0</td>\n",
       "      <td>0.462634</td>\n",
       "    </tr>\n",
       "    <tr>\n",
       "      <th>2571</th>\n",
       "      <td>9.281982</td>\n",
       "      <td>0.417876</td>\n",
       "      <td>2.192676</td>\n",
       "      <td>1.531918</td>\n",
       "      <td>1.441547e+12</td>\n",
       "      <td>23.363715</td>\n",
       "      <td>0.559503</td>\n",
       "      <td>1.135045</td>\n",
       "      <td>0.455617</td>\n",
       "      <td>True</td>\n",
       "      <td>...</td>\n",
       "      <td>0.115395</td>\n",
       "      <td>0.158710</td>\n",
       "      <td>0.000000</td>\n",
       "      <td>0.000000</td>\n",
       "      <td>1459.789</td>\n",
       "      <td>0.8749</td>\n",
       "      <td>0.014301</td>\n",
       "      <td>134</td>\n",
       "      <td>136</td>\n",
       "      <td>0.337085</td>\n",
       "    </tr>\n",
       "  </tbody>\n",
       "</table>\n",
       "<p>5 rows × 23 columns</p>\n",
       "</div>"
      ],
      "text/plain": [
       "         period       ecc         w       inc             a         aR  \\\n",
       "297    1.972736  0.337185  0.800068  1.337084  4.868477e+11   8.939893   \n",
       "777   26.807846  0.412153  3.814548  1.538211  3.322826e+12  42.088512   \n",
       "1773  32.332283  0.162323  2.090950  1.564085  3.815206e+12  38.839093   \n",
       "2484   1.385138  0.494728  1.674322  1.153620  3.938570e+11   6.588954   \n",
       "2571   9.281982  0.417876  2.192676  1.531918  1.441547e+12  23.363715   \n",
       "\n",
       "         b_pri     b_sec         k   tra    ...       T14_pri   T14_sec  \\\n",
       "297   1.477581  2.420525  0.482794  True    ...      0.006800  0.000000   \n",
       "777   1.531805  0.905638  0.844951  True    ...      0.255781  0.236416   \n",
       "1773  0.222459  0.295402  0.657896  True    ...      0.376652  0.496640   \n",
       "2484  1.351326  3.969690  0.383128  True    ...      0.012576  0.000000   \n",
       "2571  0.559503  1.135045  0.455617  True    ...      0.115395  0.158710   \n",
       "\n",
       "       T23_pri   T23_sec  dataspan  dutycycle  flux_ratio  n_pri  n_sec  \\\n",
       "297   0.000000  0.000000  1459.789     0.8751    0.025788    648      0   \n",
       "777   0.000000  0.000000  1459.789     0.6987    0.587086     38     33   \n",
       "1773  0.059567  0.052514  1459.789     0.6986    0.319264     28     33   \n",
       "2484  0.000000  0.000000  1459.789     0.8752    0.009414    927      0   \n",
       "2571  0.000000  0.000000  1459.789     0.8749    0.014301    134    136   \n",
       "\n",
       "      phase_sec  \n",
       "297    0.652602  \n",
       "777    0.291698  \n",
       "1773   0.448180  \n",
       "2484   0.462634  \n",
       "2571   0.337085  \n",
       "\n",
       "[5 rows x 23 columns]"
      ]
     },
     "execution_count": 7,
     "metadata": {},
     "output_type": "execute_result"
    }
   ],
   "source": [
    "# Now, we can observe and see what we see.  This takes into account\n",
    "# duty cycle & data span, as well as geometry.\n",
    "obs = pop.observe()\n",
    "print(len(obs))\n",
    "print(obs.columns)\n",
    "obs.head()"
   ]
  },
  {
   "cell_type": "code",
   "execution_count": 8,
   "metadata": {
    "collapsed": false
   },
   "outputs": [
    {
     "name": "stdout",
     "output_type": "stream",
     "text": [
      "1 loops, best of 3: 223 ms per loop\n"
     ]
    }
   ],
   "source": [
    "# This is pretty fast, even when generating a new population each time:\n",
    "%timeit pop.observe(new=True)"
   ]
  },
  {
   "cell_type": "code",
   "execution_count": 9,
   "metadata": {
    "collapsed": false
   },
   "outputs": [
    {
     "name": "stdout",
     "output_type": "stream",
     "text": [
      "10 loops, best of 3: 91.9 ms per loop\n"
     ]
    }
   ],
   "source": [
    "# Even faster if we only generate new orbits.\n",
    "%timeit pop.observe(new_orbits=True)"
   ]
  },
  {
   "cell_type": "code",
   "execution_count": 10,
   "metadata": {
    "collapsed": false,
    "scrolled": true
   },
   "outputs": [
    {
     "data": {
      "text/plain": [
       "(534.16999999999996, 20.439204974753785)"
      ]
     },
     "execution_count": 10,
     "metadata": {},
     "output_type": "execute_result"
    }
   ],
   "source": [
    "# So we can predict the expected number of observations pretty easily.\n",
    "import numpy as np\n",
    "N = 100\n",
    "n_obs = np.array([len(pop.observe(new_orbits=True)) for i in range(N)])\n",
    "n_obs.mean(), n_obs.std()"
   ]
  },
  {
   "cell_type": "code",
   "execution_count": 11,
   "metadata": {
    "collapsed": false
   },
   "outputs": [
    {
     "name": "stdout",
     "output_type": "stream",
     "text": [
      "1176\n"
     ]
    },
    {
     "data": {
      "text/plain": [
       "Index([u'period', u'ecc', u'w', u'inc', u'a', u'aR', u'b_pri', u'b_sec', u'k',\n",
       "       u'tra', u'occ', u'd_pri', u'd_sec', u'T14_pri', u'T14_sec', u'T23_pri',\n",
       "       u'T23_sec', u'dataspan', u'dutycycle', u'flux_ratio', u'n_pri',\n",
       "       u'n_sec', u'phase_sec', u'trap_dur_pri', u'trap_depth_pri',\n",
       "       u'trap_slope_pri', u'trap_dur_sec', u'trap_depth_sec',\n",
       "       u'trap_slope_sec'],\n",
       "      dtype='object')"
      ]
     },
     "execution_count": 11,
     "metadata": {},
     "output_type": "execute_result"
    }
   ],
   "source": [
    "# Notice that the above does not yet have trapezoidal parameters.  There are two options to generate these.\n",
    "# Either we can set the fit_trap parameter, as follows:\n",
    "obs = pop.observe(fit_trap=True)\n",
    "print(len(obs))\n",
    "obs.columns"
   ]
  },
  {
   "cell_type": "code",
   "execution_count": 12,
   "metadata": {
    "collapsed": false
   },
   "outputs": [
    {
     "name": "stdout",
     "output_type": "stream",
     "text": [
      "1 loops, best of 3: 2.86 s per loop\n"
     ]
    }
   ],
   "source": [
    "# All things considered, this is still pretty fast if we just need to do it a few times:\n",
    "%timeit pop.observe(fit_trap=True)"
   ]
  },
  {
   "cell_type": "code",
   "execution_count": 13,
   "metadata": {
    "collapsed": false
   },
   "outputs": [
    {
     "name": "stdout",
     "output_type": "stream",
     "text": [
      "Depth trained: R2=0.778021712264\n",
      "Duration trained: R2=0.797347212778\n",
      "Slope trained: R2=0.839444162163\n",
      "511\n"
     ]
    },
    {
     "data": {
      "text/plain": [
       "Index([u'period', u'ecc', u'w', u'inc', u'a', u'aR', u'b_pri', u'b_sec', u'k',\n",
       "       u'tra', u'occ', u'd_pri', u'd_sec', u'T14_pri', u'T14_sec', u'T23_pri',\n",
       "       u'T23_sec', u'dataspan', u'dutycycle', u'flux_ratio', u'n_pri',\n",
       "       u'n_sec', u'phase_sec', u'trap_dur_pri_regr', u'trap_depth_pri_regr',\n",
       "       u'trap_slope_pri_regr', u'trap_dur_sec_regr', u'trap_depth_sec_regr',\n",
       "       u'trap_slope_sec_regr'],\n",
       "      dtype='object')"
      ]
     },
     "execution_count": 13,
     "metadata": {},
     "output_type": "execute_result"
    }
   ],
   "source": [
    "# However, this is pretty slow if we want to do inference.  To help with this, we can \n",
    "# tell it to train & use a regression.  Training only happens once; by default with 10,000 \n",
    "# synthetic observations.  This takes a minute or so.\n",
    "obs = pop.observe(regr_trap=True)\n",
    "print(len(obs))\n",
    "obs.columns"
   ]
  },
  {
   "cell_type": "code",
   "execution_count": 14,
   "metadata": {
    "collapsed": false
   },
   "outputs": [
    {
     "name": "stdout",
     "output_type": "stream",
     "text": [
      "10 loops, best of 3: 24.8 ms per loop\n"
     ]
    }
   ],
   "source": [
    "# Subsequent calls are much faster\n",
    "%timeit pop.observe(regr_trap=True)"
   ]
  },
  {
   "cell_type": "code",
   "execution_count": 15,
   "metadata": {
    "collapsed": false
   },
   "outputs": [
    {
     "name": "stdout",
     "output_type": "stream",
     "text": [
      "1 loops, best of 3: 238 ms per loop\n"
     ]
    }
   ],
   "source": [
    "# Even generating a new stellar population & observing it is pretty quick\n",
    "%timeit pop.observe(regr_trap=True, new=True)"
   ]
  },
  {
   "cell_type": "code",
   "execution_count": 16,
   "metadata": {
    "collapsed": false
   },
   "outputs": [
    {
     "name": "stdout",
     "output_type": "stream",
     "text": [
      "10 loops, best of 3: 105 ms per loop\n"
     ]
    }
   ],
   "source": [
    "# Or again, you can just generate new orbits (rather than new binaries & new orbits)\n",
    "%timeit pop.observe(regr_trap=True, new_orbits=True)"
   ]
  },
  {
   "cell_type": "code",
   "execution_count": 17,
   "metadata": {
    "collapsed": false,
    "scrolled": true
   },
   "outputs": [
    {
     "name": "stdout",
     "output_type": "stream",
     "text": [
      "10166\n"
     ]
    },
    {
     "data": {
      "text/plain": [
       "Index([u'period', u'ecc', u'w', u'inc', u'a', u'aR', u'b_pri', u'b_sec', u'k',\n",
       "       u'tra', u'occ', u'd_pri', u'd_sec', u'T14_pri', u'T14_sec', u'T23_pri',\n",
       "       u'T23_sec', u'dataspan', u'dutycycle', u'flux_ratio', u'n_pri',\n",
       "       u'n_sec', u'phase_sec', u'trap_dur_pri_regr', u'trap_depth_pri_regr',\n",
       "       u'trap_slope_pri_regr', u'trap_dur_sec_regr', u'trap_depth_sec_regr',\n",
       "       u'trap_slope_sec_regr'],\n",
       "      dtype='object')"
      ]
     },
     "execution_count": 17,
     "metadata": {},
     "output_type": "execute_result"
    }
   ],
   "source": [
    "# Generating the training data used for the trapezoid shape regression above used\n",
    "# this function, which can be otherwise useful to sample >N random observations \n",
    "# from the existing population.  `trap_regr` defaults to `True` here.  \n",
    "# This function also takes `new` or `new_orbits` keywords.\n",
    "obs_pop = pop.get_N_observed(N=10000, new_orbits=True)\n",
    "print(len(obs_pop))\n",
    "obs_pop.columns"
   ]
  },
  {
   "cell_type": "code",
   "execution_count": 18,
   "metadata": {
    "collapsed": false
   },
   "outputs": [
    {
     "data": {
      "text/plain": [
       "(6.0099999999999998, 2.5514505678143169)"
      ]
     },
     "execution_count": 18,
     "metadata": {},
     "output_type": "execute_result"
    }
   ],
   "source": [
    "# We can now look, e.g. at the expected number of single/double eclipsing systems:\n",
    "query = '(n_pri < 3) & (n_sec < 3) & (n_pri==0 | n_sec==0)'\n",
    "N = 100\n",
    "n_obs = np.array([len(pop.observe(new_orbits=True).query(query)) for i in range(N)])\n",
    "n_obs.mean(), n_obs.std()"
   ]
  },
  {
   "cell_type": "code",
   "execution_count": 19,
   "metadata": {
    "collapsed": false
   },
   "outputs": [
    {
     "data": {
      "text/plain": [
       "(10.5, 3.3926390907374748)"
      ]
     },
     "execution_count": 19,
     "metadata": {},
     "output_type": "execute_result"
    }
   ],
   "source": [
    "# Try this again, this time using the empirical eccentricity distribution\n",
    "# (as opposed to the beta distribution with default params)---eccentricity matters!\n",
    "pop.ecc_empirical = True\n",
    "n_obs = np.array([len(pop.observe(new_orbits=True).query(query)) for i in range(N)])\n",
    "n_obs.mean(), n_obs.std()"
   ]
  },
  {
   "cell_type": "code",
   "execution_count": null,
   "metadata": {
    "collapsed": true
   },
   "outputs": [],
   "source": []
  }
 ],
 "metadata": {
  "kernelspec": {
   "display_name": "Python 2",
   "language": "python",
   "name": "python2"
  },
  "language_info": {
   "codemirror_mode": {
    "name": "ipython",
    "version": 2
   },
   "file_extension": ".py",
   "mimetype": "text/x-python",
   "name": "python",
   "nbconvert_exporter": "python",
   "pygments_lexer": "ipython2",
   "version": "2.7.11"
  }
 },
 "nbformat": 4,
 "nbformat_minor": 0
}
