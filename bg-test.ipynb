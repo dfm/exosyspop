{
 "cells": [
  {
   "cell_type": "code",
   "execution_count": 2,
   "metadata": {
    "collapsed": false,
    "scrolled": false
   },
   "outputs": [],
   "source": [
    "import pandas as pd\n",
    "from exosyspop.populations import TRILEGAL_BGBinaryPopulation\n",
    "\n",
    "targets = pd.read_hdf('targets.h5')\n",
    "bgstars = pd.read_hdf('bgstars.h5')\n",
    "pop = TRILEGAL_BGBinaryPopulation(targets, bgstars)\n",
    "\n",
    "import logging\n",
    "rootLogger = logging.getLogger()"
   ]
  },
  {
   "cell_type": "code",
   "execution_count": 3,
   "metadata": {
    "collapsed": false
   },
   "outputs": [
    {
     "name": "stdout",
     "output_type": "stream",
     "text": [
      "dmag regressor trained, R2=0.977895713099\n",
      "qR regressor trained, R2=0.985787508965\n"
     ]
    },
    {
     "data": {
      "image/png": "[encoded data removed]",
      "text/plain": [
       "<matplotlib.figure.Figure at 0x7fe8ed44db10>"
      ]
     },
     "metadata": {},
     "output_type": "display_data"
    }
   ],
   "source": [
    "%matplotlib inline\n",
    "rootLogger.setLevel(logging.INFO)\n",
    "pop._train_pipelines(n_jobs=8, plot=True)\n",
    "rootLogger.setLevel(logging.DEBUG)"
   ]
  },
  {
   "cell_type": "code",
   "execution_count": 4,
   "metadata": {
    "collapsed": true
   },
   "outputs": [],
   "source": [
    "rootLogger.setLevel(logging.INFO)"
   ]
  },
  {
   "cell_type": "code",
   "execution_count": 5,
   "metadata": {
    "collapsed": false
   },
   "outputs": [
    {
     "name": "stdout",
     "output_type": "stream",
     "text": [
      "10 loops, best of 3: 120 ms per loop\n"
     ]
    }
   ],
   "source": [
    "%timeit pop._define_stars()"
   ]
  },
  {
   "cell_type": "code",
   "execution_count": 6,
   "metadata": {
    "collapsed": false
   },
   "outputs": [
    {
     "name": "stdout",
     "output_type": "stream",
     "text": [
      "1 loops, best of 3: 307 ms per loop\n"
     ]
    }
   ],
   "source": [
    "%timeit pop._generate_binaries()"
   ]
  },
  {
   "cell_type": "code",
   "execution_count": 7,
   "metadata": {
    "collapsed": false
   },
   "outputs": [
    {
     "name": "stdout",
     "output_type": "stream",
     "text": [
      "The slowest run took 5.38 times longer than the fastest. This could mean that an intermediate result is being cached \n",
      "1 loops, best of 3: 146 ms per loop\n"
     ]
    }
   ],
   "source": [
    "%timeit pop._generate_orbits()"
   ]
  },
  {
   "cell_type": "code",
   "execution_count": 8,
   "metadata": {
    "collapsed": false
   },
   "outputs": [],
   "source": [
    "obs = pop.observe()"
   ]
  },
  {
   "cell_type": "code",
   "execution_count": 12,
   "metadata": {
    "collapsed": true
   },
   "outputs": [],
   "source": [
    "df = obs.copy()"
   ]
  },
  {
   "cell_type": "code",
   "execution_count": 13,
   "metadata": {
    "collapsed": false
   },
   "outputs": [
    {
     "ename": "TypeError",
     "evalue": "rename() got an unexpected keyword argument \"dtype\"",
     "output_type": "error",
     "traceback": [
      "\u001b[1;31m---------------------------------------------------------------------------\u001b[0m",
      "\u001b[1;31mTypeError\u001b[0m                                 Traceback (most recent call last)",
      "\u001b[1;32m<ipython-input-13-f459e493966d>\u001b[0m in \u001b[0;36m<module>\u001b[1;34m()\u001b[0m\n\u001b[1;32m----> 1\u001b[1;33m \u001b[0mdf\u001b[0m\u001b[1;33m.\u001b[0m\u001b[0mrename\u001b[0m\u001b[1;33m(\u001b[0m\u001b[1;33m{\u001b[0m\u001b[1;34m'period'\u001b[0m\u001b[1;33m:\u001b[0m\u001b[1;34m'period'\u001b[0m\u001b[1;33m}\u001b[0m\u001b[1;33m,\u001b[0m \u001b[0mdtype\u001b[0m\u001b[1;33m=\u001b[0m\u001b[0mint\u001b[0m\u001b[1;33m,\u001b[0m \u001b[0minplace\u001b[0m\u001b[1;33m=\u001b[0m\u001b[0mTrue\u001b[0m\u001b[1;33m)\u001b[0m\u001b[1;33m\u001b[0m\u001b[0m\n\u001b[0m\u001b[0;32m      2\u001b[0m \u001b[0mdf\u001b[0m\u001b[1;33m.\u001b[0m\u001b[0mhead\u001b[0m\u001b[1;33m(\u001b[0m\u001b[1;33m)\u001b[0m\u001b[1;33m\u001b[0m\u001b[0m\n",
      "\u001b[1;32m/u/tdm/anaconda/lib/python2.7/site-packages/pandas/core/frame.pyc\u001b[0m in \u001b[0;36mrename\u001b[1;34m(self, index, columns, **kwargs)\u001b[0m\n\u001b[0;32m   2695\u001b[0m     \u001b[1;32mdef\u001b[0m \u001b[0mrename\u001b[0m\u001b[1;33m(\u001b[0m\u001b[0mself\u001b[0m\u001b[1;33m,\u001b[0m \u001b[0mindex\u001b[0m\u001b[1;33m=\u001b[0m\u001b[0mNone\u001b[0m\u001b[1;33m,\u001b[0m \u001b[0mcolumns\u001b[0m\u001b[1;33m=\u001b[0m\u001b[0mNone\u001b[0m\u001b[1;33m,\u001b[0m \u001b[1;33m**\u001b[0m\u001b[0mkwargs\u001b[0m\u001b[1;33m)\u001b[0m\u001b[1;33m:\u001b[0m\u001b[1;33m\u001b[0m\u001b[0m\n\u001b[0;32m   2696\u001b[0m         return super(DataFrame, self).rename(index=index, columns=columns,\n\u001b[1;32m-> 2697\u001b[1;33m                                              **kwargs)\n\u001b[0m\u001b[0;32m   2698\u001b[0m \u001b[1;33m\u001b[0m\u001b[0m\n\u001b[0;32m   2699\u001b[0m     \u001b[1;33m@\u001b[0m\u001b[0mAppender\u001b[0m\u001b[1;33m(\u001b[0m\u001b[0m_shared_docs\u001b[0m\u001b[1;33m[\u001b[0m\u001b[1;34m'fillna'\u001b[0m\u001b[1;33m]\u001b[0m \u001b[1;33m%\u001b[0m \u001b[0m_shared_doc_kwargs\u001b[0m\u001b[1;33m)\u001b[0m\u001b[1;33m\u001b[0m\u001b[0m\n",
      "\u001b[1;32m/u/tdm/anaconda/lib/python2.7/site-packages/pandas/core/generic.pyc\u001b[0m in \u001b[0;36mrename\u001b[1;34m(self, *args, **kwargs)\u001b[0m\n\u001b[0;32m    575\u001b[0m         \u001b[1;32mif\u001b[0m \u001b[0mkwargs\u001b[0m\u001b[1;33m:\u001b[0m\u001b[1;33m\u001b[0m\u001b[0m\n\u001b[0;32m    576\u001b[0m             raise TypeError('rename() got an unexpected keyword '\n\u001b[1;32m--> 577\u001b[1;33m                     'argument \"{0}\"'.format(list(kwargs.keys())[0]))\n\u001b[0m\u001b[0;32m    578\u001b[0m \u001b[1;33m\u001b[0m\u001b[0m\n\u001b[0;32m    579\u001b[0m         \u001b[1;32mif\u001b[0m \u001b[1;33m(\u001b[0m\u001b[0mcom\u001b[0m\u001b[1;33m.\u001b[0m\u001b[0m_count_not_none\u001b[0m\u001b[1;33m(\u001b[0m\u001b[1;33m*\u001b[0m\u001b[0maxes\u001b[0m\u001b[1;33m.\u001b[0m\u001b[0mvalues\u001b[0m\u001b[1;33m(\u001b[0m\u001b[1;33m)\u001b[0m\u001b[1;33m)\u001b[0m \u001b[1;33m==\u001b[0m \u001b[1;36m0\u001b[0m\u001b[1;33m)\u001b[0m\u001b[1;33m:\u001b[0m\u001b[1;33m\u001b[0m\u001b[0m\n",
      "\u001b[1;31mTypeError\u001b[0m: rename() got an unexpected keyword argument \"dtype\""
     ]
    }
   ],
   "source": [
    "df.rename({'period':'period'}, dtype=int, inplace=True)\n",
    "df.head()"
   ]
  },
  {
   "cell_type": "code",
   "execution_count": 11,
   "metadata": {
    "collapsed": false
   },
   "outputs": [
    {
     "data": {
      "text/html": [
       "<div>\n",
       "<table border=\"1\" class=\"dataframe\">\n",
       "  <thead>\n",
       "    <tr style=\"text-align: right;\">\n",
       "      <th></th>\n",
       "      <th>period</th>\n",
       "      <th>d_pri</th>\n",
       "      <th>d_sec</th>\n",
       "      <th>n_pri</th>\n",
       "      <th>n_sec</th>\n",
       "    </tr>\n",
       "  </thead>\n",
       "  <tbody>\n",
       "    <tr>\n",
       "      <th>0</th>\n",
       "      <td>85.994363</td>\n",
       "      <td>1.270542e-05</td>\n",
       "      <td>2.961794e-11</td>\n",
       "      <td>9</td>\n",
       "      <td>11</td>\n",
       "    </tr>\n",
       "    <tr>\n",
       "      <th>1</th>\n",
       "      <td>1.211639</td>\n",
       "      <td>8.283539e-03</td>\n",
       "      <td>9.313264e-03</td>\n",
       "      <td>1061</td>\n",
       "      <td>1044</td>\n",
       "    </tr>\n",
       "    <tr>\n",
       "      <th>2</th>\n",
       "      <td>8.272804</td>\n",
       "      <td>1.339625e-03</td>\n",
       "      <td>0.000000e+00</td>\n",
       "      <td>122</td>\n",
       "      <td>0</td>\n",
       "    </tr>\n",
       "    <tr>\n",
       "      <th>3</th>\n",
       "      <td>50.437796</td>\n",
       "      <td>9.535256e-05</td>\n",
       "      <td>4.353680e-06</td>\n",
       "      <td>21</td>\n",
       "      <td>16</td>\n",
       "    </tr>\n",
       "    <tr>\n",
       "      <th>4</th>\n",
       "      <td>569.283218</td>\n",
       "      <td>0.000000e+00</td>\n",
       "      <td>1.363251e-05</td>\n",
       "      <td>0</td>\n",
       "      <td>2</td>\n",
       "    </tr>\n",
       "    <tr>\n",
       "      <th>5</th>\n",
       "      <td>7.261835</td>\n",
       "      <td>2.466338e-06</td>\n",
       "      <td>1.211085e-05</td>\n",
       "      <td>178</td>\n",
       "      <td>177</td>\n",
       "    </tr>\n",
       "    <tr>\n",
       "      <th>6</th>\n",
       "      <td>208.106460</td>\n",
       "      <td>1.542740e-04</td>\n",
       "      <td>1.898273e-04</td>\n",
       "      <td>6</td>\n",
       "      <td>7</td>\n",
       "    </tr>\n",
       "    <tr>\n",
       "      <th>7</th>\n",
       "      <td>66.555250</td>\n",
       "      <td>2.628482e-07</td>\n",
       "      <td>0.000000e+00</td>\n",
       "      <td>16</td>\n",
       "      <td>0</td>\n",
       "    </tr>\n",
       "    <tr>\n",
       "      <th>8</th>\n",
       "      <td>1.238497</td>\n",
       "      <td>1.093851e-04</td>\n",
       "      <td>1.111254e-04</td>\n",
       "      <td>1040</td>\n",
       "      <td>1003</td>\n",
       "    </tr>\n",
       "    <tr>\n",
       "      <th>9</th>\n",
       "      <td>17.155542</td>\n",
       "      <td>0.000000e+00</td>\n",
       "      <td>6.437796e-06</td>\n",
       "      <td>0</td>\n",
       "      <td>58</td>\n",
       "    </tr>\n",
       "    <tr>\n",
       "      <th>10</th>\n",
       "      <td>2.090350</td>\n",
       "      <td>3.178722e-04</td>\n",
       "      <td>0.000000e+00</td>\n",
       "      <td>618</td>\n",
       "      <td>0</td>\n",
       "    </tr>\n",
       "    <tr>\n",
       "      <th>11</th>\n",
       "      <td>2.596740</td>\n",
       "      <td>1.221730e-04</td>\n",
       "      <td>6.029383e-05</td>\n",
       "      <td>478</td>\n",
       "      <td>494</td>\n",
       "    </tr>\n",
       "    <tr>\n",
       "      <th>12</th>\n",
       "      <td>4.430789</td>\n",
       "      <td>2.274056e-04</td>\n",
       "      <td>1.272165e-04</td>\n",
       "      <td>289</td>\n",
       "      <td>282</td>\n",
       "    </tr>\n",
       "    <tr>\n",
       "      <th>13</th>\n",
       "      <td>6273.649057</td>\n",
       "      <td>5.086221e-06</td>\n",
       "      <td>6.387398e-14</td>\n",
       "      <td>0</td>\n",
       "      <td>1</td>\n",
       "    </tr>\n",
       "    <tr>\n",
       "      <th>14</th>\n",
       "      <td>9.310443</td>\n",
       "      <td>1.676983e-03</td>\n",
       "      <td>4.559094e-11</td>\n",
       "      <td>115</td>\n",
       "      <td>111</td>\n",
       "    </tr>\n",
       "    <tr>\n",
       "      <th>15</th>\n",
       "      <td>9.074955</td>\n",
       "      <td>6.938825e-06</td>\n",
       "      <td>3.276355e-06</td>\n",
       "      <td>140</td>\n",
       "      <td>139</td>\n",
       "    </tr>\n",
       "    <tr>\n",
       "      <th>16</th>\n",
       "      <td>79.234933</td>\n",
       "      <td>3.394398e-05</td>\n",
       "      <td>0.000000e+00</td>\n",
       "      <td>12</td>\n",
       "      <td>0</td>\n",
       "    </tr>\n",
       "    <tr>\n",
       "      <th>17</th>\n",
       "      <td>2.812974</td>\n",
       "      <td>2.663170e-05</td>\n",
       "      <td>1.205537e-06</td>\n",
       "      <td>472</td>\n",
       "      <td>453</td>\n",
       "    </tr>\n",
       "    <tr>\n",
       "      <th>18</th>\n",
       "      <td>4756.135084</td>\n",
       "      <td>1.709170e-05</td>\n",
       "      <td>4.085285e-13</td>\n",
       "      <td>1</td>\n",
       "      <td>0</td>\n",
       "    </tr>\n",
       "    <tr>\n",
       "      <th>19</th>\n",
       "      <td>4.361432</td>\n",
       "      <td>7.432445e-06</td>\n",
       "      <td>3.455699e-06</td>\n",
       "      <td>308</td>\n",
       "      <td>296</td>\n",
       "    </tr>\n",
       "    <tr>\n",
       "      <th>20</th>\n",
       "      <td>9.725369</td>\n",
       "      <td>1.124062e-05</td>\n",
       "      <td>3.422467e-13</td>\n",
       "      <td>126</td>\n",
       "      <td>130</td>\n",
       "    </tr>\n",
       "    <tr>\n",
       "      <th>21</th>\n",
       "      <td>1.250741</td>\n",
       "      <td>2.224260e-05</td>\n",
       "      <td>1.088346e-12</td>\n",
       "      <td>1023</td>\n",
       "      <td>1020</td>\n",
       "    </tr>\n",
       "    <tr>\n",
       "      <th>22</th>\n",
       "      <td>1.315781</td>\n",
       "      <td>8.250725e-04</td>\n",
       "      <td>5.901950e-05</td>\n",
       "      <td>972</td>\n",
       "      <td>975</td>\n",
       "    </tr>\n",
       "    <tr>\n",
       "      <th>23</th>\n",
       "      <td>3.464562</td>\n",
       "      <td>0.000000e+00</td>\n",
       "      <td>3.067557e-06</td>\n",
       "      <td>0</td>\n",
       "      <td>364</td>\n",
       "    </tr>\n",
       "    <tr>\n",
       "      <th>24</th>\n",
       "      <td>3.222926</td>\n",
       "      <td>1.192939e-05</td>\n",
       "      <td>1.723256e-06</td>\n",
       "      <td>384</td>\n",
       "      <td>392</td>\n",
       "    </tr>\n",
       "    <tr>\n",
       "      <th>25</th>\n",
       "      <td>38.315511</td>\n",
       "      <td>1.383699e-06</td>\n",
       "      <td>0.000000e+00</td>\n",
       "      <td>33</td>\n",
       "      <td>0</td>\n",
       "    </tr>\n",
       "    <tr>\n",
       "      <th>26</th>\n",
       "      <td>16.962324</td>\n",
       "      <td>4.660705e-04</td>\n",
       "      <td>8.436731e-05</td>\n",
       "      <td>61</td>\n",
       "      <td>59</td>\n",
       "    </tr>\n",
       "    <tr>\n",
       "      <th>27</th>\n",
       "      <td>15.673295</td>\n",
       "      <td>0.000000e+00</td>\n",
       "      <td>5.280111e-06</td>\n",
       "      <td>0</td>\n",
       "      <td>87</td>\n",
       "    </tr>\n",
       "    <tr>\n",
       "      <th>28</th>\n",
       "      <td>1.467807</td>\n",
       "      <td>3.865947e-05</td>\n",
       "      <td>3.331506e-05</td>\n",
       "      <td>875</td>\n",
       "      <td>862</td>\n",
       "    </tr>\n",
       "    <tr>\n",
       "      <th>29</th>\n",
       "      <td>1.964866</td>\n",
       "      <td>1.023217e-06</td>\n",
       "      <td>2.805199e-05</td>\n",
       "      <td>522</td>\n",
       "      <td>524</td>\n",
       "    </tr>\n",
       "    <tr>\n",
       "      <th>...</th>\n",
       "      <td>...</td>\n",
       "      <td>...</td>\n",
       "      <td>...</td>\n",
       "      <td>...</td>\n",
       "      <td>...</td>\n",
       "    </tr>\n",
       "    <tr>\n",
       "      <th>289</th>\n",
       "      <td>11.454770</td>\n",
       "      <td>2.390958e-05</td>\n",
       "      <td>0.000000e+00</td>\n",
       "      <td>111</td>\n",
       "      <td>0</td>\n",
       "    </tr>\n",
       "    <tr>\n",
       "      <th>290</th>\n",
       "      <td>11.455209</td>\n",
       "      <td>2.688878e-05</td>\n",
       "      <td>8.194369e-13</td>\n",
       "      <td>109</td>\n",
       "      <td>111</td>\n",
       "    </tr>\n",
       "    <tr>\n",
       "      <th>291</th>\n",
       "      <td>66.782624</td>\n",
       "      <td>1.903006e-05</td>\n",
       "      <td>1.495587e-05</td>\n",
       "      <td>20</td>\n",
       "      <td>18</td>\n",
       "    </tr>\n",
       "    <tr>\n",
       "      <th>292</th>\n",
       "      <td>2.222545</td>\n",
       "      <td>4.450016e-05</td>\n",
       "      <td>6.248792e-13</td>\n",
       "      <td>478</td>\n",
       "      <td>479</td>\n",
       "    </tr>\n",
       "    <tr>\n",
       "      <th>293</th>\n",
       "      <td>3.493529</td>\n",
       "      <td>0.000000e+00</td>\n",
       "      <td>8.231563e-03</td>\n",
       "      <td>0</td>\n",
       "      <td>369</td>\n",
       "    </tr>\n",
       "    <tr>\n",
       "      <th>294</th>\n",
       "      <td>2.085918</td>\n",
       "      <td>1.655107e-05</td>\n",
       "      <td>2.230111e-05</td>\n",
       "      <td>597</td>\n",
       "      <td>609</td>\n",
       "    </tr>\n",
       "    <tr>\n",
       "      <th>295</th>\n",
       "      <td>48.494756</td>\n",
       "      <td>1.366436e-05</td>\n",
       "      <td>1.722010e-13</td>\n",
       "      <td>19</td>\n",
       "      <td>22</td>\n",
       "    </tr>\n",
       "    <tr>\n",
       "      <th>296</th>\n",
       "      <td>10.013068</td>\n",
       "      <td>1.352659e-05</td>\n",
       "      <td>1.899246e-11</td>\n",
       "      <td>129</td>\n",
       "      <td>125</td>\n",
       "    </tr>\n",
       "    <tr>\n",
       "      <th>297</th>\n",
       "      <td>1.741613</td>\n",
       "      <td>1.682627e-04</td>\n",
       "      <td>1.424487e-04</td>\n",
       "      <td>747</td>\n",
       "      <td>723</td>\n",
       "    </tr>\n",
       "    <tr>\n",
       "      <th>298</th>\n",
       "      <td>49.119966</td>\n",
       "      <td>0.000000e+00</td>\n",
       "      <td>4.397959e-06</td>\n",
       "      <td>0</td>\n",
       "      <td>27</td>\n",
       "    </tr>\n",
       "    <tr>\n",
       "      <th>299</th>\n",
       "      <td>1.111128</td>\n",
       "      <td>3.489761e-04</td>\n",
       "      <td>0.000000e+00</td>\n",
       "      <td>1150</td>\n",
       "      <td>0</td>\n",
       "    </tr>\n",
       "    <tr>\n",
       "      <th>300</th>\n",
       "      <td>15.362137</td>\n",
       "      <td>1.314602e-05</td>\n",
       "      <td>1.270731e-11</td>\n",
       "      <td>81</td>\n",
       "      <td>82</td>\n",
       "    </tr>\n",
       "    <tr>\n",
       "      <th>301</th>\n",
       "      <td>1810.947162</td>\n",
       "      <td>0.000000e+00</td>\n",
       "      <td>5.286299e-13</td>\n",
       "      <td>0</td>\n",
       "      <td>1</td>\n",
       "    </tr>\n",
       "    <tr>\n",
       "      <th>302</th>\n",
       "      <td>1.201789</td>\n",
       "      <td>0.000000e+00</td>\n",
       "      <td>7.601570e-07</td>\n",
       "      <td>0</td>\n",
       "      <td>1071</td>\n",
       "    </tr>\n",
       "    <tr>\n",
       "      <th>303</th>\n",
       "      <td>1.340296</td>\n",
       "      <td>1.904189e-03</td>\n",
       "      <td>1.501280e-03</td>\n",
       "      <td>941</td>\n",
       "      <td>935</td>\n",
       "    </tr>\n",
       "    <tr>\n",
       "      <th>304</th>\n",
       "      <td>222.240684</td>\n",
       "      <td>9.108998e-05</td>\n",
       "      <td>0.000000e+00</td>\n",
       "      <td>6</td>\n",
       "      <td>0</td>\n",
       "    </tr>\n",
       "    <tr>\n",
       "      <th>305</th>\n",
       "      <td>2.757975</td>\n",
       "      <td>2.125334e-04</td>\n",
       "      <td>4.974556e-06</td>\n",
       "      <td>377</td>\n",
       "      <td>375</td>\n",
       "    </tr>\n",
       "    <tr>\n",
       "      <th>306</th>\n",
       "      <td>14.416299</td>\n",
       "      <td>0.000000e+00</td>\n",
       "      <td>9.493058e-06</td>\n",
       "      <td>0</td>\n",
       "      <td>81</td>\n",
       "    </tr>\n",
       "    <tr>\n",
       "      <th>307</th>\n",
       "      <td>1.719940</td>\n",
       "      <td>6.556647e-05</td>\n",
       "      <td>3.703229e-05</td>\n",
       "      <td>599</td>\n",
       "      <td>594</td>\n",
       "    </tr>\n",
       "    <tr>\n",
       "      <th>308</th>\n",
       "      <td>1.577482</td>\n",
       "      <td>3.657239e-05</td>\n",
       "      <td>5.591145e-06</td>\n",
       "      <td>814</td>\n",
       "      <td>813</td>\n",
       "    </tr>\n",
       "    <tr>\n",
       "      <th>309</th>\n",
       "      <td>42.402606</td>\n",
       "      <td>2.179846e-03</td>\n",
       "      <td>1.818396e-03</td>\n",
       "      <td>28</td>\n",
       "      <td>30</td>\n",
       "    </tr>\n",
       "    <tr>\n",
       "      <th>310</th>\n",
       "      <td>3.338657</td>\n",
       "      <td>3.050174e-03</td>\n",
       "      <td>0.000000e+00</td>\n",
       "      <td>299</td>\n",
       "      <td>0</td>\n",
       "    </tr>\n",
       "    <tr>\n",
       "      <th>311</th>\n",
       "      <td>3.694226</td>\n",
       "      <td>1.972300e-04</td>\n",
       "      <td>6.623796e-05</td>\n",
       "      <td>277</td>\n",
       "      <td>285</td>\n",
       "    </tr>\n",
       "    <tr>\n",
       "      <th>312</th>\n",
       "      <td>2.094614</td>\n",
       "      <td>1.368245e-07</td>\n",
       "      <td>1.230338e-07</td>\n",
       "      <td>508</td>\n",
       "      <td>489</td>\n",
       "    </tr>\n",
       "    <tr>\n",
       "      <th>313</th>\n",
       "      <td>3.986609</td>\n",
       "      <td>0.000000e+00</td>\n",
       "      <td>1.516853e-07</td>\n",
       "      <td>0</td>\n",
       "      <td>316</td>\n",
       "    </tr>\n",
       "    <tr>\n",
       "      <th>314</th>\n",
       "      <td>1.100318</td>\n",
       "      <td>1.981940e-06</td>\n",
       "      <td>7.109425e-06</td>\n",
       "      <td>1156</td>\n",
       "      <td>1166</td>\n",
       "    </tr>\n",
       "    <tr>\n",
       "      <th>315</th>\n",
       "      <td>1.668108</td>\n",
       "      <td>8.520069e-05</td>\n",
       "      <td>6.614437e-05</td>\n",
       "      <td>763</td>\n",
       "      <td>775</td>\n",
       "    </tr>\n",
       "    <tr>\n",
       "      <th>316</th>\n",
       "      <td>2.481501</td>\n",
       "      <td>3.751106e-06</td>\n",
       "      <td>5.710843e-06</td>\n",
       "      <td>418</td>\n",
       "      <td>426</td>\n",
       "    </tr>\n",
       "    <tr>\n",
       "      <th>317</th>\n",
       "      <td>8.852743</td>\n",
       "      <td>6.018984e-06</td>\n",
       "      <td>8.244096e-08</td>\n",
       "      <td>145</td>\n",
       "      <td>151</td>\n",
       "    </tr>\n",
       "    <tr>\n",
       "      <th>318</th>\n",
       "      <td>705.334209</td>\n",
       "      <td>5.469564e-05</td>\n",
       "      <td>8.006123e-13</td>\n",
       "      <td>1</td>\n",
       "      <td>3</td>\n",
       "    </tr>\n",
       "  </tbody>\n",
       "</table>\n",
       "<p>319 rows × 5 columns</p>\n",
       "</div>"
      ],
      "text/plain": [
       "          period         d_pri         d_sec  n_pri  n_sec\n",
       "0      85.994363  1.270542e-05  2.961794e-11      9     11\n",
       "1       1.211639  8.283539e-03  9.313264e-03   1061   1044\n",
       "2       8.272804  1.339625e-03  0.000000e+00    122      0\n",
       "3      50.437796  9.535256e-05  4.353680e-06     21     16\n",
       "4     569.283218  0.000000e+00  1.363251e-05      0      2\n",
       "5       7.261835  2.466338e-06  1.211085e-05    178    177\n",
       "6     208.106460  1.542740e-04  1.898273e-04      6      7\n",
       "7      66.555250  2.628482e-07  0.000000e+00     16      0\n",
       "8       1.238497  1.093851e-04  1.111254e-04   1040   1003\n",
       "9      17.155542  0.000000e+00  6.437796e-06      0     58\n",
       "10      2.090350  3.178722e-04  0.000000e+00    618      0\n",
       "11      2.596740  1.221730e-04  6.029383e-05    478    494\n",
       "12      4.430789  2.274056e-04  1.272165e-04    289    282\n",
       "13   6273.649057  5.086221e-06  6.387398e-14      0      1\n",
       "14      9.310443  1.676983e-03  4.559094e-11    115    111\n",
       "15      9.074955  6.938825e-06  3.276355e-06    140    139\n",
       "16     79.234933  3.394398e-05  0.000000e+00     12      0\n",
       "17      2.812974  2.663170e-05  1.205537e-06    472    453\n",
       "18   4756.135084  1.709170e-05  4.085285e-13      1      0\n",
       "19      4.361432  7.432445e-06  3.455699e-06    308    296\n",
       "20      9.725369  1.124062e-05  3.422467e-13    126    130\n",
       "21      1.250741  2.224260e-05  1.088346e-12   1023   1020\n",
       "22      1.315781  8.250725e-04  5.901950e-05    972    975\n",
       "23      3.464562  0.000000e+00  3.067557e-06      0    364\n",
       "24      3.222926  1.192939e-05  1.723256e-06    384    392\n",
       "25     38.315511  1.383699e-06  0.000000e+00     33      0\n",
       "26     16.962324  4.660705e-04  8.436731e-05     61     59\n",
       "27     15.673295  0.000000e+00  5.280111e-06      0     87\n",
       "28      1.467807  3.865947e-05  3.331506e-05    875    862\n",
       "29      1.964866  1.023217e-06  2.805199e-05    522    524\n",
       "..           ...           ...           ...    ...    ...\n",
       "289    11.454770  2.390958e-05  0.000000e+00    111      0\n",
       "290    11.455209  2.688878e-05  8.194369e-13    109    111\n",
       "291    66.782624  1.903006e-05  1.495587e-05     20     18\n",
       "292     2.222545  4.450016e-05  6.248792e-13    478    479\n",
       "293     3.493529  0.000000e+00  8.231563e-03      0    369\n",
       "294     2.085918  1.655107e-05  2.230111e-05    597    609\n",
       "295    48.494756  1.366436e-05  1.722010e-13     19     22\n",
       "296    10.013068  1.352659e-05  1.899246e-11    129    125\n",
       "297     1.741613  1.682627e-04  1.424487e-04    747    723\n",
       "298    49.119966  0.000000e+00  4.397959e-06      0     27\n",
       "299     1.111128  3.489761e-04  0.000000e+00   1150      0\n",
       "300    15.362137  1.314602e-05  1.270731e-11     81     82\n",
       "301  1810.947162  0.000000e+00  5.286299e-13      0      1\n",
       "302     1.201789  0.000000e+00  7.601570e-07      0   1071\n",
       "303     1.340296  1.904189e-03  1.501280e-03    941    935\n",
       "304   222.240684  9.108998e-05  0.000000e+00      6      0\n",
       "305     2.757975  2.125334e-04  4.974556e-06    377    375\n",
       "306    14.416299  0.000000e+00  9.493058e-06      0     81\n",
       "307     1.719940  6.556647e-05  3.703229e-05    599    594\n",
       "308     1.577482  3.657239e-05  5.591145e-06    814    813\n",
       "309    42.402606  2.179846e-03  1.818396e-03     28     30\n",
       "310     3.338657  3.050174e-03  0.000000e+00    299      0\n",
       "311     3.694226  1.972300e-04  6.623796e-05    277    285\n",
       "312     2.094614  1.368245e-07  1.230338e-07    508    489\n",
       "313     3.986609  0.000000e+00  1.516853e-07      0    316\n",
       "314     1.100318  1.981940e-06  7.109425e-06   1156   1166\n",
       "315     1.668108  8.520069e-05  6.614437e-05    763    775\n",
       "316     2.481501  3.751106e-06  5.710843e-06    418    426\n",
       "317     8.852743  6.018984e-06  8.244096e-08    145    151\n",
       "318   705.334209  5.469564e-05  8.006123e-13      1      3\n",
       "\n",
       "[319 rows x 5 columns]"
      ]
     },
     "execution_count": 11,
     "metadata": {},
     "output_type": "execute_result"
    }
   ],
   "source": [
    "obs[['period','d_pri','d_sec','n_pri','n_sec']]"
   ]
  },
  {
   "cell_type": "code",
   "execution_count": 9,
   "metadata": {
    "collapsed": false
   },
   "outputs": [
    {
     "data": {
      "text/plain": [
       "319"
      ]
     },
     "execution_count": 9,
     "metadata": {},
     "output_type": "execute_result"
    }
   ],
   "source": [
    "len(obs)"
   ]
  },
  {
   "cell_type": "code",
   "execution_count": 27,
   "metadata": {
    "collapsed": false
   },
   "outputs": [],
   "source": [
    "df = pop.stars.copy()"
   ]
  },
  {
   "cell_type": "code",
   "execution_count": 28,
   "metadata": {
    "collapsed": false
   },
   "outputs": [
    {
     "data": {
      "text/plain": [
       "136695    False\n",
       "135710    False\n",
       "117013    False\n",
       "99556     False\n",
       "170231    False\n",
       "64229     False\n",
       "7444      False\n",
       "2942      False\n",
       "126131    False\n",
       "31223     False\n",
       "24030     False\n",
       "42635     False\n",
       "102263    False\n",
       "45330     False\n",
       "57910     False\n",
       "87585     False\n",
       "162941    False\n",
       "63593     False\n",
       "26037     False\n",
       "63250     False\n",
       "29434     False\n",
       "67735     False\n",
       "32257     False\n",
       "91463     False\n",
       "102723    False\n",
       "160324    False\n",
       "115556    False\n",
       "69251     False\n",
       "86016     False\n",
       "10415     False\n",
       "          ...  \n",
       "17367     False\n",
       "88296     False\n",
       "152543    False\n",
       "141962    False\n",
       "51452     False\n",
       "16769     False\n",
       "122207    False\n",
       "39640     False\n",
       "29306     False\n",
       "30881     False\n",
       "30697     False\n",
       "175056    False\n",
       "59846     False\n",
       "35205     False\n",
       "172701    False\n",
       "87865     False\n",
       "156212    False\n",
       "20349     False\n",
       "24921     False\n",
       "133856    False\n",
       "140555    False\n",
       "115585    False\n",
       "174019    False\n",
       "41364     False\n",
       "94505     False\n",
       "37487     False\n",
       "65467     False\n",
       "141829    False\n",
       "121867    False\n",
       "147282    False\n",
       "Name: tra, dtype: bool"
      ]
     },
     "execution_count": 28,
     "metadata": {},
     "output_type": "execute_result"
    }
   ],
   "source": [
    "df.tra."
   ]
  },
  {
   "cell_type": "code",
   "execution_count": 24,
   "metadata": {
    "collapsed": false
   },
   "outputs": [
    {
     "data": {
      "text/plain": [
       "266.0"
      ]
     },
     "execution_count": 24,
     "metadata": {},
     "output_type": "execute_result"
    }
   ],
   "source": [
    "pop.tra.sum()"
   ]
  },
  {
   "cell_type": "code",
   "execution_count": 12,
   "metadata": {
    "collapsed": false
   },
   "outputs": [
    {
     "data": {
      "text/plain": [
       "34332"
      ]
     },
     "execution_count": 12,
     "metadata": {},
     "output_type": "execute_result"
    }
   ],
   "source": [
    "len(pop.stars)"
   ]
  },
  {
   "cell_type": "code",
   "execution_count": 15,
   "metadata": {
    "collapsed": false
   },
   "outputs": [
    {
     "data": {
      "text/plain": [
       "34332"
      ]
     },
     "execution_count": 15,
     "metadata": {},
     "output_type": "execute_result"
    }
   ],
   "source": [
    "len(pop.stars['d_pri'].values)"
   ]
  },
  {
   "cell_type": "code",
   "execution_count": 20,
   "metadata": {
    "collapsed": false
   },
   "outputs": [
    {
     "data": {
      "text/plain": [
       "True"
      ]
     },
     "execution_count": 20,
     "metadata": {},
     "output_type": "execute_result"
    }
   ],
   "source": [
    "'d_pri' in pop._not_calculated"
   ]
  },
  {
   "cell_type": "code",
   "execution_count": 21,
   "metadata": {
    "collapsed": false
   },
   "outputs": [
    {
     "data": {
      "text/plain": [
       "True"
      ]
     },
     "execution_count": 21,
     "metadata": {},
     "output_type": "execute_result"
    }
   ],
   "source": [
    "'d_pri' in pop.orbital_props"
   ]
  },
  {
   "cell_type": "code",
   "execution_count": 19,
   "metadata": {
    "collapsed": false
   },
   "outputs": [
    {
     "data": {
      "text/plain": [
       "['period',\n",
       " 'ecc',\n",
       " 'w',\n",
       " 'inc',\n",
       " 'a',\n",
       " 'aR',\n",
       " 'b_pri',\n",
       " 'b_sec',\n",
       " 'k',\n",
       " 'tra',\n",
       " 'occ',\n",
       " 'd_pri',\n",
       " 'd_sec',\n",
       " 'T14_pri',\n",
       " 'T14_sec',\n",
       " 'T23_pri',\n",
       " 'T23_sec']"
      ]
     },
     "execution_count": 19,
     "metadata": {},
     "output_type": "execute_result"
    }
   ],
   "source": [
    "pop._not_calculated"
   ]
  },
  {
   "cell_type": "code",
   "execution_count": 21,
   "metadata": {
    "collapsed": false
   },
   "outputs": [
    {
     "data": {
      "text/plain": [
       "array([  1.94496999e+02,   1.41581623e+04,   2.73116490e+01, ...,\n",
       "         4.04700099e+06,   2.66557261e+04,   2.19053093e+02])"
      ]
     },
     "execution_count": 21,
     "metadata": {},
     "output_type": "execute_result"
    }
   ],
   "source": [
    "pop.period"
   ]
  },
  {
   "cell_type": "code",
   "execution_count": 8,
   "metadata": {
    "collapsed": true
   },
   "outputs": [],
   "source": [
    "pop._define_stars()"
   ]
  },
  {
   "cell_type": "code",
   "execution_count": 9,
   "metadata": {
    "collapsed": false
   },
   "outputs": [
    {
     "name": "stderr",
     "output_type": "stream",
     "text": [
      "DEBUG:root:Generating binary companions for 34275 stars...\n",
      "DEBUG:root:Generating orbits for 34275 stars...\n",
      "DEBUG:root:75 orbits assigned to ecc=rayleigh(0.03)\n",
      "DEBUG:root:57 orbits assigned to ecc=0\n"
     ]
    },
    {
     "ename": "ValueError",
     "evalue": "operands could not be broadcast together with shapes (33966,) (34275,) (33966,) ",
     "output_type": "error",
     "traceback": [
      "\u001b[1;31m---------------------------------------------------------------------------\u001b[0m",
      "\u001b[1;31mValueError\u001b[0m                                Traceback (most recent call last)",
      "\u001b[1;32m<ipython-input-9-7479dc395d8d>\u001b[0m in \u001b[0;36m<module>\u001b[1;34m()\u001b[0m\n\u001b[1;32m----> 1\u001b[1;33m \u001b[0mlen\u001b[0m\u001b[1;33m(\u001b[0m\u001b[0mpop\u001b[0m\u001b[1;33m.\u001b[0m\u001b[0mtra\u001b[0m\u001b[1;33m)\u001b[0m\u001b[1;33m\u001b[0m\u001b[0m\n\u001b[0m",
      "\u001b[1;32m/u/tdm/repositories/exosyspop/exosyspop/populations.py\u001b[0m in \u001b[0;36m__getattr__\u001b[1;34m(self, name)\u001b[0m\n\u001b[0;32m    179\u001b[0m                 \u001b[0mself\u001b[0m\u001b[1;33m.\u001b[0m\u001b[0m_generate_binaries\u001b[0m\u001b[1;33m(\u001b[0m\u001b[1;33m)\u001b[0m\u001b[1;33m\u001b[0m\u001b[0m\n\u001b[0;32m    180\u001b[0m             \u001b[1;32melif\u001b[0m \u001b[0mname\u001b[0m \u001b[1;32min\u001b[0m \u001b[0mself\u001b[0m\u001b[1;33m.\u001b[0m\u001b[0morbital_props\u001b[0m\u001b[1;33m:\u001b[0m\u001b[1;33m\u001b[0m\u001b[0m\n\u001b[1;32m--> 181\u001b[1;33m                 \u001b[0mself\u001b[0m\u001b[1;33m.\u001b[0m\u001b[0m_generate_orbits\u001b[0m\u001b[1;33m(\u001b[0m\u001b[1;33m)\u001b[0m\u001b[1;33m\u001b[0m\u001b[0m\n\u001b[0m\u001b[0;32m    182\u001b[0m         \u001b[1;32mtry\u001b[0m\u001b[1;33m:\u001b[0m\u001b[1;33m\u001b[0m\u001b[0m\n\u001b[0;32m    183\u001b[0m             \u001b[1;32mreturn\u001b[0m \u001b[0mself\u001b[0m\u001b[1;33m.\u001b[0m\u001b[0mstars\u001b[0m\u001b[1;33m[\u001b[0m\u001b[0mname\u001b[0m\u001b[1;33m]\u001b[0m\u001b[1;33m.\u001b[0m\u001b[0mvalues\u001b[0m\u001b[1;33m\u001b[0m\u001b[0m\n",
      "\u001b[1;32m/u/tdm/repositories/exosyspop/exosyspop/populations.py\u001b[0m in \u001b[0;36m_generate_orbits\u001b[1;34m(self, *args, **kwargs)\u001b[0m\n\u001b[0;32m    944\u001b[0m         \u001b[1;31m# ...then, dilute the depths appropriately.\u001b[0m\u001b[1;33m\u001b[0m\u001b[1;33m\u001b[0m\u001b[0m\n\u001b[0;32m    945\u001b[0m         \u001b[0mfrac\u001b[0m \u001b[1;33m=\u001b[0m \u001b[0mself\u001b[0m\u001b[1;33m.\u001b[0m\u001b[0mdilution_factor\u001b[0m\u001b[1;33m\u001b[0m\u001b[0m\n\u001b[1;32m--> 946\u001b[1;33m         \u001b[0mself\u001b[0m\u001b[1;33m.\u001b[0m\u001b[0md_pri\u001b[0m \u001b[1;33m*=\u001b[0m \u001b[0mfrac\u001b[0m\u001b[1;33m\u001b[0m\u001b[0m\n\u001b[0m\u001b[0;32m    947\u001b[0m         \u001b[0mself\u001b[0m\u001b[1;33m.\u001b[0m\u001b[0md_sec\u001b[0m \u001b[1;33m*=\u001b[0m \u001b[0mfrac\u001b[0m\u001b[1;33m\u001b[0m\u001b[0m\n\u001b[0;32m    948\u001b[0m \u001b[1;33m\u001b[0m\u001b[0m\n",
      "\u001b[1;31mValueError\u001b[0m: operands could not be broadcast together with shapes (33966,) (34275,) (33966,) "
     ]
    }
   ],
   "source": [
    "len(pop.tra)"
   ]
  },
  {
   "cell_type": "code",
   "execution_count": 15,
   "metadata": {
    "collapsed": false
   },
   "outputs": [
    {
     "data": {
      "text/plain": [
       "33815"
      ]
     },
     "execution_count": 15,
     "metadata": {},
     "output_type": "execute_result"
    }
   ],
   "source": [
    "len(pop.flux_ratio)"
   ]
  },
  {
   "cell_type": "code",
   "execution_count": 10,
   "metadata": {
    "collapsed": false
   },
   "outputs": [
    {
     "name": "stderr",
     "output_type": "stream",
     "text": [
      "DEBUG:root:Generating orbits for 34275 stars...\n",
      "DEBUG:root:64 orbits assigned to ecc=rayleigh(0.03)\n",
      "DEBUG:root:45 orbits assigned to ecc=0\n"
     ]
    },
    {
     "ename": "ValueError",
     "evalue": "operands could not be broadcast together with shapes (33966,) (34275,) (33966,) ",
     "output_type": "error",
     "traceback": [
      "\u001b[1;31m---------------------------------------------------------------------------\u001b[0m",
      "\u001b[1;31mValueError\u001b[0m                                Traceback (most recent call last)",
      "\u001b[1;32m<ipython-input-10-b32aeaf26b50>\u001b[0m in \u001b[0;36m<module>\u001b[1;34m()\u001b[0m\n\u001b[1;32m----> 1\u001b[1;33m \u001b[0mpop\u001b[0m\u001b[1;33m.\u001b[0m\u001b[0mperiod\u001b[0m\u001b[1;33m\u001b[0m\u001b[0m\n\u001b[0m",
      "\u001b[1;32m/u/tdm/repositories/exosyspop/exosyspop/populations.py\u001b[0m in \u001b[0;36m__getattr__\u001b[1;34m(self, name)\u001b[0m\n\u001b[0;32m    179\u001b[0m                 \u001b[0mself\u001b[0m\u001b[1;33m.\u001b[0m\u001b[0m_generate_binaries\u001b[0m\u001b[1;33m(\u001b[0m\u001b[1;33m)\u001b[0m\u001b[1;33m\u001b[0m\u001b[0m\n\u001b[0;32m    180\u001b[0m             \u001b[1;32melif\u001b[0m \u001b[0mname\u001b[0m \u001b[1;32min\u001b[0m \u001b[0mself\u001b[0m\u001b[1;33m.\u001b[0m\u001b[0morbital_props\u001b[0m\u001b[1;33m:\u001b[0m\u001b[1;33m\u001b[0m\u001b[0m\n\u001b[1;32m--> 181\u001b[1;33m                 \u001b[0mself\u001b[0m\u001b[1;33m.\u001b[0m\u001b[0m_generate_orbits\u001b[0m\u001b[1;33m(\u001b[0m\u001b[1;33m)\u001b[0m\u001b[1;33m\u001b[0m\u001b[0m\n\u001b[0m\u001b[0;32m    182\u001b[0m         \u001b[1;32mtry\u001b[0m\u001b[1;33m:\u001b[0m\u001b[1;33m\u001b[0m\u001b[0m\n\u001b[0;32m    183\u001b[0m             \u001b[1;32mreturn\u001b[0m \u001b[0mself\u001b[0m\u001b[1;33m.\u001b[0m\u001b[0mstars\u001b[0m\u001b[1;33m[\u001b[0m\u001b[0mname\u001b[0m\u001b[1;33m]\u001b[0m\u001b[1;33m.\u001b[0m\u001b[0mvalues\u001b[0m\u001b[1;33m\u001b[0m\u001b[0m\n",
      "\u001b[1;32m/u/tdm/repositories/exosyspop/exosyspop/populations.py\u001b[0m in \u001b[0;36m_generate_orbits\u001b[1;34m(self, *args, **kwargs)\u001b[0m\n\u001b[0;32m    944\u001b[0m         \u001b[1;31m# ...then, dilute the depths appropriately.\u001b[0m\u001b[1;33m\u001b[0m\u001b[1;33m\u001b[0m\u001b[0m\n\u001b[0;32m    945\u001b[0m         \u001b[0mfrac\u001b[0m \u001b[1;33m=\u001b[0m \u001b[0mself\u001b[0m\u001b[1;33m.\u001b[0m\u001b[0mdilution_factor\u001b[0m\u001b[1;33m\u001b[0m\u001b[0m\n\u001b[1;32m--> 946\u001b[1;33m         \u001b[0mself\u001b[0m\u001b[1;33m.\u001b[0m\u001b[0md_pri\u001b[0m \u001b[1;33m*=\u001b[0m \u001b[0mfrac\u001b[0m\u001b[1;33m\u001b[0m\u001b[0m\n\u001b[0m\u001b[0;32m    947\u001b[0m         \u001b[0mself\u001b[0m\u001b[1;33m.\u001b[0m\u001b[0md_sec\u001b[0m \u001b[1;33m*=\u001b[0m \u001b[0mfrac\u001b[0m\u001b[1;33m\u001b[0m\u001b[0m\n\u001b[0;32m    948\u001b[0m \u001b[1;33m\u001b[0m\u001b[0m\n",
      "\u001b[1;31mValueError\u001b[0m: operands could not be broadcast together with shapes (33966,) (34275,) (33966,) "
     ]
    }
   ],
   "source": [
    "pop.period"
   ]
  },
  {
   "cell_type": "code",
   "execution_count": 8,
   "metadata": {
    "collapsed": false
   },
   "outputs": [
    {
     "data": {
      "text/plain": [
       "34338"
      ]
     },
     "execution_count": 8,
     "metadata": {},
     "output_type": "execute_result"
    }
   ],
   "source": [
    "len(pop.period)"
   ]
  },
  {
   "cell_type": "code",
   "execution_count": 10,
   "metadata": {
    "collapsed": false
   },
   "outputs": [
    {
     "data": {
      "text/plain": [
       "34338"
      ]
     },
     "execution_count": 10,
     "metadata": {},
     "output_type": "execute_result"
    }
   ],
   "source": [
    "len(pop.radius_B)"
   ]
  },
  {
   "cell_type": "code",
   "execution_count": 11,
   "metadata": {
    "collapsed": true
   },
   "outputs": [],
   "source": [
    "pop._generate_binaries()"
   ]
  },
  {
   "cell_type": "code",
   "execution_count": 12,
   "metadata": {
    "collapsed": false
   },
   "outputs": [
    {
     "data": {
      "text/plain": [
       "array([  2.64314194e+02,   4.68885045e+00,   2.35436461e+02, ...,\n",
       "         2.15864286e+06,   6.38365552e+03,   5.63384638e+05])"
      ]
     },
     "execution_count": 12,
     "metadata": {},
     "output_type": "execute_result"
    }
   ],
   "source": [
    "pop.period"
   ]
  },
  {
   "cell_type": "code",
   "execution_count": 19,
   "metadata": {
    "collapsed": true
   },
   "outputs": [],
   "source": [
    "pop._define_stars()"
   ]
  },
  {
   "cell_type": "code",
   "execution_count": 20,
   "metadata": {
    "collapsed": false
   },
   "outputs": [
    {
     "data": {
      "text/plain": [
       "34579"
      ]
     },
     "execution_count": 20,
     "metadata": {},
     "output_type": "execute_result"
    }
   ],
   "source": [
    "pop.N"
   ]
  },
  {
   "cell_type": "code",
   "execution_count": 21,
   "metadata": {
    "collapsed": false
   },
   "outputs": [
    {
     "data": {
      "text/plain": [
       "34579"
      ]
     },
     "execution_count": 21,
     "metadata": {},
     "output_type": "execute_result"
    }
   ],
   "source": [
    "len(pop.stars)"
   ]
  },
  {
   "cell_type": "code",
   "execution_count": 26,
   "metadata": {
    "collapsed": false
   },
   "outputs": [
    {
     "data": {
      "text/plain": [
       "34338"
      ]
     },
     "execution_count": 26,
     "metadata": {},
     "output_type": "execute_result"
    }
   ],
   "source": [
    "len(pop.d_pri)"
   ]
  },
  {
   "cell_type": "code",
   "execution_count": 28,
   "metadata": {
    "collapsed": false
   },
   "outputs": [
    {
     "data": {
      "text/plain": [
       "True"
      ]
     },
     "execution_count": 28,
     "metadata": {},
     "output_type": "execute_result"
    }
   ],
   "source": [
    "'d_pri' in pop._not_calculated"
   ]
  },
  {
   "cell_type": "code",
   "execution_count": 29,
   "metadata": {
    "collapsed": false
   },
   "outputs": [
    {
     "data": {
      "text/plain": [
       "34579"
      ]
     },
     "execution_count": 29,
     "metadata": {},
     "output_type": "execute_result"
    }
   ],
   "source": [
    "len(pop._star_cache)"
   ]
  },
  {
   "cell_type": "code",
   "execution_count": 30,
   "metadata": {
    "collapsed": false
   },
   "outputs": [
    {
     "data": {
      "text/plain": [
       "34579"
      ]
     },
     "execution_count": 30,
     "metadata": {},
     "output_type": "execute_result"
    }
   ],
   "source": [
    "len(pop._index)"
   ]
  },
  {
   "cell_type": "code",
   "execution_count": 27,
   "metadata": {
    "collapsed": false
   },
   "outputs": [
    {
     "data": {
      "text/plain": [
       "True"
      ]
     },
     "execution_count": 27,
     "metadata": {},
     "output_type": "execute_result"
    }
   ],
   "source": [
    "'d_pri' in pop.orbital_props"
   ]
  },
  {
   "cell_type": "code",
   "execution_count": 23,
   "metadata": {
    "collapsed": false
   },
   "outputs": [
    {
     "data": {
      "text/plain": [
       "['mass_B',\n",
       " 'radius_B',\n",
       " 'flux_ratio',\n",
       " 'period',\n",
       " 'ecc',\n",
       " 'w',\n",
       " 'inc',\n",
       " 'a',\n",
       " 'aR',\n",
       " 'b_pri',\n",
       " 'b_sec',\n",
       " 'k',\n",
       " 'tra',\n",
       " 'occ',\n",
       " 'd_pri',\n",
       " 'd_sec',\n",
       " 'T14_pri',\n",
       " 'T14_sec',\n",
       " 'T23_pri',\n",
       " 'T23_sec']"
      ]
     },
     "execution_count": 23,
     "metadata": {},
     "output_type": "execute_result"
    }
   ],
   "source": [
    "pop._not_calculated"
   ]
  },
  {
   "cell_type": "code",
   "execution_count": 16,
   "metadata": {
    "collapsed": false
   },
   "outputs": [
    {
     "ename": "ValueError",
     "evalue": "operands could not be broadcast together with shapes (34338,) (34579,) (34338,) ",
     "output_type": "error",
     "traceback": [
      "\u001b[1;31m---------------------------------------------------------------------------\u001b[0m",
      "\u001b[1;31mValueError\u001b[0m                                Traceback (most recent call last)",
      "\u001b[1;32m<ipython-input-16-b32aeaf26b50>\u001b[0m in \u001b[0;36m<module>\u001b[1;34m()\u001b[0m\n\u001b[1;32m----> 1\u001b[1;33m \u001b[0mpop\u001b[0m\u001b[1;33m.\u001b[0m\u001b[0mperiod\u001b[0m\u001b[1;33m\u001b[0m\u001b[0m\n\u001b[0m",
      "\u001b[1;32m/u/tdm/repositories/exosyspop/exosyspop/populations.py\u001b[0m in \u001b[0;36m__getattr__\u001b[1;34m(self, name)\u001b[0m\n\u001b[0;32m    178\u001b[0m                 \u001b[0mself\u001b[0m\u001b[1;33m.\u001b[0m\u001b[0m_generate_binaries\u001b[0m\u001b[1;33m(\u001b[0m\u001b[1;33m)\u001b[0m\u001b[1;33m\u001b[0m\u001b[0m\n\u001b[0;32m    179\u001b[0m             \u001b[1;32melif\u001b[0m \u001b[0mname\u001b[0m \u001b[1;32min\u001b[0m \u001b[0mself\u001b[0m\u001b[1;33m.\u001b[0m\u001b[0morbital_props\u001b[0m\u001b[1;33m:\u001b[0m\u001b[1;33m\u001b[0m\u001b[0m\n\u001b[1;32m--> 180\u001b[1;33m                 \u001b[0mself\u001b[0m\u001b[1;33m.\u001b[0m\u001b[0m_generate_orbits\u001b[0m\u001b[1;33m(\u001b[0m\u001b[1;33m)\u001b[0m\u001b[1;33m\u001b[0m\u001b[0m\n\u001b[0m\u001b[0;32m    181\u001b[0m         \u001b[1;32mtry\u001b[0m\u001b[1;33m:\u001b[0m\u001b[1;33m\u001b[0m\u001b[0m\n\u001b[0;32m    182\u001b[0m             \u001b[1;32mreturn\u001b[0m \u001b[0mself\u001b[0m\u001b[1;33m.\u001b[0m\u001b[0mstars\u001b[0m\u001b[1;33m[\u001b[0m\u001b[0mname\u001b[0m\u001b[1;33m]\u001b[0m\u001b[1;33m.\u001b[0m\u001b[0mvalues\u001b[0m\u001b[1;33m\u001b[0m\u001b[0m\n",
      "\u001b[1;32m/u/tdm/repositories/exosyspop/exosyspop/populations.py\u001b[0m in \u001b[0;36m_generate_orbits\u001b[1;34m(self, **kwargs)\u001b[0m\n\u001b[0;32m    938\u001b[0m         \u001b[1;31m# ...then, dilute the depths appropriately.\u001b[0m\u001b[1;33m\u001b[0m\u001b[1;33m\u001b[0m\u001b[0m\n\u001b[0;32m    939\u001b[0m         \u001b[0mfrac\u001b[0m \u001b[1;33m=\u001b[0m \u001b[0mself\u001b[0m\u001b[1;33m.\u001b[0m\u001b[0mdilution_factor\u001b[0m\u001b[1;33m\u001b[0m\u001b[0m\n\u001b[1;32m--> 940\u001b[1;33m         \u001b[0mself\u001b[0m\u001b[1;33m.\u001b[0m\u001b[0md_pri\u001b[0m \u001b[1;33m*=\u001b[0m \u001b[0mfrac\u001b[0m\u001b[1;33m\u001b[0m\u001b[0m\n\u001b[0m\u001b[0;32m    941\u001b[0m         \u001b[0mself\u001b[0m\u001b[1;33m.\u001b[0m\u001b[0md_sec\u001b[0m \u001b[1;33m*=\u001b[0m \u001b[0mfrac\u001b[0m\u001b[1;33m\u001b[0m\u001b[0m\n\u001b[0;32m    942\u001b[0m \u001b[1;33m\u001b[0m\u001b[0m\n",
      "\u001b[1;31mValueError\u001b[0m: operands could not be broadcast together with shapes (34338,) (34579,) (34338,) "
     ]
    }
   ],
   "source": [
    "pop.period"
   ]
  },
  {
   "cell_type": "code",
   "execution_count": 7,
   "metadata": {
    "collapsed": false
   },
   "outputs": [
    {
     "name": "stdout",
     "output_type": "stream",
     "text": [
      "1 loops, best of 3: 295 ms per loop\n"
     ]
    }
   ],
   "source": [
    "%timeit pop._generate_binaries()"
   ]
  },
  {
   "cell_type": "code",
   "execution_count": 8,
   "metadata": {
    "collapsed": false
   },
   "outputs": [
    {
     "name": "stdout",
     "output_type": "stream",
     "text": [
      "10 loops, best of 3: 82.5 ms per loop\n"
     ]
    }
   ],
   "source": [
    "%timeit pop._generate_orbits()"
   ]
  },
  {
   "cell_type": "code",
   "execution_count": 9,
   "metadata": {
    "collapsed": false
   },
   "outputs": [
    {
     "name": "stdout",
     "output_type": "stream",
     "text": [
      "10 loops, best of 3: 120 ms per loop\n"
     ]
    }
   ],
   "source": [
    "%timeit pop._define_stars()"
   ]
  },
  {
   "cell_type": "code",
   "execution_count": 11,
   "metadata": {
    "collapsed": false
   },
   "outputs": [
    {
     "data": {
      "image/png": "[encoded data removed]",
      "text/plain": [
       "<matplotlib.figure.Figure at 0x7fd5c211eb50>"
      ]
     },
     "metadata": {},
     "output_type": "display_data"
    }
   ],
   "source": [
    "%matplotlib inline\n",
    "\n",
    "import matplotlib.pyplot as plt\n",
    "plt.hist(pop.b_target, bins=20);"
   ]
  },
  {
   "cell_type": "code",
   "execution_count": 14,
   "metadata": {
    "collapsed": false
   },
   "outputs": [
    {
     "data": {
      "text/plain": [
       "34182"
      ]
     },
     "execution_count": 14,
     "metadata": {},
     "output_type": "execute_result"
    }
   ],
   "source": [
    "len(pop.target_mag)"
   ]
  },
  {
   "cell_type": "code",
   "execution_count": 16,
   "metadata": {
    "collapsed": false
   },
   "outputs": [
    {
     "data": {
      "text/plain": [
       "34182"
      ]
     },
     "execution_count": 16,
     "metadata": {},
     "output_type": "execute_result"
    }
   ],
   "source": [
    "len(pop.stars.target_mag)"
   ]
  },
  {
   "cell_type": "code",
   "execution_count": 18,
   "metadata": {
    "collapsed": false
   },
   "outputs": [
    {
     "data": {
      "text/plain": [
       "34182"
      ]
     },
     "execution_count": 18,
     "metadata": {},
     "output_type": "execute_result"
    }
   ],
   "source": [
    "len(pop.stars.Kepler_mag)"
   ]
  },
  {
   "cell_type": "code",
   "execution_count": 20,
   "metadata": {
    "collapsed": false
   },
   "outputs": [],
   "source": [
    "pop._generate_binaries()"
   ]
  },
  {
   "cell_type": "code",
   "execution_count": 23,
   "metadata": {
    "collapsed": false
   },
   "outputs": [
    {
     "data": {
      "text/plain": [
       "array([ 0.        ,  0.57923069,  0.        , ...,  0.        ,\n",
       "        0.        ,  0.54295226])"
      ]
     },
     "execution_count": 23,
     "metadata": {},
     "output_type": "execute_result"
    }
   ],
   "source": [
    "pop.flux_ratio"
   ]
  },
  {
   "cell_type": "code",
   "execution_count": 30,
   "metadata": {
    "collapsed": true
   },
   "outputs": [],
   "source": [
    "pop._define_stars()"
   ]
  },
  {
   "cell_type": "code",
   "execution_count": 31,
   "metadata": {
    "collapsed": false
   },
   "outputs": [
    {
     "data": {
      "text/plain": [
       "['mass_B',\n",
       " 'radius_B',\n",
       " 'flux_ratio',\n",
       " 'period',\n",
       " 'ecc',\n",
       " 'w',\n",
       " 'inc',\n",
       " 'a',\n",
       " 'aR',\n",
       " 'b_pri',\n",
       " 'b_sec',\n",
       " 'k',\n",
       " 'tra',\n",
       " 'occ',\n",
       " 'd_pri',\n",
       " 'd_sec',\n",
       " 'T14_pri',\n",
       " 'T14_sec',\n",
       " 'T23_pri',\n",
       " 'T23_sec']"
      ]
     },
     "execution_count": 31,
     "metadata": {},
     "output_type": "execute_result"
    }
   ],
   "source": [
    "pop._not_calculated"
   ]
  },
  {
   "cell_type": "code",
   "execution_count": 32,
   "metadata": {
    "collapsed": false
   },
   "outputs": [
    {
     "data": {
      "text/plain": [
       "array([ 0.83702842,  0.        ,  0.        , ...,  0.10005448,\n",
       "        0.        ,  0.14975393])"
      ]
     },
     "execution_count": 32,
     "metadata": {},
     "output_type": "execute_result"
    }
   ],
   "source": [
    "pop.flux_ratio"
   ]
  },
  {
   "cell_type": "code",
   "execution_count": 33,
   "metadata": {
    "collapsed": false
   },
   "outputs": [
    {
     "data": {
      "text/plain": [
       "['period',\n",
       " 'ecc',\n",
       " 'w',\n",
       " 'inc',\n",
       " 'a',\n",
       " 'aR',\n",
       " 'b_pri',\n",
       " 'b_sec',\n",
       " 'k',\n",
       " 'tra',\n",
       " 'occ',\n",
       " 'd_pri',\n",
       " 'd_sec',\n",
       " 'T14_pri',\n",
       " 'T14_sec',\n",
       " 'T23_pri',\n",
       " 'T23_sec']"
      ]
     },
     "execution_count": 33,
     "metadata": {},
     "output_type": "execute_result"
    }
   ],
   "source": [
    "pop._not_calculated"
   ]
  },
  {
   "cell_type": "code",
   "execution_count": 36,
   "metadata": {
    "collapsed": false
   },
   "outputs": [
    {
     "data": {
      "text/plain": [
       "array([ 11021.52537402,   1660.53071248,     17.18135333, ...,\n",
       "         2838.88530808,   7222.03006546,   7857.89083491])"
      ]
     },
     "execution_count": 36,
     "metadata": {},
     "output_type": "execute_result"
    }
   ],
   "source": [
    "pop.period"
   ]
  },
  {
   "cell_type": "code",
   "execution_count": 37,
   "metadata": {
    "collapsed": true
   },
   "outputs": [],
   "source": [
    "pop._define_stars()"
   ]
  },
  {
   "cell_type": "code",
   "execution_count": 39,
   "metadata": {
    "collapsed": false
   },
   "outputs": [
    {
     "data": {
      "text/plain": [
       "array([  1.56755125e+04,   2.49027838e+02,   3.02022528e+00, ...,\n",
       "         2.52893195e+06,   4.43991881e+01,   2.79233964e+02])"
      ]
     },
     "execution_count": 39,
     "metadata": {},
     "output_type": "execute_result"
    }
   ],
   "source": [
    "pop.period"
   ]
  },
  {
   "cell_type": "code",
   "execution_count": 40,
   "metadata": {
    "collapsed": false
   },
   "outputs": [
    {
     "data": {
      "text/plain": [
       "34441"
      ]
     },
     "execution_count": 40,
     "metadata": {},
     "output_type": "execute_result"
    }
   ],
   "source": [
    "len(pop.stars)"
   ]
  },
  {
   "cell_type": "code",
   "execution_count": 41,
   "metadata": {
    "collapsed": false
   },
   "outputs": [
    {
     "data": {
      "text/plain": [
       "34352"
      ]
     },
     "execution_count": 41,
     "metadata": {},
     "output_type": "execute_result"
    }
   ],
   "source": [
    "pop._define_stars()\n",
    "len(pop.stars)"
   ]
  },
  {
   "cell_type": "code",
   "execution_count": 42,
   "metadata": {
    "collapsed": false
   },
   "outputs": [
    {
     "data": {
      "text/plain": [
       "34352"
      ]
     },
     "execution_count": 42,
     "metadata": {},
     "output_type": "execute_result"
    }
   ],
   "source": [
    "len(pop.dilution_factor)"
   ]
  },
  {
   "cell_type": "code",
   "execution_count": 43,
   "metadata": {
    "collapsed": false
   },
   "outputs": [
    {
     "data": {
      "text/plain": [
       "34161"
      ]
     },
     "execution_count": 43,
     "metadata": {},
     "output_type": "execute_result"
    }
   ],
   "source": [
    "len(pop.d_pri)"
   ]
  },
  {
   "cell_type": "code",
   "execution_count": 44,
   "metadata": {
    "collapsed": false
   },
   "outputs": [
    {
     "data": {
      "text/plain": [
       "['mass_B',\n",
       " 'radius_B',\n",
       " 'flux_ratio',\n",
       " 'period',\n",
       " 'ecc',\n",
       " 'w',\n",
       " 'inc',\n",
       " 'a',\n",
       " 'aR',\n",
       " 'b_pri',\n",
       " 'b_sec',\n",
       " 'k',\n",
       " 'tra',\n",
       " 'occ',\n",
       " 'd_pri',\n",
       " 'd_sec',\n",
       " 'T14_pri',\n",
       " 'T14_sec',\n",
       " 'T23_pri',\n",
       " 'T23_sec']"
      ]
     },
     "execution_count": 44,
     "metadata": {},
     "output_type": "execute_result"
    }
   ],
   "source": [
    "pop._not_calculated"
   ]
  },
  {
   "cell_type": "code",
   "execution_count": null,
   "metadata": {
    "collapsed": true
   },
   "outputs": [],
   "source": []
  }
 ],
 "metadata": {
  "kernelspec": {
   "display_name": "Python 2",
   "language": "python",
   "name": "python2"
  },
  "language_info": {
   "codemirror_mode": {
    "name": "ipython",
    "version": 2
   },
   "file_extension": ".py",
   "mimetype": "text/x-python",
   "name": "python",
   "nbconvert_exporter": "python",
   "pygments_lexer": "ipython2",
   "version": "2.7.11"
  }
 },
 "nbformat": 4,
 "nbformat_minor": 0
}
