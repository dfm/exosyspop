{
 "cells": [
  {
   "cell_type": "code",
   "execution_count": 1,
   "metadata": {
    "collapsed": false,
    "scrolled": true
   },
   "outputs": [
    {
     "name": "stderr",
     "output_type": "stream",
     "text": [
      "WARNING:root:progressbar not imported\n"
     ]
    }
   ],
   "source": [
    "import pandas as pd\n",
    "from exosyspop.populations import TRILEGAL_BGBinaryPopulation\n",
    "\n",
    "targets = pd.read_hdf('targets.h5')\n",
    "bgstars = pd.read_hdf('bgstars.h5')\n",
    "pop = TRILEGAL_BGBinaryPopulation(targets, bgstars)"
   ]
  },
  {
   "cell_type": "code",
   "execution_count": 2,
   "metadata": {
    "collapsed": false
   },
   "outputs": [
    {
     "name": "stdout",
     "output_type": "stream",
     "text": [
      "dmag regressor trained, R2=0.98229046963\n",
      "qR regressor trained, R2=0.978991221574\n"
     ]
    },
    {
     "data": {
      "image/png": "[encoded data removed]",
      "text/plain": [
       "<matplotlib.figure.Figure at 0x7f0e9fa01b10>"
      ]
     },
     "metadata": {},
     "output_type": "display_data"
    }
   ],
   "source": [
    "%matplotlib inline\n",
    "pop._train_pipelines(n_jobs=8, plot=True)"
   ]
  },
  {
   "cell_type": "code",
   "execution_count": 8,
   "metadata": {
    "collapsed": false
   },
   "outputs": [
    {
     "data": {
      "text/plain": [
       "array([ nan,  nan,  nan, ...,  nan,  nan,  nan])"
      ]
     },
     "execution_count": 8,
     "metadata": {},
     "output_type": "execute_result"
    }
   ],
   "source": [
    "pop.radius_B"
   ]
  },
  {
   "cell_type": "code",
   "execution_count": 10,
   "metadata": {
    "collapsed": false
   },
   "outputs": [
    {
     "data": {
      "text/plain": [
       "array([ nan,  nan,  nan, ...,  nan,  nan,  nan])"
      ]
     },
     "execution_count": 10,
     "metadata": {},
     "output_type": "execute_result"
    }
   ],
   "source": [
    "pop.mass_B"
   ]
  },
  {
   "cell_type": "code",
   "execution_count": 12,
   "metadata": {
    "collapsed": true
   },
   "outputs": [],
   "source": [
    "pop._define_stars()"
   ]
  },
  {
   "cell_type": "code",
   "execution_count": 13,
   "metadata": {
    "collapsed": false
   },
   "outputs": [
    {
     "data": {
      "text/plain": [
       "34689"
      ]
     },
     "execution_count": 13,
     "metadata": {},
     "output_type": "execute_result"
    }
   ],
   "source": [
    "len(pop.stars)"
   ]
  },
  {
   "cell_type": "code",
   "execution_count": 15,
   "metadata": {
    "collapsed": false
   },
   "outputs": [
    {
     "data": {
      "text/plain": [
       "Int64Index([ 44839, 114790, 140741, 171037,  57396,  48512,   4926,  34640,\n",
       "             26007, 108178,\n",
       "            ...\n",
       "             98445, 130812,  76139, 145288, 152409,   7126, 126318, 159979,\n",
       "            162428,  51410],\n",
       "           dtype='int64', length=34689)"
      ]
     },
     "execution_count": 15,
     "metadata": {},
     "output_type": "execute_result"
    }
   ],
   "source": [
    "pop._i_bg"
   ]
  },
  {
   "cell_type": "code",
   "execution_count": 16,
   "metadata": {
    "collapsed": false
   },
   "outputs": [
    {
     "data": {
      "text/html": [
       "<div>\n",
       "<table border=\"1\" class=\"dataframe\">\n",
       "  <thead>\n",
       "    <tr style=\"text-align: right;\">\n",
       "      <th></th>\n",
       "      <th>Gc</th>\n",
       "      <th>age</th>\n",
       "      <th>feh</th>\n",
       "      <th>mass_A</th>\n",
       "      <th>logL</th>\n",
       "      <th>logTe</th>\n",
       "      <th>logg</th>\n",
       "      <th>m-M0</th>\n",
       "      <th>Av</th>\n",
       "      <th>m2/m1</th>\n",
       "      <th>...</th>\n",
       "      <th>d_pri</th>\n",
       "      <th>d_sec</th>\n",
       "      <th>T14_pri</th>\n",
       "      <th>T14_sec</th>\n",
       "      <th>T23_pri</th>\n",
       "      <th>T23_sec</th>\n",
       "      <th>dataspan</th>\n",
       "      <th>dutycycle</th>\n",
       "      <th>target_mag</th>\n",
       "      <th>b_target</th>\n",
       "    </tr>\n",
       "  </thead>\n",
       "  <tbody>\n",
       "    <tr>\n",
       "      <th>44839</th>\n",
       "      <td>1</td>\n",
       "      <td>9.71</td>\n",
       "      <td>-0.13</td>\n",
       "      <td>0.11807</td>\n",
       "      <td>-2.846</td>\n",
       "      <td>3.478</td>\n",
       "      <td>5.213</td>\n",
       "      <td>13.1</td>\n",
       "      <td>0.306</td>\n",
       "      <td>0</td>\n",
       "      <td>...</td>\n",
       "      <td>NaN</td>\n",
       "      <td>NaN</td>\n",
       "      <td>NaN</td>\n",
       "      <td>NaN</td>\n",
       "      <td>NaN</td>\n",
       "      <td>NaN</td>\n",
       "      <td>1459.789</td>\n",
       "      <td>0.6986</td>\n",
       "      <td>14.940</td>\n",
       "      <td>11.166572</td>\n",
       "    </tr>\n",
       "    <tr>\n",
       "      <th>114790</th>\n",
       "      <td>2</td>\n",
       "      <td>10.05</td>\n",
       "      <td>-1.27</td>\n",
       "      <td>0.29567</td>\n",
       "      <td>-1.697</td>\n",
       "      <td>3.620</td>\n",
       "      <td>5.034</td>\n",
       "      <td>13.3</td>\n",
       "      <td>0.379</td>\n",
       "      <td>0</td>\n",
       "      <td>...</td>\n",
       "      <td>NaN</td>\n",
       "      <td>NaN</td>\n",
       "      <td>NaN</td>\n",
       "      <td>NaN</td>\n",
       "      <td>NaN</td>\n",
       "      <td>NaN</td>\n",
       "      <td>1459.789</td>\n",
       "      <td>0.8753</td>\n",
       "      <td>13.524</td>\n",
       "      <td>6.193859</td>\n",
       "    </tr>\n",
       "    <tr>\n",
       "      <th>140741</th>\n",
       "      <td>2</td>\n",
       "      <td>10.07</td>\n",
       "      <td>-1.25</td>\n",
       "      <td>0.11682</td>\n",
       "      <td>-2.712</td>\n",
       "      <td>3.528</td>\n",
       "      <td>5.274</td>\n",
       "      <td>13.2</td>\n",
       "      <td>0.395</td>\n",
       "      <td>0</td>\n",
       "      <td>...</td>\n",
       "      <td>NaN</td>\n",
       "      <td>NaN</td>\n",
       "      <td>NaN</td>\n",
       "      <td>NaN</td>\n",
       "      <td>NaN</td>\n",
       "      <td>NaN</td>\n",
       "      <td>1459.789</td>\n",
       "      <td>0.6987</td>\n",
       "      <td>14.678</td>\n",
       "      <td>10.410357</td>\n",
       "    </tr>\n",
       "    <tr>\n",
       "      <th>171037</th>\n",
       "      <td>3</td>\n",
       "      <td>10.11</td>\n",
       "      <td>-1.69</td>\n",
       "      <td>0.09459</td>\n",
       "      <td>-3.061</td>\n",
       "      <td>3.494</td>\n",
       "      <td>5.395</td>\n",
       "      <td>13.2</td>\n",
       "      <td>0.331</td>\n",
       "      <td>0</td>\n",
       "      <td>...</td>\n",
       "      <td>NaN</td>\n",
       "      <td>NaN</td>\n",
       "      <td>NaN</td>\n",
       "      <td>NaN</td>\n",
       "      <td>NaN</td>\n",
       "      <td>NaN</td>\n",
       "      <td>1459.789</td>\n",
       "      <td>0.6988</td>\n",
       "      <td>14.844</td>\n",
       "      <td>10.411438</td>\n",
       "    </tr>\n",
       "    <tr>\n",
       "      <th>57396</th>\n",
       "      <td>1</td>\n",
       "      <td>9.77</td>\n",
       "      <td>-0.03</td>\n",
       "      <td>0.47423</td>\n",
       "      <td>-1.426</td>\n",
       "      <td>3.594</td>\n",
       "      <td>4.860</td>\n",
       "      <td>12.7</td>\n",
       "      <td>0.315</td>\n",
       "      <td>0</td>\n",
       "      <td>...</td>\n",
       "      <td>NaN</td>\n",
       "      <td>NaN</td>\n",
       "      <td>NaN</td>\n",
       "      <td>NaN</td>\n",
       "      <td>NaN</td>\n",
       "      <td>NaN</td>\n",
       "      <td>1459.789</td>\n",
       "      <td>0.6989</td>\n",
       "      <td>14.836</td>\n",
       "      <td>10.396925</td>\n",
       "    </tr>\n",
       "  </tbody>\n",
       "</table>\n",
       "<p>5 rows × 46 columns</p>\n",
       "</div>"
      ],
      "text/plain": [
       "        Gc    age   feh   mass_A   logL  logTe   logg  m-M0     Av  m2/m1  \\\n",
       "44839    1   9.71 -0.13  0.11807 -2.846  3.478  5.213  13.1  0.306      0   \n",
       "114790   2  10.05 -1.27  0.29567 -1.697  3.620  5.034  13.3  0.379      0   \n",
       "140741   2  10.07 -1.25  0.11682 -2.712  3.528  5.274  13.2  0.395      0   \n",
       "171037   3  10.11 -1.69  0.09459 -3.061  3.494  5.395  13.2  0.331      0   \n",
       "57396    1   9.77 -0.03  0.47423 -1.426  3.594  4.860  12.7  0.315      0   \n",
       "\n",
       "          ...      d_pri  d_sec  T14_pri  T14_sec  T23_pri  T23_sec  dataspan  \\\n",
       "44839     ...        NaN    NaN      NaN      NaN      NaN      NaN  1459.789   \n",
       "114790    ...        NaN    NaN      NaN      NaN      NaN      NaN  1459.789   \n",
       "140741    ...        NaN    NaN      NaN      NaN      NaN      NaN  1459.789   \n",
       "171037    ...        NaN    NaN      NaN      NaN      NaN      NaN  1459.789   \n",
       "57396     ...        NaN    NaN      NaN      NaN      NaN      NaN  1459.789   \n",
       "\n",
       "        dutycycle  target_mag   b_target  \n",
       "44839      0.6986      14.940  11.166572  \n",
       "114790     0.8753      13.524   6.193859  \n",
       "140741     0.6987      14.678  10.410357  \n",
       "171037     0.6988      14.844  10.411438  \n",
       "57396      0.6989      14.836  10.396925  \n",
       "\n",
       "[5 rows x 46 columns]"
      ]
     },
     "execution_count": 16,
     "metadata": {},
     "output_type": "execute_result"
    }
   ],
   "source": [
    "pop.stars.head()\n"
   ]
  },
  {
   "cell_type": "code",
   "execution_count": null,
   "metadata": {
    "collapsed": true
   },
   "outputs": [],
   "source": [
    "pop."
   ]
  }
 ],
 "metadata": {
  "kernelspec": {
   "display_name": "Python 2",
   "language": "python",
   "name": "python2"
  },
  "language_info": {
   "codemirror_mode": {
    "name": "ipython",
    "version": 2
   },
   "file_extension": ".py",
   "mimetype": "text/x-python",
   "name": "python",
   "nbconvert_exporter": "python",
   "pygments_lexer": "ipython2",
   "version": "2.7.11"
  }
 },
 "nbformat": 4,
 "nbformat_minor": 0
}
