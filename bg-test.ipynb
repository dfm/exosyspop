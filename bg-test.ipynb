{
 "cells": [
  {
   "cell_type": "code",
   "execution_count": 1,
   "metadata": {
    "collapsed": false,
    "scrolled": false
   },
   "outputs": [
    {
     "name": "stderr",
     "output_type": "stream",
     "text": [
      "WARNING:root:progressbar not imported\n"
     ]
    }
   ],
   "source": [
    "import pandas as pd\n",
    "from exosyspop.populations import TRILEGAL_BGBinaryPopulation\n",
    "\n",
    "targets = pd.read_hdf('targets.h5')\n",
    "bgstars = pd.read_hdf('bgstars.h5')\n",
    "pop = TRILEGAL_BGBinaryPopulation(targets, bgstars)\n",
    "\n",
    "import logging\n",
    "rootLogger = logging.getLogger()"
   ]
  },
  {
   "cell_type": "code",
   "execution_count": 2,
   "metadata": {
    "collapsed": false
   },
   "outputs": [
    {
     "name": "stdout",
     "output_type": "stream",
     "text": [
      "dmag regressor trained, R2=0.972379853549\n",
      "qR regressor trained, R2=0.817438126101\n"
     ]
    },
    {
     "data": {
      "image/png": "[encoded data removed]",
      "text/plain": [
       "<matplotlib.figure.Figure at 0x7f8e51f86b10>"
      ]
     },
     "metadata": {},
     "output_type": "display_data"
    }
   ],
   "source": [
    "%matplotlib inline\n",
    "rootLogger.setLevel(logging.INFO)\n",
    "pop._train_pipelines(n_jobs=1, plot=True)\n",
    "rootLogger.setLevel(logging.DEBUG)"
   ]
  },
  {
   "cell_type": "code",
   "execution_count": 3,
   "metadata": {
    "collapsed": true
   },
   "outputs": [],
   "source": [
    "rootLogger.setLevel(logging.INFO)"
   ]
  },
  {
   "cell_type": "code",
   "execution_count": 4,
   "metadata": {
    "collapsed": false
   },
   "outputs": [
    {
     "data": {
      "text/html": [
       "<div>\n",
       "<table border=\"1\" class=\"dataframe\">\n",
       "  <thead>\n",
       "    <tr style=\"text-align: right;\">\n",
       "      <th></th>\n",
       "      <th>period</th>\n",
       "      <th>ecc</th>\n",
       "      <th>w</th>\n",
       "      <th>inc</th>\n",
       "      <th>a</th>\n",
       "      <th>aR</th>\n",
       "      <th>b_pri</th>\n",
       "      <th>b_sec</th>\n",
       "      <th>k</th>\n",
       "      <th>tra</th>\n",
       "      <th>...</th>\n",
       "      <th>T23_pri</th>\n",
       "      <th>T23_sec</th>\n",
       "      <th>dataspan</th>\n",
       "      <th>dutycycle</th>\n",
       "      <th>target_mag</th>\n",
       "      <th>b_target</th>\n",
       "      <th>flux_ratio</th>\n",
       "      <th>n_pri</th>\n",
       "      <th>n_sec</th>\n",
       "      <th>phase_sec</th>\n",
       "    </tr>\n",
       "  </thead>\n",
       "  <tbody>\n",
       "    <tr>\n",
       "      <th>13060</th>\n",
       "      <td>332.648212</td>\n",
       "      <td>0.039992</td>\n",
       "      <td>1.130696</td>\n",
       "      <td>1.222953</td>\n",
       "      <td>7.945758e+12</td>\n",
       "      <td>1012.663468</td>\n",
       "      <td>332.601500</td>\n",
       "      <td>357.572643</td>\n",
       "      <td>764.810887</td>\n",
       "      <td>True</td>\n",
       "      <td>...</td>\n",
       "      <td>82.404726</td>\n",
       "      <td>86.503408</td>\n",
       "      <td>1459.789</td>\n",
       "      <td>0.6987</td>\n",
       "      <td>14.374</td>\n",
       "      <td>10.335477</td>\n",
       "      <td>0.999721</td>\n",
       "      <td>4</td>\n",
       "      <td>4</td>\n",
       "      <td>0.510853</td>\n",
       "    </tr>\n",
       "    <tr>\n",
       "      <th>33324</th>\n",
       "      <td>4.938219</td>\n",
       "      <td>0.092181</td>\n",
       "      <td>1.859512</td>\n",
       "      <td>1.549160</td>\n",
       "      <td>9.446400e+11</td>\n",
       "      <td>18.377046</td>\n",
       "      <td>0.362201</td>\n",
       "      <td>0.432419</td>\n",
       "      <td>0.744958</td>\n",
       "      <td>True</td>\n",
       "      <td>...</td>\n",
       "      <td>0.000000</td>\n",
       "      <td>0.000000</td>\n",
       "      <td>1459.789</td>\n",
       "      <td>0.6989</td>\n",
       "      <td>12.066</td>\n",
       "      <td>10.942227</td>\n",
       "      <td>0.130460</td>\n",
       "      <td>207</td>\n",
       "      <td>219</td>\n",
       "      <td>0.483228</td>\n",
       "    </tr>\n",
       "    <tr>\n",
       "      <th>124254</th>\n",
       "      <td>1.960906</td>\n",
       "      <td>0.270973</td>\n",
       "      <td>1.186354</td>\n",
       "      <td>1.453593</td>\n",
       "      <td>4.975378e+11</td>\n",
       "      <td>10.907384</td>\n",
       "      <td>0.944541</td>\n",
       "      <td>1.578252</td>\n",
       "      <td>0.874371</td>\n",
       "      <td>True</td>\n",
       "      <td>...</td>\n",
       "      <td>0.000000</td>\n",
       "      <td>0.000000</td>\n",
       "      <td>1459.789</td>\n",
       "      <td>0.8751</td>\n",
       "      <td>13.656</td>\n",
       "      <td>12.226015</td>\n",
       "      <td>0.369489</td>\n",
       "      <td>642</td>\n",
       "      <td>646</td>\n",
       "      <td>0.566718</td>\n",
       "    </tr>\n",
       "    <tr>\n",
       "      <th>110011</th>\n",
       "      <td>377.475126</td>\n",
       "      <td>0.208164</td>\n",
       "      <td>4.062067</td>\n",
       "      <td>1.528665</td>\n",
       "      <td>1.892825e+13</td>\n",
       "      <td>15118.586711</td>\n",
       "      <td>730.159287</td>\n",
       "      <td>522.606678</td>\n",
       "      <td>5483.572443</td>\n",
       "      <td>True</td>\n",
       "      <td>...</td>\n",
       "      <td>51.832528</td>\n",
       "      <td>37.269620</td>\n",
       "      <td>1459.789</td>\n",
       "      <td>0.8751</td>\n",
       "      <td>14.091</td>\n",
       "      <td>11.843052</td>\n",
       "      <td>1.061413</td>\n",
       "      <td>3</td>\n",
       "      <td>4</td>\n",
       "      <td>0.418864</td>\n",
       "    </tr>\n",
       "    <tr>\n",
       "      <th>110420</th>\n",
       "      <td>6.104980</td>\n",
       "      <td>0.118405</td>\n",
       "      <td>2.880660</td>\n",
       "      <td>1.524093</td>\n",
       "      <td>9.779735e+11</td>\n",
       "      <td>28.646417</td>\n",
       "      <td>1.279571</td>\n",
       "      <td>1.360207</td>\n",
       "      <td>0.871276</td>\n",
       "      <td>True</td>\n",
       "      <td>...</td>\n",
       "      <td>0.000000</td>\n",
       "      <td>0.000000</td>\n",
       "      <td>1459.789</td>\n",
       "      <td>0.8753</td>\n",
       "      <td>13.508</td>\n",
       "      <td>16.291674</td>\n",
       "      <td>0.323308</td>\n",
       "      <td>202</td>\n",
       "      <td>205</td>\n",
       "      <td>0.427298</td>\n",
       "    </tr>\n",
       "  </tbody>\n",
       "</table>\n",
       "<p>5 rows × 25 columns</p>\n",
       "</div>"
      ],
      "text/plain": [
       "            period       ecc         w       inc             a            aR  \\\n",
       "13060   332.648212  0.039992  1.130696  1.222953  7.945758e+12   1012.663468   \n",
       "33324     4.938219  0.092181  1.859512  1.549160  9.446400e+11     18.377046   \n",
       "124254    1.960906  0.270973  1.186354  1.453593  4.975378e+11     10.907384   \n",
       "110011  377.475126  0.208164  4.062067  1.528665  1.892825e+13  15118.586711   \n",
       "110420    6.104980  0.118405  2.880660  1.524093  9.779735e+11     28.646417   \n",
       "\n",
       "             b_pri       b_sec            k   tra    ...        T23_pri  \\\n",
       "13060   332.601500  357.572643   764.810887  True    ...      82.404726   \n",
       "33324     0.362201    0.432419     0.744958  True    ...       0.000000   \n",
       "124254    0.944541    1.578252     0.874371  True    ...       0.000000   \n",
       "110011  730.159287  522.606678  5483.572443  True    ...      51.832528   \n",
       "110420    1.279571    1.360207     0.871276  True    ...       0.000000   \n",
       "\n",
       "          T23_sec  dataspan  dutycycle  target_mag   b_target  flux_ratio  \\\n",
       "13060   86.503408  1459.789     0.6987      14.374  10.335477    0.999721   \n",
       "33324    0.000000  1459.789     0.6989      12.066  10.942227    0.130460   \n",
       "124254   0.000000  1459.789     0.8751      13.656  12.226015    0.369489   \n",
       "110011  37.269620  1459.789     0.8751      14.091  11.843052    1.061413   \n",
       "110420   0.000000  1459.789     0.8753      13.508  16.291674    0.323308   \n",
       "\n",
       "        n_pri  n_sec  phase_sec  \n",
       "13060       4      4   0.510853  \n",
       "33324     207    219   0.483228  \n",
       "124254    642    646   0.566718  \n",
       "110011      3      4   0.418864  \n",
       "110420    202    205   0.427298  \n",
       "\n",
       "[5 rows x 25 columns]"
      ]
     },
     "execution_count": 4,
     "metadata": {},
     "output_type": "execute_result"
    }
   ],
   "source": [
    "pop.observe(new=True).head()"
   ]
  },
  {
   "cell_type": "code",
   "execution_count": 5,
   "metadata": {
    "collapsed": false
   },
   "outputs": [
    {
     "name": "stdout",
     "output_type": "stream",
     "text": [
      "1 loops, best of 3: 204 ms per loop\n"
     ]
    }
   ],
   "source": [
    "%timeit pop.observe(new=True)"
   ]
  },
  {
   "cell_type": "code",
   "execution_count": 8,
   "metadata": {
    "collapsed": false
   },
   "outputs": [
    {
     "data": {
      "image/png": "[encoded data removed]",
      "text/plain": [
       "<matplotlib.figure.Figure at 0x7f8dfea457d0>"
      ]
     },
     "metadata": {},
     "output_type": "display_data"
    }
   ],
   "source": [
    "%matplotlib inline\n",
    "\n",
    "import matplotlib.pyplot as plt\n",
    "obs = pop.observe(new=True)\n",
    "plt.hist(obs.b_target.values, bins=20);"
   ]
  },
  {
   "cell_type": "code",
   "execution_count": 9,
   "metadata": {
    "collapsed": false
   },
   "outputs": [
    {
     "data": {
      "text/html": [
       "<div>\n",
       "<table border=\"1\" class=\"dataframe\">\n",
       "  <thead>\n",
       "    <tr style=\"text-align: right;\">\n",
       "      <th></th>\n",
       "      <th>period</th>\n",
       "      <th>d_pri</th>\n",
       "      <th>d_sec</th>\n",
       "    </tr>\n",
       "  </thead>\n",
       "  <tbody>\n",
       "    <tr>\n",
       "      <th>13060</th>\n",
       "      <td>707.644932</td>\n",
       "      <td>0.000038</td>\n",
       "      <td>0.000000e+00</td>\n",
       "    </tr>\n",
       "    <tr>\n",
       "      <th>10822</th>\n",
       "      <td>1.486780</td>\n",
       "      <td>0.000000</td>\n",
       "      <td>9.621109e-06</td>\n",
       "    </tr>\n",
       "    <tr>\n",
       "      <th>5760</th>\n",
       "      <td>4.465756</td>\n",
       "      <td>0.021473</td>\n",
       "      <td>9.936814e-04</td>\n",
       "    </tr>\n",
       "    <tr>\n",
       "      <th>49892</th>\n",
       "      <td>1024.169237</td>\n",
       "      <td>0.000036</td>\n",
       "      <td>9.228355e-13</td>\n",
       "    </tr>\n",
       "    <tr>\n",
       "      <th>70882</th>\n",
       "      <td>6.403238</td>\n",
       "      <td>0.000016</td>\n",
       "      <td>9.976048e-06</td>\n",
       "    </tr>\n",
       "    <tr>\n",
       "      <th>71436</th>\n",
       "      <td>1.751919</td>\n",
       "      <td>0.000044</td>\n",
       "      <td>0.000000e+00</td>\n",
       "    </tr>\n",
       "    <tr>\n",
       "      <th>101500</th>\n",
       "      <td>81.480193</td>\n",
       "      <td>0.000010</td>\n",
       "      <td>5.935824e-06</td>\n",
       "    </tr>\n",
       "    <tr>\n",
       "      <th>39406</th>\n",
       "      <td>3.413679</td>\n",
       "      <td>0.000609</td>\n",
       "      <td>1.516652e-04</td>\n",
       "    </tr>\n",
       "    <tr>\n",
       "      <th>93914</th>\n",
       "      <td>1.062035</td>\n",
       "      <td>0.000004</td>\n",
       "      <td>2.022381e-06</td>\n",
       "    </tr>\n",
       "    <tr>\n",
       "      <th>24561</th>\n",
       "      <td>3.803705</td>\n",
       "      <td>0.000017</td>\n",
       "      <td>1.451259e-05</td>\n",
       "    </tr>\n",
       "  </tbody>\n",
       "</table>\n",
       "</div>"
      ],
      "text/plain": [
       "             period     d_pri         d_sec\n",
       "13060    707.644932  0.000038  0.000000e+00\n",
       "10822      1.486780  0.000000  9.621109e-06\n",
       "5760       4.465756  0.021473  9.936814e-04\n",
       "49892   1024.169237  0.000036  9.228355e-13\n",
       "70882      6.403238  0.000016  9.976048e-06\n",
       "71436      1.751919  0.000044  0.000000e+00\n",
       "101500    81.480193  0.000010  5.935824e-06\n",
       "39406      3.413679  0.000609  1.516652e-04\n",
       "93914      1.062035  0.000004  2.022381e-06\n",
       "24561      3.803705  0.000017  1.451259e-05"
      ]
     },
     "execution_count": 9,
     "metadata": {},
     "output_type": "execute_result"
    }
   ],
   "source": [
    "obs[['period','d_pri','d_sec']].head(10)"
   ]
  },
  {
   "cell_type": "code",
   "execution_count": null,
   "metadata": {
    "collapsed": true
   },
   "outputs": [],
   "source": []
  }
 ],
 "metadata": {
  "kernelspec": {
   "display_name": "Python 2",
   "language": "python",
   "name": "python2"
  },
  "language_info": {
   "codemirror_mode": {
    "name": "ipython",
    "version": 2
   },
   "file_extension": ".py",
   "mimetype": "text/x-python",
   "name": "python",
   "nbconvert_exporter": "python",
   "pygments_lexer": "ipython2",
   "version": "2.7.11"
  }
 },
 "nbformat": 4,
 "nbformat_minor": 0
}
