{
 "cells": [
  {
   "cell_type": "code",
   "execution_count": 1,
   "metadata": {
    "collapsed": false,
    "scrolled": true
   },
   "outputs": [
    {
     "name": "stderr",
     "output_type": "stream",
     "text": [
      "WARNING:root:Deprecation Warning: 'triangle' has been renamed to 'corner'. This shim should continue to work but you should use 'import corner' in new code. https://github.com/dfm/corner.py\n",
      "WARNING:root:PyMultiNest not available; only emcee fits will be possible.\n",
      "WARNING:root:progressbar not imported\n"
     ]
    }
   ],
   "source": [
    "import pandas as pd\n",
    "from exosyspop.populations import TRILEGAL_BGBinaryPopulation\n",
    "\n",
    "targets = pd.read_hdf('targets.h5')\n",
    "bgstars = pd.read_hdf('bgstars.h5').query('m_ini > 0.11')\n",
    "\n",
    "# Sanitize dtypes of targets DataFrame\n",
    "for c in targets.columns:\n",
    "    if targets[c].dtype == object:\n",
    "        targets.loc[:,c] = targets.loc[:,c].astype(str)\n",
    "\n",
    "pop = TRILEGAL_BGBinaryPopulation(targets, bgstars)\n",
    "\n",
    "import logging\n",
    "rootLogger = logging.getLogger()"
   ]
  },
  {
   "cell_type": "code",
   "execution_count": 2,
   "metadata": {
    "collapsed": false
   },
   "outputs": [],
   "source": [
    "pop = TRILEGAL_BGBinaryPopulation(targets.sample(1000), bgstars.sample(1000), fB=1)"
   ]
  },
  {
   "cell_type": "code",
   "execution_count": 3,
   "metadata": {
    "collapsed": false,
    "scrolled": true
   },
   "outputs": [
    {
     "name": "stdout",
     "output_type": "stream",
     "text": [
      "BGEB: dmag regressor trained, R2=0.911817563285\n",
      "BGEB: qR regressor trained, R2=0.76634227607\n"
     ]
    }
   ],
   "source": [
    "rB = pop.radius_B"
   ]
  },
  {
   "cell_type": "code",
   "execution_count": 4,
   "metadata": {
    "collapsed": false
   },
   "outputs": [
    {
     "name": "stdout",
     "output_type": "stream",
     "text": [
      "BGEB: Depth trained: R2=0.997155648551\n",
      "BGEB: Duration trained: R2=0.992380949106\n",
      "BGEB: Slope trained: R2=0.989042134265\n"
     ]
    }
   ],
   "source": [
    "rootLogger.setLevel(logging.INFO)\n",
    "pop._train_trap(N=200);\n",
    "rootLogger.setLevel(logging.DEBUG)"
   ]
  },
  {
   "cell_type": "code",
   "execution_count": 5,
   "metadata": {
    "collapsed": false
   },
   "outputs": [],
   "source": [
    "obs = pop.observe(regr_trap=True)"
   ]
  },
  {
   "cell_type": "code",
   "execution_count": 6,
   "metadata": {
    "collapsed": true
   },
   "outputs": [],
   "source": [
    "pop.save('test', overwrite=True)"
   ]
  },
  {
   "cell_type": "code",
   "execution_count": 7,
   "metadata": {
    "collapsed": true
   },
   "outputs": [],
   "source": [
    "import cPickle as pickle\n",
    "pickle.dump(pop, open('test.pkl', 'wb'))"
   ]
  },
  {
   "cell_type": "code",
   "execution_count": 8,
   "metadata": {
    "collapsed": true
   },
   "outputs": [],
   "source": [
    "pop = pickle.load(open('test.pkl', 'rb'))"
   ]
  },
  {
   "cell_type": "code",
   "execution_count": 9,
   "metadata": {
    "collapsed": false
   },
   "outputs": [
    {
     "name": "stderr",
     "output_type": "stream",
     "text": [
      "DEBUG:root:Setting params {}.\n",
      "DEBUG:root:old params = None\n",
      "DEBUG:root:Generating binary companions for 863 stars...\n"
     ]
    },
    {
     "name": "stdout",
     "output_type": "stream",
     "text": [
      "1\n"
     ]
    },
    {
     "data": {
      "text/plain": [
       "1"
      ]
     },
     "execution_count": 9,
     "metadata": {},
     "output_type": "execute_result"
    }
   ],
   "source": [
    "print(pop.params['fB'])\n",
    "pop._generate_binaries()\n",
    "pop.params['fB']"
   ]
  },
  {
   "cell_type": "code",
   "execution_count": 10,
   "metadata": {
    "collapsed": false
   },
   "outputs": [
    {
     "data": {
      "text/plain": [
       "array([   0.15716966,    0.22931597,    0.14225803,  119.05026062,\n",
       "          0.44244812,    0.23416311,    0.31517727,    0.55514619,\n",
       "          0.49646648,    0.39489863])"
      ]
     },
     "execution_count": 10,
     "metadata": {},
     "output_type": "execute_result"
    }
   ],
   "source": [
    "pop.radius_B[:10]"
   ]
  },
  {
   "cell_type": "code",
   "execution_count": 11,
   "metadata": {
    "collapsed": false
   },
   "outputs": [
    {
     "data": {
      "text/plain": [
       "array([   0.14651767,    0.20932919,    0.22894365,  115.90336165,\n",
       "          0.49478899,    0.18239524,    0.28059119,    0.31287778,\n",
       "          0.67566143,    0.53647009])"
      ]
     },
     "execution_count": 11,
     "metadata": {},
     "output_type": "execute_result"
    }
   ],
   "source": [
    "rB[:10]"
   ]
  },
  {
   "cell_type": "code",
   "execution_count": 2,
   "metadata": {
    "collapsed": false,
    "scrolled": true
   },
   "outputs": [
    {
     "name": "stdout",
     "output_type": "stream",
     "text": [
      "BGEB: dmag regressor trained, R2=0.975228863924\n",
      "BGEB: qR regressor trained, R2=0.908807218686\n",
      "BGEB: Depth trained: R2=0.999520898496\n",
      "BGEB: Duration trained: R2=0.997345061377\n",
      "BGEB: Slope trained: R2=0.992131678434\n"
     ]
    },
    {
     "data": {
      "image/png": "[encoded data removed]",
      "text/plain": [
       "<matplotlib.figure.Figure at 0x7f94a45e7110>"
      ]
     },
     "metadata": {},
     "output_type": "display_data"
    },
    {
     "data": {
      "image/png": "[encoded data removed]",
      "text/plain": [
       "<matplotlib.figure.Figure at 0x7f94728b55d0>"
      ]
     },
     "metadata": {},
     "output_type": "display_data"
    }
   ],
   "source": [
    "%matplotlib inline\n",
    "rootLogger.setLevel(logging.INFO)\n",
    "pop._train_pipelines(n_jobs=8, plot=True)\n",
    "pop._train_trap(N=1000, plot=True);"
   ]
  },
  {
   "cell_type": "code",
   "execution_count": 4,
   "metadata": {
    "collapsed": true
   },
   "outputs": [],
   "source": [
    "from copy import deepcopy\n",
    "\n",
    "pop2 = deepcopy(pop)"
   ]
  },
  {
   "cell_type": "code",
   "execution_count": 5,
   "metadata": {
    "collapsed": true
   },
   "outputs": [],
   "source": [
    "pop._generate_binaries()\n",
    "pop2._generate_binaries(use_ic=True)"
   ]
  },
  {
   "cell_type": "code",
   "execution_count": 8,
   "metadata": {
    "collapsed": false
   },
   "outputs": [
    {
     "data": {
      "text/plain": [
       "[<matplotlib.lines.Line2D at 0x7f947150c150>]"
      ]
     },
     "execution_count": 8,
     "metadata": {},
     "output_type": "execute_result"
    },
    {
     "data": {
      "image/png": "[encoded data removed]",
      "text/plain": [
       "<matplotlib.figure.Figure at 0x7f94724df6d0>"
      ]
     },
     "metadata": {},
     "output_type": "display_data"
    },
    {
     "data": {
      "image/png": "[encoded data removed]",
      "text/plain": [
       "<matplotlib.figure.Figure at 0x7f94724df750>"
      ]
     },
     "metadata": {},
     "output_type": "display_data"
    }
   ],
   "source": [
    "import matplotlib.pyplot as plt\n",
    "import numpy as np\n",
    "\n",
    "ok = np.isfinite(pop.stars.radius_B)\n",
    "plt.plot(pop.stars.mass_B[ok], np.log10(pop.stars.radius_B[ok]), 'o', ms=1, mew=1)\n",
    "ok = np.isfinite(pop2.stars.radius_B)\n",
    "plt.figure()\n",
    "plt.plot(pop2.stars.mass_B[ok], np.log10(pop2.stars.radius_B[ok]), 'o', ms=1, mew=1)\n"
   ]
  },
  {
   "cell_type": "code",
   "execution_count": 7,
   "metadata": {
    "collapsed": false
   },
   "outputs": [
    {
     "data": {
      "text/html": [
       "<div>\n",
       "<table border=\"1\" class=\"dataframe\">\n",
       "  <thead>\n",
       "    <tr style=\"text-align: right;\">\n",
       "      <th></th>\n",
       "      <th>mass_A</th>\n",
       "      <th>radius_A</th>\n",
       "      <th>mass_B</th>\n",
       "      <th>radius_B</th>\n",
       "    </tr>\n",
       "  </thead>\n",
       "  <tbody>\n",
       "    <tr>\n",
       "      <th>1536</th>\n",
       "      <td>0.15215</td>\n",
       "      <td>0.195592</td>\n",
       "      <td>0.115682</td>\n",
       "      <td>-100</td>\n",
       "    </tr>\n",
       "    <tr>\n",
       "      <th>150565</th>\n",
       "      <td>0.11577</td>\n",
       "      <td>0.130621</td>\n",
       "      <td>0.099075</td>\n",
       "      <td>-100</td>\n",
       "    </tr>\n",
       "    <tr>\n",
       "      <th>2268</th>\n",
       "      <td>2.21863</td>\n",
       "      <td>4.200070</td>\n",
       "      <td>1.958928</td>\n",
       "      <td>-100</td>\n",
       "    </tr>\n",
       "    <tr>\n",
       "      <th>3434</th>\n",
       "      <td>4.15192</td>\n",
       "      <td>0.022123</td>\n",
       "      <td>3.452282</td>\n",
       "      <td>-100</td>\n",
       "    </tr>\n",
       "    <tr>\n",
       "      <th>113358</th>\n",
       "      <td>0.17211</td>\n",
       "      <td>0.181810</td>\n",
       "      <td>0.099116</td>\n",
       "      <td>-100</td>\n",
       "    </tr>\n",
       "    <tr>\n",
       "      <th>140075</th>\n",
       "      <td>0.12470</td>\n",
       "      <td>0.137609</td>\n",
       "      <td>0.099162</td>\n",
       "      <td>-100</td>\n",
       "    </tr>\n",
       "    <tr>\n",
       "      <th>62600</th>\n",
       "      <td>0.82567</td>\n",
       "      <td>0.780939</td>\n",
       "      <td>0.099180</td>\n",
       "      <td>-100</td>\n",
       "    </tr>\n",
       "    <tr>\n",
       "      <th>171448</th>\n",
       "      <td>0.11797</td>\n",
       "      <td>0.129300</td>\n",
       "      <td>0.099207</td>\n",
       "      <td>-100</td>\n",
       "    </tr>\n",
       "    <tr>\n",
       "      <th>169170</th>\n",
       "      <td>0.83517</td>\n",
       "      <td>0.020049</td>\n",
       "      <td>0.830359</td>\n",
       "      <td>-100</td>\n",
       "    </tr>\n",
       "    <tr>\n",
       "      <th>172439</th>\n",
       "      <td>0.83641</td>\n",
       "      <td>0.017556</td>\n",
       "      <td>0.332649</td>\n",
       "      <td>-100</td>\n",
       "    </tr>\n",
       "    <tr>\n",
       "      <th>3551</th>\n",
       "      <td>3.98248</td>\n",
       "      <td>0.022532</td>\n",
       "      <td>3.576042</td>\n",
       "      <td>-100</td>\n",
       "    </tr>\n",
       "    <tr>\n",
       "      <th>3955</th>\n",
       "      <td>0.14114</td>\n",
       "      <td>0.166740</td>\n",
       "      <td>0.140213</td>\n",
       "      <td>-100</td>\n",
       "    </tr>\n",
       "    <tr>\n",
       "      <th>2184</th>\n",
       "      <td>0.12455</td>\n",
       "      <td>0.157538</td>\n",
       "      <td>0.099513</td>\n",
       "      <td>-100</td>\n",
       "    </tr>\n",
       "    <tr>\n",
       "      <th>158566</th>\n",
       "      <td>0.11051</td>\n",
       "      <td>0.119926</td>\n",
       "      <td>0.099419</td>\n",
       "      <td>-100</td>\n",
       "    </tr>\n",
       "    <tr>\n",
       "      <th>1039</th>\n",
       "      <td>0.12009</td>\n",
       "      <td>0.175577</td>\n",
       "      <td>0.100736</td>\n",
       "      <td>-100</td>\n",
       "    </tr>\n",
       "    <tr>\n",
       "      <th>6967</th>\n",
       "      <td>0.11181</td>\n",
       "      <td>0.137548</td>\n",
       "      <td>0.099067</td>\n",
       "      <td>-100</td>\n",
       "    </tr>\n",
       "    <tr>\n",
       "      <th>6128</th>\n",
       "      <td>3.68339</td>\n",
       "      <td>0.023623</td>\n",
       "      <td>3.126509</td>\n",
       "      <td>-100</td>\n",
       "    </tr>\n",
       "    <tr>\n",
       "      <th>109522</th>\n",
       "      <td>0.23575</td>\n",
       "      <td>0.230909</td>\n",
       "      <td>0.099234</td>\n",
       "      <td>-100</td>\n",
       "    </tr>\n",
       "    <tr>\n",
       "      <th>3843</th>\n",
       "      <td>0.15814</td>\n",
       "      <td>0.181859</td>\n",
       "      <td>0.156931</td>\n",
       "      <td>-100</td>\n",
       "    </tr>\n",
       "    <tr>\n",
       "      <th>170614</th>\n",
       "      <td>0.26133</td>\n",
       "      <td>0.250789</td>\n",
       "      <td>0.099150</td>\n",
       "      <td>-100</td>\n",
       "    </tr>\n",
       "    <tr>\n",
       "      <th>147178</th>\n",
       "      <td>0.21801</td>\n",
       "      <td>0.217998</td>\n",
       "      <td>0.099020</td>\n",
       "      <td>-100</td>\n",
       "    </tr>\n",
       "    <tr>\n",
       "      <th>119448</th>\n",
       "      <td>0.13956</td>\n",
       "      <td>0.152614</td>\n",
       "      <td>0.099226</td>\n",
       "      <td>-100</td>\n",
       "    </tr>\n",
       "    <tr>\n",
       "      <th>147536</th>\n",
       "      <td>0.12959</td>\n",
       "      <td>0.143054</td>\n",
       "      <td>0.099227</td>\n",
       "      <td>-100</td>\n",
       "    </tr>\n",
       "    <tr>\n",
       "      <th>151455</th>\n",
       "      <td>0.14816</td>\n",
       "      <td>0.162772</td>\n",
       "      <td>0.099148</td>\n",
       "      <td>-100</td>\n",
       "    </tr>\n",
       "    <tr>\n",
       "      <th>84123</th>\n",
       "      <td>0.15898</td>\n",
       "      <td>0.176151</td>\n",
       "      <td>0.099127</td>\n",
       "      <td>-100</td>\n",
       "    </tr>\n",
       "    <tr>\n",
       "      <th>219</th>\n",
       "      <td>0.12598</td>\n",
       "      <td>0.259935</td>\n",
       "      <td>0.104221</td>\n",
       "      <td>-100</td>\n",
       "    </tr>\n",
       "    <tr>\n",
       "      <th>132619</th>\n",
       "      <td>0.13826</td>\n",
       "      <td>0.149473</td>\n",
       "      <td>0.099154</td>\n",
       "      <td>-100</td>\n",
       "    </tr>\n",
       "    <tr>\n",
       "      <th>126606</th>\n",
       "      <td>0.19261</td>\n",
       "      <td>0.198863</td>\n",
       "      <td>0.099047</td>\n",
       "      <td>-100</td>\n",
       "    </tr>\n",
       "    <tr>\n",
       "      <th>45699</th>\n",
       "      <td>4.11491</td>\n",
       "      <td>0.021973</td>\n",
       "      <td>3.885189</td>\n",
       "      <td>-100</td>\n",
       "    </tr>\n",
       "    <tr>\n",
       "      <th>608</th>\n",
       "      <td>0.12694</td>\n",
       "      <td>0.201147</td>\n",
       "      <td>0.100592</td>\n",
       "      <td>-100</td>\n",
       "    </tr>\n",
       "    <tr>\n",
       "      <th>129789</th>\n",
       "      <td>0.13220</td>\n",
       "      <td>0.146666</td>\n",
       "      <td>0.099148</td>\n",
       "      <td>-100</td>\n",
       "    </tr>\n",
       "    <tr>\n",
       "      <th>142616</th>\n",
       "      <td>0.12865</td>\n",
       "      <td>0.141553</td>\n",
       "      <td>0.099129</td>\n",
       "      <td>-100</td>\n",
       "    </tr>\n",
       "    <tr>\n",
       "      <th>599</th>\n",
       "      <td>2.04829</td>\n",
       "      <td>1.821419</td>\n",
       "      <td>0.356555</td>\n",
       "      <td>-100</td>\n",
       "    </tr>\n",
       "    <tr>\n",
       "      <th>1170</th>\n",
       "      <td>0.13981</td>\n",
       "      <td>0.197462</td>\n",
       "      <td>0.099813</td>\n",
       "      <td>-100</td>\n",
       "    </tr>\n",
       "    <tr>\n",
       "      <th>167332</th>\n",
       "      <td>0.17557</td>\n",
       "      <td>0.179862</td>\n",
       "      <td>0.099505</td>\n",
       "      <td>-100</td>\n",
       "    </tr>\n",
       "    <tr>\n",
       "      <th>2274</th>\n",
       "      <td>0.46156</td>\n",
       "      <td>0.402558</td>\n",
       "      <td>0.460876</td>\n",
       "      <td>-100</td>\n",
       "    </tr>\n",
       "    <tr>\n",
       "      <th>3576</th>\n",
       "      <td>0.16183</td>\n",
       "      <td>0.185885</td>\n",
       "      <td>0.159139</td>\n",
       "      <td>-100</td>\n",
       "    </tr>\n",
       "    <tr>\n",
       "      <th>4221</th>\n",
       "      <td>3.59878</td>\n",
       "      <td>0.024004</td>\n",
       "      <td>3.552550</td>\n",
       "      <td>-100</td>\n",
       "    </tr>\n",
       "    <tr>\n",
       "      <th>68711</th>\n",
       "      <td>4.09112</td>\n",
       "      <td>0.021910</td>\n",
       "      <td>3.902132</td>\n",
       "      <td>-100</td>\n",
       "    </tr>\n",
       "    <tr>\n",
       "      <th>494</th>\n",
       "      <td>0.17000</td>\n",
       "      <td>0.219249</td>\n",
       "      <td>0.100284</td>\n",
       "      <td>-100</td>\n",
       "    </tr>\n",
       "    <tr>\n",
       "      <th>136838</th>\n",
       "      <td>0.18372</td>\n",
       "      <td>0.191114</td>\n",
       "      <td>0.099028</td>\n",
       "      <td>-100</td>\n",
       "    </tr>\n",
       "    <tr>\n",
       "      <th>112112</th>\n",
       "      <td>0.19476</td>\n",
       "      <td>0.199510</td>\n",
       "      <td>0.099127</td>\n",
       "      <td>-100</td>\n",
       "    </tr>\n",
       "    <tr>\n",
       "      <th>172633</th>\n",
       "      <td>0.82399</td>\n",
       "      <td>1.856415</td>\n",
       "      <td>0.100625</td>\n",
       "      <td>-100</td>\n",
       "    </tr>\n",
       "    <tr>\n",
       "      <th>9984</th>\n",
       "      <td>3.94065</td>\n",
       "      <td>0.021727</td>\n",
       "      <td>3.634498</td>\n",
       "      <td>-100</td>\n",
       "    </tr>\n",
       "    <tr>\n",
       "      <th>88609</th>\n",
       "      <td>0.21807</td>\n",
       "      <td>0.227778</td>\n",
       "      <td>0.099051</td>\n",
       "      <td>-100</td>\n",
       "    </tr>\n",
       "    <tr>\n",
       "      <th>48706</th>\n",
       "      <td>0.30744</td>\n",
       "      <td>0.292479</td>\n",
       "      <td>0.251239</td>\n",
       "      <td>-100</td>\n",
       "    </tr>\n",
       "    <tr>\n",
       "      <th>83673</th>\n",
       "      <td>0.23823</td>\n",
       "      <td>0.237527</td>\n",
       "      <td>0.099028</td>\n",
       "      <td>-100</td>\n",
       "    </tr>\n",
       "    <tr>\n",
       "      <th>148288</th>\n",
       "      <td>0.14134</td>\n",
       "      <td>0.155005</td>\n",
       "      <td>0.099226</td>\n",
       "      <td>-100</td>\n",
       "    </tr>\n",
       "    <tr>\n",
       "      <th>36071</th>\n",
       "      <td>4.09106</td>\n",
       "      <td>0.021709</td>\n",
       "      <td>3.221704</td>\n",
       "      <td>-100</td>\n",
       "    </tr>\n",
       "    <tr>\n",
       "      <th>151230</th>\n",
       "      <td>0.21114</td>\n",
       "      <td>0.213059</td>\n",
       "      <td>0.099168</td>\n",
       "      <td>-100</td>\n",
       "    </tr>\n",
       "    <tr>\n",
       "      <th>117062</th>\n",
       "      <td>0.16740</td>\n",
       "      <td>0.178070</td>\n",
       "      <td>0.099077</td>\n",
       "      <td>-100</td>\n",
       "    </tr>\n",
       "    <tr>\n",
       "      <th>11353</th>\n",
       "      <td>1.93466</td>\n",
       "      <td>0.737932</td>\n",
       "      <td>1.683871</td>\n",
       "      <td>-100</td>\n",
       "    </tr>\n",
       "    <tr>\n",
       "      <th>122081</th>\n",
       "      <td>0.13934</td>\n",
       "      <td>0.152669</td>\n",
       "      <td>0.099013</td>\n",
       "      <td>-100</td>\n",
       "    </tr>\n",
       "    <tr>\n",
       "      <th>107711</th>\n",
       "      <td>0.11892</td>\n",
       "      <td>0.131021</td>\n",
       "      <td>0.099172</td>\n",
       "      <td>-100</td>\n",
       "    </tr>\n",
       "  </tbody>\n",
       "</table>\n",
       "</div>"
      ],
      "text/plain": [
       "         mass_A  radius_A    mass_B  radius_B\n",
       "1536    0.15215  0.195592  0.115682      -100\n",
       "150565  0.11577  0.130621  0.099075      -100\n",
       "2268    2.21863  4.200070  1.958928      -100\n",
       "3434    4.15192  0.022123  3.452282      -100\n",
       "113358  0.17211  0.181810  0.099116      -100\n",
       "140075  0.12470  0.137609  0.099162      -100\n",
       "62600   0.82567  0.780939  0.099180      -100\n",
       "171448  0.11797  0.129300  0.099207      -100\n",
       "169170  0.83517  0.020049  0.830359      -100\n",
       "172439  0.83641  0.017556  0.332649      -100\n",
       "3551    3.98248  0.022532  3.576042      -100\n",
       "3955    0.14114  0.166740  0.140213      -100\n",
       "2184    0.12455  0.157538  0.099513      -100\n",
       "158566  0.11051  0.119926  0.099419      -100\n",
       "1039    0.12009  0.175577  0.100736      -100\n",
       "6967    0.11181  0.137548  0.099067      -100\n",
       "6128    3.68339  0.023623  3.126509      -100\n",
       "109522  0.23575  0.230909  0.099234      -100\n",
       "3843    0.15814  0.181859  0.156931      -100\n",
       "170614  0.26133  0.250789  0.099150      -100\n",
       "147178  0.21801  0.217998  0.099020      -100\n",
       "119448  0.13956  0.152614  0.099226      -100\n",
       "147536  0.12959  0.143054  0.099227      -100\n",
       "151455  0.14816  0.162772  0.099148      -100\n",
       "84123   0.15898  0.176151  0.099127      -100\n",
       "219     0.12598  0.259935  0.104221      -100\n",
       "132619  0.13826  0.149473  0.099154      -100\n",
       "126606  0.19261  0.198863  0.099047      -100\n",
       "45699   4.11491  0.021973  3.885189      -100\n",
       "608     0.12694  0.201147  0.100592      -100\n",
       "129789  0.13220  0.146666  0.099148      -100\n",
       "142616  0.12865  0.141553  0.099129      -100\n",
       "599     2.04829  1.821419  0.356555      -100\n",
       "1170    0.13981  0.197462  0.099813      -100\n",
       "167332  0.17557  0.179862  0.099505      -100\n",
       "2274    0.46156  0.402558  0.460876      -100\n",
       "3576    0.16183  0.185885  0.159139      -100\n",
       "4221    3.59878  0.024004  3.552550      -100\n",
       "68711   4.09112  0.021910  3.902132      -100\n",
       "494     0.17000  0.219249  0.100284      -100\n",
       "136838  0.18372  0.191114  0.099028      -100\n",
       "112112  0.19476  0.199510  0.099127      -100\n",
       "172633  0.82399  1.856415  0.100625      -100\n",
       "9984    3.94065  0.021727  3.634498      -100\n",
       "88609   0.21807  0.227778  0.099051      -100\n",
       "48706   0.30744  0.292479  0.251239      -100\n",
       "83673   0.23823  0.237527  0.099028      -100\n",
       "148288  0.14134  0.155005  0.099226      -100\n",
       "36071   4.09106  0.021709  3.221704      -100\n",
       "151230  0.21114  0.213059  0.099168      -100\n",
       "117062  0.16740  0.178070  0.099077      -100\n",
       "11353   1.93466  0.737932  1.683871      -100\n",
       "122081  0.13934  0.152669  0.099013      -100\n",
       "107711  0.11892  0.131021  0.099172      -100"
      ]
     },
     "execution_count": 7,
     "metadata": {},
     "output_type": "execute_result"
    }
   ],
   "source": [
    "pop.stars.query('radius_B == -100')[['mass_A', 'radius_A', 'mass_B', 'radius_B']]"
   ]
  },
  {
   "cell_type": "code",
   "execution_count": 3,
   "metadata": {
    "collapsed": true
   },
   "outputs": [],
   "source": [
    "obs_pop = pop.get_N_observed(N=5000, new_orbits=True, query='T14_pri < 2 or T14_sec < 2')"
   ]
  },
  {
   "cell_type": "code",
   "execution_count": 4,
   "metadata": {
    "collapsed": false
   },
   "outputs": [
    {
     "name": "stderr",
     "output_type": "stream",
     "text": [
      "WARNING:root:Too few points to create valid contours\n"
     ]
    },
    {
     "data": {
      "image/png": "[encoded data removed]",
      "text/plain": [
       "<matplotlib.figure.Figure at 0x7f7cc0734d90>"
      ]
     },
     "metadata": {},
     "output_type": "display_data"
    }
   ],
   "source": [
    "obs_pop.trap_corner(range=[(0,0.8), (-5,0), (2,10)]);"
   ]
  },
  {
   "cell_type": "code",
   "execution_count": 5,
   "metadata": {
    "collapsed": false
   },
   "outputs": [],
   "source": [
    "pop.save('bgpop', overwrite=True)"
   ]
  },
  {
   "cell_type": "code",
   "execution_count": 6,
   "metadata": {
    "collapsed": false
   },
   "outputs": [],
   "source": [
    "pop = TRILEGAL_BGBinaryPopulation.load('bgpop')"
   ]
  },
  {
   "cell_type": "code",
   "execution_count": 7,
   "metadata": {
    "collapsed": true
   },
   "outputs": [],
   "source": [
    "obs = pop.observe(regr_trap=True)"
   ]
  },
  {
   "cell_type": "code",
   "execution_count": 9,
   "metadata": {
    "collapsed": false
   },
   "outputs": [
    {
     "name": "stdout",
     "output_type": "stream",
     "text": [
      "1 loops, best of 3: 805 ms per loop\n"
     ]
    }
   ],
   "source": [
    "rootLogger.setLevel(logging.INFO)\n",
    "%timeit pop.observe(new=True, use_ic=True, regr_trap=True)"
   ]
  },
  {
   "cell_type": "code",
   "execution_count": 10,
   "metadata": {
    "collapsed": false
   },
   "outputs": [
    {
     "data": {
      "image/png": "[encoded data removed]",
      "text/plain": [
       "<matplotlib.figure.Figure at 0x7f4d5e52a0d0>"
      ]
     },
     "metadata": {},
     "output_type": "display_data"
    }
   ],
   "source": [
    "%matplotlib inline\n",
    "\n",
    "import matplotlib.pyplot as plt\n",
    "obs = pop.observe(new=True)\n",
    "plt.hist(obs.b_target.values, bins=20);\n",
    "plt.xlabel('Galactic Latitude')\n",
    "plt.ylabel('N');"
   ]
  },
  {
   "cell_type": "code",
   "execution_count": null,
   "metadata": {
    "collapsed": true
   },
   "outputs": [],
   "source": []
  }
 ],
 "metadata": {
  "kernelspec": {
   "display_name": "Python 2",
   "language": "python",
   "name": "python2"
  },
  "language_info": {
   "codemirror_mode": {
    "name": "ipython",
    "version": 2
   },
   "file_extension": ".py",
   "mimetype": "text/x-python",
   "name": "python",
   "nbconvert_exporter": "python",
   "pygments_lexer": "ipython2",
   "version": "2.7.11"
  }
 },
 "nbformat": 4,
 "nbformat_minor": 0
}
