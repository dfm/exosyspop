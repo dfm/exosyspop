{
 "cells": [
  {
   "cell_type": "code",
   "execution_count": 1,
   "metadata": {
    "collapsed": false
   },
   "outputs": [
    {
     "name": "stderr",
     "output_type": "stream",
     "text": [
      "WARNING:root:progressbar not imported\n"
     ]
    }
   ],
   "source": [
    "import pandas as pd\n",
    "from exosyspop.populations import BinaryPopulation\n",
    "from exosyspop.populations import TRILEGAL_BGBinaryPopulation\n",
    "from exosyspop.populations import KeplerBinaryPopulation, PoissonPlanetPopulation\n",
    "\n",
    "targets = pd.read_hdf('targets.h5')\n",
    "bgstars = pd.read_hdf('bgstars.h5')\n",
    "\n",
    "# Sanitize dtypes of targets DataFrame\n",
    "for c in targets.columns:\n",
    "    if targets[c].dtype == object:\n",
    "        targets.loc[:,c] = targets.loc[:,c].astype(str)\n",
    "\n",
    "\n",
    "import logging\n",
    "rootLogger = logging.getLogger()"
   ]
  },
  {
   "cell_type": "code",
   "execution_count": 2,
   "metadata": {
    "collapsed": true
   },
   "outputs": [],
   "source": [
    "ebpop = KeplerBinaryPopulation(targets)\n",
    "bgpop = TRILEGAL_BGBinaryPopulation(targets, bgstars)\n",
    "plpop = PoissonPlanetPopulation(targets)"
   ]
  },
  {
   "cell_type": "code",
   "execution_count": 3,
   "metadata": {
    "collapsed": true
   },
   "outputs": [],
   "source": [
    "import os, os.path, shutil\n",
    "\n",
    "class PopulationMixture(object):\n",
    "    def __init__(self, poplist):\n",
    "        self.poplist = poplist\n",
    "        \n",
    "    @property\n",
    "    def param_names(self):\n",
    "        p = []\n",
    "        for pop in self.poplist:\n",
    "            p += pop.param_names\n",
    "        return list(set(p))\n",
    "    \n",
    "    def set_params(self, **kwargs):\n",
    "        for pop in self.poplist:\n",
    "            pop.set_params(**kwargs)\n",
    "                        \n",
    "    def train_trap(self, **kwargs):\n",
    "        return [p._train_trap(**kwargs) for p in self.poplist]\n",
    "                \n",
    "    def observe(self, **kwargs):\n",
    "        obs = []\n",
    "        for pop in self.poplist:\n",
    "            o = pop.observe(new=True, **kwargs)\n",
    "            o.loc[:, 'population'] = pop.name\n",
    "            obs.append(o)\n",
    "            \n",
    "        return pd.concat(obs)\n",
    "\n",
    "    def save(self, folder, overwrite=False):\n",
    "        if os.path.exists(folder):\n",
    "            if overwrite:\n",
    "                shutil.rmtree(folder)\n",
    "            else:\n",
    "                raise IOError('{} exists.  Set overwrite=True to overwrite.'.format(folder))\n",
    "        os.makedirs(folder)\n",
    "        for pop in self.poplist:\n",
    "            pop.save(os.path.join(folder,pop.name))\n",
    "        \n",
    "        \n",
    "    @classmethod\n",
    "    def load(cls, folder):\n",
    "        names = os.listdir(folder)\n",
    "        poplist = []\n",
    "        for name in names:\n",
    "            f = os.path.join(folder,name)\n",
    "            poplist.append(BinaryPopulation.load(f))\n",
    "        return cls(poplist)\n",
    "    \n",
    "pops = PopulationMixture([ebpop, bgpop, plpop])"
   ]
  },
  {
   "cell_type": "code",
   "execution_count": 4,
   "metadata": {
    "collapsed": false
   },
   "outputs": [
    {
     "name": "stdout",
     "output_type": "stream",
     "text": [
      "EB: dmag regressor trained, R2=0.999558155833\n",
      "EB: qR regressor trained, R2=0.999546313676\n",
      "EB: Depth trained: R2=0.998614562544\n",
      "EB: Duration trained: R2=0.998929784826\n",
      "EB: Slope trained: R2=0.990006662911\n",
      "BGEB: dmag regressor trained, R2=0.964499765506\n",
      "BGEB: qR regressor trained, R2=0.924320342896\n",
      "BGEB: Depth trained: R2=0.994435573481\n",
      "BGEB: Duration trained: R2=0.998927366196\n",
      "BGEB: Slope trained: R2=0.986467437686\n",
      "Planet: Depth trained: R2=0.999057963191\n",
      "Planet: Duration trained: R2=0.972555972581\n",
      "Planet: Slope trained: R2=0.983781609138\n"
     ]
    }
   ],
   "source": [
    "plines = pops.train_trap(N=3000)"
   ]
  },
  {
   "cell_type": "code",
   "execution_count": 5,
   "metadata": {
    "collapsed": false
   },
   "outputs": [],
   "source": [
    "pops.save('mixture', overwrite=True)"
   ]
  },
  {
   "cell_type": "code",
   "execution_count": 6,
   "metadata": {
    "collapsed": true
   },
   "outputs": [],
   "source": [
    "pops2 = PopulationMixture.load('mixture')"
   ]
  },
  {
   "cell_type": "code",
   "execution_count": 7,
   "metadata": {
    "collapsed": false
   },
   "outputs": [
    {
     "data": {
      "text/plain": [
       "[<exosyspop.populations.KeplerBinaryPopulation at 0x7f98166fcf50>,\n",
       " <exosyspop.populations.TRILEGAL_BGBinaryPopulation at 0x7f9814776950>,\n",
       " <exosyspop.populations.PoissonPlanetPopulation at 0x7f9804bb90d0>]"
      ]
     },
     "execution_count": 7,
     "metadata": {},
     "output_type": "execute_result"
    }
   ],
   "source": [
    "pops2.poplist"
   ]
  },
  {
   "cell_type": "code",
   "execution_count": 8,
   "metadata": {
    "collapsed": false
   },
   "outputs": [
    {
     "data": {
      "text/plain": [
       "4683"
      ]
     },
     "execution_count": 8,
     "metadata": {},
     "output_type": "execute_result"
    }
   ],
   "source": [
    "obs = pops2.observe()\n",
    "len(obs)"
   ]
  },
  {
   "cell_type": "code",
   "execution_count": 9,
   "metadata": {
    "collapsed": false
   },
   "outputs": [
    {
     "name": "stdout",
     "output_type": "stream",
     "text": [
      " "
     ]
    }
   ],
   "source": [
    "%prun pops.observe(regr_trap=True)"
   ]
  },
  {
   "cell_type": "code",
   "execution_count": 10,
   "metadata": {
    "collapsed": false
   },
   "outputs": [
    {
     "data": {
      "text/html": [
       "<div>\n",
       "<table border=\"1\" class=\"dataframe\">\n",
       "  <thead>\n",
       "    <tr style=\"text-align: right;\">\n",
       "      <th></th>\n",
       "      <th>T14_pri</th>\n",
       "      <th>T14_sec</th>\n",
       "      <th>T23_pri</th>\n",
       "      <th>T23_sec</th>\n",
       "      <th>a</th>\n",
       "      <th>aR</th>\n",
       "      <th>b_pri</th>\n",
       "      <th>b_sec</th>\n",
       "      <th>b_target</th>\n",
       "      <th>d_pri</th>\n",
       "      <th>...</th>\n",
       "      <th>inc</th>\n",
       "      <th>k</th>\n",
       "      <th>n_pri</th>\n",
       "      <th>n_sec</th>\n",
       "      <th>occ</th>\n",
       "      <th>period</th>\n",
       "      <th>phase_sec</th>\n",
       "      <th>target_mag</th>\n",
       "      <th>tra</th>\n",
       "      <th>w</th>\n",
       "    </tr>\n",
       "    <tr>\n",
       "      <th>population</th>\n",
       "      <th></th>\n",
       "      <th></th>\n",
       "      <th></th>\n",
       "      <th></th>\n",
       "      <th></th>\n",
       "      <th></th>\n",
       "      <th></th>\n",
       "      <th></th>\n",
       "      <th></th>\n",
       "      <th></th>\n",
       "      <th></th>\n",
       "      <th></th>\n",
       "      <th></th>\n",
       "      <th></th>\n",
       "      <th></th>\n",
       "      <th></th>\n",
       "      <th></th>\n",
       "      <th></th>\n",
       "      <th></th>\n",
       "      <th></th>\n",
       "      <th></th>\n",
       "    </tr>\n",
       "  </thead>\n",
       "  <tbody>\n",
       "    <tr>\n",
       "      <th>BGEB</th>\n",
       "      <td>475</td>\n",
       "      <td>475</td>\n",
       "      <td>475</td>\n",
       "      <td>475</td>\n",
       "      <td>475</td>\n",
       "      <td>475</td>\n",
       "      <td>475</td>\n",
       "      <td>475</td>\n",
       "      <td>475</td>\n",
       "      <td>475</td>\n",
       "      <td>...</td>\n",
       "      <td>475</td>\n",
       "      <td>475</td>\n",
       "      <td>475</td>\n",
       "      <td>475</td>\n",
       "      <td>475</td>\n",
       "      <td>475</td>\n",
       "      <td>475</td>\n",
       "      <td>475</td>\n",
       "      <td>475</td>\n",
       "      <td>475</td>\n",
       "    </tr>\n",
       "    <tr>\n",
       "      <th>EB</th>\n",
       "      <td>523</td>\n",
       "      <td>523</td>\n",
       "      <td>523</td>\n",
       "      <td>523</td>\n",
       "      <td>523</td>\n",
       "      <td>523</td>\n",
       "      <td>523</td>\n",
       "      <td>523</td>\n",
       "      <td>523</td>\n",
       "      <td>523</td>\n",
       "      <td>...</td>\n",
       "      <td>523</td>\n",
       "      <td>523</td>\n",
       "      <td>523</td>\n",
       "      <td>523</td>\n",
       "      <td>523</td>\n",
       "      <td>523</td>\n",
       "      <td>523</td>\n",
       "      <td>0</td>\n",
       "      <td>523</td>\n",
       "      <td>523</td>\n",
       "    </tr>\n",
       "    <tr>\n",
       "      <th>Planet</th>\n",
       "      <td>3685</td>\n",
       "      <td>3685</td>\n",
       "      <td>3685</td>\n",
       "      <td>3685</td>\n",
       "      <td>3685</td>\n",
       "      <td>3685</td>\n",
       "      <td>3685</td>\n",
       "      <td>3685</td>\n",
       "      <td>3685</td>\n",
       "      <td>3685</td>\n",
       "      <td>...</td>\n",
       "      <td>3685</td>\n",
       "      <td>3685</td>\n",
       "      <td>3685</td>\n",
       "      <td>3685</td>\n",
       "      <td>3685</td>\n",
       "      <td>3685</td>\n",
       "      <td>3685</td>\n",
       "      <td>0</td>\n",
       "      <td>3685</td>\n",
       "      <td>3685</td>\n",
       "    </tr>\n",
       "  </tbody>\n",
       "</table>\n",
       "<p>3 rows × 26 columns</p>\n",
       "</div>"
      ],
      "text/plain": [
       "            T14_pri  T14_sec  T23_pri  T23_sec     a    aR  b_pri  b_sec  \\\n",
       "population                                                                 \n",
       "BGEB            475      475      475      475   475   475    475    475   \n",
       "EB              523      523      523      523   523   523    523    523   \n",
       "Planet         3685     3685     3685     3685  3685  3685   3685   3685   \n",
       "\n",
       "            b_target  d_pri  ...    inc     k  n_pri  n_sec   occ  period  \\\n",
       "population                   ...                                            \n",
       "BGEB             475    475  ...    475   475    475    475   475     475   \n",
       "EB               523    523  ...    523   523    523    523   523     523   \n",
       "Planet          3685   3685  ...   3685  3685   3685   3685  3685    3685   \n",
       "\n",
       "            phase_sec  target_mag   tra     w  \n",
       "population                                     \n",
       "BGEB              475         475   475   475  \n",
       "EB                523           0   523   523  \n",
       "Planet           3685           0  3685  3685  \n",
       "\n",
       "[3 rows x 26 columns]"
      ]
     },
     "execution_count": 10,
     "metadata": {},
     "output_type": "execute_result"
    }
   ],
   "source": [
    "obs.groupby('population').count()"
   ]
  }
 ],
 "metadata": {
  "kernelspec": {
   "display_name": "Python 2",
   "language": "python",
   "name": "python2"
  },
  "language_info": {
   "codemirror_mode": {
    "name": "ipython",
    "version": 2
   },
   "file_extension": ".py",
   "mimetype": "text/x-python",
   "name": "python",
   "nbconvert_exporter": "python",
   "pygments_lexer": "ipython2",
   "version": "2.7.11"
  }
 },
 "nbformat": 4,
 "nbformat_minor": 0
}
