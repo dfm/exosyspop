{
 "cells": [
  {
   "cell_type": "code",
   "execution_count": 1,
   "metadata": {
    "collapsed": false
   },
   "outputs": [
    {
     "name": "stderr",
     "output_type": "stream",
     "text": [
      "WARNING:root:progressbar not imported\n"
     ]
    }
   ],
   "source": [
    "import pandas as pd\n",
    "from exosyspop.populations import TRILEGAL_BGBinaryPopulation\n",
    "from exosyspop.populations import KeplerBinaryPopulation, PoissonPlanetPopulation\n",
    "\n",
    "targets = pd.read_hdf('targets.h5')\n",
    "bgstars = pd.read_hdf('bgstars.h5')\n",
    "\n",
    "import logging\n",
    "rootLogger = logging.getLogger()"
   ]
  },
  {
   "cell_type": "code",
   "execution_count": 2,
   "metadata": {
    "collapsed": true
   },
   "outputs": [],
   "source": [
    "ebpop = KeplerBinaryPopulation(targets)\n",
    "bgpop = TRILEGAL_BGBinaryPopulation(targets, bgstars)\n",
    "plpop = PoissonPlanetPopulation(targets)"
   ]
  },
  {
   "cell_type": "code",
   "execution_count": 3,
   "metadata": {
    "collapsed": true
   },
   "outputs": [],
   "source": [
    "class PopulationMixture(object):\n",
    "    def __init__(self, poplist):\n",
    "        self.poplist = poplist\n",
    "        \n",
    "    @property\n",
    "    def param_names(self):\n",
    "        p = []\n",
    "        for pop in self.poplist:\n",
    "            p += pop.param_names\n",
    "        return list(set(p))\n",
    "    \n",
    "    def set_params(self, **kwargs):\n",
    "        for pop in self.poplist:\n",
    "            pop.set_params(**kwargs)\n",
    "                        \n",
    "    def train_trap(self, **kwargs):\n",
    "        return [p._train_trap(**kwargs) for p in self.poplist]\n",
    "                \n",
    "    def observe(self, **kwargs):\n",
    "        obs = []\n",
    "        for pop in self.poplist:\n",
    "            o = pop.observe(new=True, **kwargs)\n",
    "            o.loc[:, 'population'] = pop.name\n",
    "            obs.append(o)\n",
    "            \n",
    "        return pd.concat(obs)\n",
    "\n",
    "pops = PopulationMixture([ebpop, bgpop, plpop])"
   ]
  },
  {
   "cell_type": "code",
   "execution_count": 4,
   "metadata": {
    "collapsed": false
   },
   "outputs": [
    {
     "name": "stdout",
     "output_type": "stream",
     "text": [
      "EB: dmag regressor trained, R2=0.999571750853\n",
      "EB: qR regressor trained, R2=0.999498173627\n",
      "EB: Depth trained: R2=0.998275903724\n",
      "EB: Duration trained: R2=0.997144917635\n",
      "EB: Slope trained: R2=0.989480978571\n",
      "BGEB: dmag regressor trained, R2=0.971850559937\n",
      "BGEB: qR regressor trained, R2=0.971543462003\n",
      "BGEB: Depth trained: R2=0.99233604839\n",
      "BGEB: Duration trained: R2=0.996768785104\n",
      "BGEB: Slope trained: R2=0.990805214752\n",
      "Planet: Depth trained: R2=0.998505958327\n",
      "Planet: Duration trained: R2=0.99823480688\n",
      "Planet: Slope trained: R2=0.993634913352\n"
     ]
    }
   ],
   "source": [
    "plines = pops.train_trap(N=3000)"
   ]
  },
  {
   "cell_type": "code",
   "execution_count": 10,
   "metadata": {
    "collapsed": true
   },
   "outputs": [],
   "source": [
    "from sklearn.externals import joblib"
   ]
  },
  {
   "cell_type": "code",
   "execution_count": 12,
   "metadata": {
    "collapsed": false
   },
   "outputs": [],
   "source": [
    "for name,pline in zip(['log','dur','slope'], plines[0]):\n",
    "    joblib.dump(pline, 'test_{}_pipeline.pkl'.format(name))"
   ]
  },
  {
   "cell_type": "code",
   "execution_count": 17,
   "metadata": {
    "collapsed": false
   },
   "outputs": [
    {
     "name": "stdout",
     "output_type": "stream",
     "text": [
      "8.0K\ttest_dur_pipeline.pkl\r\n",
      "8.0K\ttest_log_pipeline.pkl\r\n",
      "0\ttestpop.pkl\r\n",
      "8.0K\ttest_slope_pipeline.pkl\r\n"
     ]
    }
   ],
   "source": []
  },
  {
   "cell_type": "code",
   "execution_count": 9,
   "metadata": {
    "collapsed": false
   },
   "outputs": [
    {
     "data": {
      "text/plain": [
       "(Pipeline(steps=[('scale', StandardScaler(copy=True, with_mean=True, with_std=True)), ('regression', RandomForestRegressor(bootstrap=True, criterion='mse', max_depth=None,\n",
       "            max_features='auto', max_leaf_nodes=None, min_samples_leaf=1,\n",
       "            min_samples_split=2, min_weight_fraction_leaf=0.0,\n",
       "            n_estimators=10, n_jobs=1, oob_score=False, random_state=None,\n",
       "            verbose=0, warm_start=False))]),\n",
       " Pipeline(steps=[('scale', StandardScaler(copy=True, with_mean=True, with_std=True)), ('regression', RandomForestRegressor(bootstrap=True, criterion='mse', max_depth=None,\n",
       "            max_features='auto', max_leaf_nodes=None, min_samples_leaf=1,\n",
       "            min_samples_split=2, min_weight_fraction_leaf=0.0,\n",
       "            n_estimators=10, n_jobs=1, oob_score=False, random_state=None,\n",
       "            verbose=0, warm_start=False))]),\n",
       " Pipeline(steps=[('scale', StandardScaler(copy=True, with_mean=True, with_std=True)), ('regression', RandomForestRegressor(bootstrap=True, criterion='mse', max_depth=None,\n",
       "            max_features='auto', max_leaf_nodes=None, min_samples_leaf=1,\n",
       "            min_samples_split=2, min_weight_fraction_leaf=0.0,\n",
       "            n_estimators=10, n_jobs=1, oob_score=False, random_state=None,\n",
       "            verbose=0, warm_start=False))]))"
      ]
     },
     "execution_count": 9,
     "metadata": {},
     "output_type": "execute_result"
    }
   ],
   "source": [
    "plines[0]"
   ]
  },
  {
   "cell_type": "code",
   "execution_count": 5,
   "metadata": {
    "collapsed": false
   },
   "outputs": [
    {
     "data": {
      "text/plain": [
       "4536"
      ]
     },
     "execution_count": 5,
     "metadata": {},
     "output_type": "execute_result"
    }
   ],
   "source": [
    "obs = pops.observe()\n",
    "len(obs)"
   ]
  },
  {
   "cell_type": "code",
   "execution_count": 6,
   "metadata": {
    "collapsed": false
   },
   "outputs": [
    {
     "name": "stdout",
     "output_type": "stream",
     "text": [
      " "
     ]
    }
   ],
   "source": [
    "%prun pops.observe(regr_trap=True)"
   ]
  },
  {
   "cell_type": "code",
   "execution_count": 18,
   "metadata": {
    "collapsed": false
   },
   "outputs": [
    {
     "data": {
      "text/html": [
       "<div>\n",
       "<table border=\"1\" class=\"dataframe\">\n",
       "  <thead>\n",
       "    <tr style=\"text-align: right;\">\n",
       "      <th></th>\n",
       "      <th>T14_pri</th>\n",
       "      <th>T14_sec</th>\n",
       "      <th>T23_pri</th>\n",
       "      <th>T23_sec</th>\n",
       "      <th>a</th>\n",
       "      <th>aR</th>\n",
       "      <th>b_pri</th>\n",
       "      <th>b_sec</th>\n",
       "      <th>b_target</th>\n",
       "      <th>d_pri</th>\n",
       "      <th>...</th>\n",
       "      <th>inc</th>\n",
       "      <th>k</th>\n",
       "      <th>n_pri</th>\n",
       "      <th>n_sec</th>\n",
       "      <th>occ</th>\n",
       "      <th>period</th>\n",
       "      <th>phase_sec</th>\n",
       "      <th>target_mag</th>\n",
       "      <th>tra</th>\n",
       "      <th>w</th>\n",
       "    </tr>\n",
       "    <tr>\n",
       "      <th>population</th>\n",
       "      <th></th>\n",
       "      <th></th>\n",
       "      <th></th>\n",
       "      <th></th>\n",
       "      <th></th>\n",
       "      <th></th>\n",
       "      <th></th>\n",
       "      <th></th>\n",
       "      <th></th>\n",
       "      <th></th>\n",
       "      <th></th>\n",
       "      <th></th>\n",
       "      <th></th>\n",
       "      <th></th>\n",
       "      <th></th>\n",
       "      <th></th>\n",
       "      <th></th>\n",
       "      <th></th>\n",
       "      <th></th>\n",
       "      <th></th>\n",
       "      <th></th>\n",
       "    </tr>\n",
       "  </thead>\n",
       "  <tbody>\n",
       "    <tr>\n",
       "      <th>BGEB</th>\n",
       "      <td>382</td>\n",
       "      <td>382</td>\n",
       "      <td>382</td>\n",
       "      <td>382</td>\n",
       "      <td>382</td>\n",
       "      <td>382</td>\n",
       "      <td>382</td>\n",
       "      <td>382</td>\n",
       "      <td>382</td>\n",
       "      <td>382</td>\n",
       "      <td>...</td>\n",
       "      <td>382</td>\n",
       "      <td>382</td>\n",
       "      <td>382</td>\n",
       "      <td>382</td>\n",
       "      <td>382</td>\n",
       "      <td>382</td>\n",
       "      <td>382</td>\n",
       "      <td>382</td>\n",
       "      <td>382</td>\n",
       "      <td>382</td>\n",
       "    </tr>\n",
       "    <tr>\n",
       "      <th>EB</th>\n",
       "      <td>543</td>\n",
       "      <td>543</td>\n",
       "      <td>543</td>\n",
       "      <td>543</td>\n",
       "      <td>543</td>\n",
       "      <td>543</td>\n",
       "      <td>543</td>\n",
       "      <td>543</td>\n",
       "      <td>543</td>\n",
       "      <td>543</td>\n",
       "      <td>...</td>\n",
       "      <td>543</td>\n",
       "      <td>543</td>\n",
       "      <td>543</td>\n",
       "      <td>543</td>\n",
       "      <td>543</td>\n",
       "      <td>543</td>\n",
       "      <td>543</td>\n",
       "      <td>0</td>\n",
       "      <td>543</td>\n",
       "      <td>543</td>\n",
       "    </tr>\n",
       "    <tr>\n",
       "      <th>Planet</th>\n",
       "      <td>3611</td>\n",
       "      <td>3611</td>\n",
       "      <td>3611</td>\n",
       "      <td>3611</td>\n",
       "      <td>3611</td>\n",
       "      <td>3611</td>\n",
       "      <td>3611</td>\n",
       "      <td>3611</td>\n",
       "      <td>3611</td>\n",
       "      <td>3611</td>\n",
       "      <td>...</td>\n",
       "      <td>3611</td>\n",
       "      <td>3611</td>\n",
       "      <td>3611</td>\n",
       "      <td>3611</td>\n",
       "      <td>3611</td>\n",
       "      <td>3611</td>\n",
       "      <td>3611</td>\n",
       "      <td>0</td>\n",
       "      <td>3611</td>\n",
       "      <td>3611</td>\n",
       "    </tr>\n",
       "  </tbody>\n",
       "</table>\n",
       "<p>3 rows × 26 columns</p>\n",
       "</div>"
      ],
      "text/plain": [
       "            T14_pri  T14_sec  T23_pri  T23_sec     a    aR  b_pri  b_sec  \\\n",
       "population                                                                 \n",
       "BGEB            382      382      382      382   382   382    382    382   \n",
       "EB              543      543      543      543   543   543    543    543   \n",
       "Planet         3611     3611     3611     3611  3611  3611   3611   3611   \n",
       "\n",
       "            b_target  d_pri  ...    inc     k  n_pri  n_sec   occ  period  \\\n",
       "population                   ...                                            \n",
       "BGEB             382    382  ...    382   382    382    382   382     382   \n",
       "EB               543    543  ...    543   543    543    543   543     543   \n",
       "Planet          3611   3611  ...   3611  3611   3611   3611  3611    3611   \n",
       "\n",
       "            phase_sec  target_mag   tra     w  \n",
       "population                                     \n",
       "BGEB              382         382   382   382  \n",
       "EB                543           0   543   543  \n",
       "Planet           3611           0  3611  3611  \n",
       "\n",
       "[3 rows x 26 columns]"
      ]
     },
     "execution_count": 18,
     "metadata": {},
     "output_type": "execute_result"
    }
   ],
   "source": [
    "obs.groupby('population').count()"
   ]
  },
  {
   "cell_type": "code",
   "execution_count": 21,
   "metadata": {
    "collapsed": false
   },
   "outputs": [
    {
     "data": {
      "text/plain": [
       "tuple"
      ]
     },
     "execution_count": 21,
     "metadata": {},
     "output_type": "execute_result"
    }
   ],
   "source": [
    "type(())"
   ]
  },
  {
   "cell_type": "code",
   "execution_count": 19,
   "metadata": {
    "collapsed": false
   },
   "outputs": [
    {
     "data": {
      "text/plain": [
       "T14_pri       4536\n",
       "T14_sec       4536\n",
       "T23_pri       4536\n",
       "T23_sec       4536\n",
       "a             4536\n",
       "aR            4536\n",
       "b_pri         4536\n",
       "b_sec         4536\n",
       "b_target      4536\n",
       "d_pri         4536\n",
       "d_sec         4536\n",
       "dataspan      4536\n",
       "dutycycle     4536\n",
       "ecc           4536\n",
       "flux_ratio    4536\n",
       "host          4536\n",
       "inc           4536\n",
       "k             4536\n",
       "n_pri         4536\n",
       "n_sec         4536\n",
       "occ           4536\n",
       "period        4536\n",
       "phase_sec     4536\n",
       "population    4536\n",
       "target_mag     382\n",
       "tra           4536\n",
       "w             4536\n",
       "dtype: int64"
      ]
     },
     "execution_count": 19,
     "metadata": {},
     "output_type": "execute_result"
    }
   ],
   "source": [
    "obs.count()"
   ]
  },
  {
   "cell_type": "code",
   "execution_count": null,
   "metadata": {
    "collapsed": true
   },
   "outputs": [],
   "source": []
  }
 ],
 "metadata": {
  "kernelspec": {
   "display_name": "Python 2",
   "language": "python",
   "name": "python2"
  },
  "language_info": {
   "codemirror_mode": {
    "name": "ipython",
    "version": 2
   },
   "file_extension": ".py",
   "mimetype": "text/x-python",
   "name": "python",
   "nbconvert_exporter": "python",
   "pygments_lexer": "ipython2",
   "version": "2.7.11"
  }
 },
 "nbformat": 4,
 "nbformat_minor": 0
}
