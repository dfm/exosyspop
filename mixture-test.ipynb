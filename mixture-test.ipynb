{
 "cells": [
  {
   "cell_type": "code",
   "execution_count": 1,
   "metadata": {
    "collapsed": false
   },
   "outputs": [
    {
     "name": "stderr",
     "output_type": "stream",
     "text": [
      "WARNING:root:progressbar not imported\n"
     ]
    }
   ],
   "source": [
    "import pandas as pd\n",
    "from exosyspop.populations import BinaryPopulation\n",
    "from exosyspop.populations import TRILEGAL_BGBinaryPopulation\n",
    "from exosyspop.populations import KeplerBinaryPopulation, PoissonPlanetPopulation\n",
    "from exosyspop.populations import PopulationMixture\n",
    "\n",
    "targets = pd.read_hdf('targets.h5')\n",
    "bgstars = pd.read_hdf('bgstars.h5')\n",
    "\n",
    "# Sanitize dtypes of targets DataFrame\n",
    "for c in targets.columns:\n",
    "    if targets[c].dtype == object:\n",
    "        targets.loc[:,c] = targets.loc[:,c].astype(str)\n",
    "\n",
    "\n",
    "import logging\n",
    "rootLogger = logging.getLogger()"
   ]
  },
  {
   "cell_type": "code",
   "execution_count": null,
   "metadata": {
    "collapsed": true
   },
   "outputs": [],
   "source": [
    "ebpop = KeplerBinaryPopulation(targets)\n",
    "bgpop = TRILEGAL_BGBinaryPopulation(targets, bgstars)\n",
    "plpop = PoissonPlanetPopulation(targets)\n",
    "pops = PopulationMixture([ebpop,bgpop,plpop])\n",
    "pops.train_trap(N=3000)\n",
    "pops.save('mixture',overwrite=True)"
   ]
  },
  {
   "cell_type": "code",
   "execution_count": 4,
   "metadata": {
    "collapsed": false
   },
   "outputs": [],
   "source": [
    "pops = PopulationMixture.load('mixture')"
   ]
  },
  {
   "cell_type": "code",
   "execution_count": 5,
   "metadata": {
    "collapsed": false
   },
   "outputs": [
    {
     "data": {
      "text/plain": [
       "{'N_pl': 4.0,\n",
       " 'Rp_max': 20,\n",
       " 'Rp_min': 0.75,\n",
       " 'alpha': -1.6,\n",
       " 'beta': -0.75,\n",
       " 'beta_a': 0.8,\n",
       " 'beta_b': 2.0,\n",
       " 'fB': 0.4,\n",
       " 'gamma': 0.3,\n",
       " 'mu_logp': 2.3979400086720375,\n",
       " 'period_max': 10000.0,\n",
       " 'period_min': 1,\n",
       " 'qmin': 0.1,\n",
       " 'rho_20': 0.005,\n",
       " 'rho_5': 0.05,\n",
       " 'sig_logp': 2.3}"
      ]
     },
     "execution_count": 5,
     "metadata": {},
     "output_type": "execute_result"
    }
   ],
   "source": [
    "pops.params"
   ]
  },
  {
   "cell_type": "code",
   "execution_count": 6,
   "metadata": {
    "collapsed": false
   },
   "outputs": [
    {
     "name": "stdout",
     "output_type": "stream",
     "text": [
      "4664\n"
     ]
    },
    {
     "data": {
      "text/html": [
       "<div>\n",
       "<table border=\"1\" class=\"dataframe\">\n",
       "  <thead>\n",
       "    <tr style=\"text-align: right;\">\n",
       "      <th></th>\n",
       "      <th>T14_pri</th>\n",
       "      <th>T14_sec</th>\n",
       "      <th>T23_pri</th>\n",
       "      <th>T23_sec</th>\n",
       "      <th>a</th>\n",
       "      <th>aR</th>\n",
       "      <th>b_pri</th>\n",
       "      <th>b_sec</th>\n",
       "      <th>b_target</th>\n",
       "      <th>d_pri</th>\n",
       "      <th>...</th>\n",
       "      <th>inc</th>\n",
       "      <th>k</th>\n",
       "      <th>n_pri</th>\n",
       "      <th>n_sec</th>\n",
       "      <th>occ</th>\n",
       "      <th>period</th>\n",
       "      <th>phase_sec</th>\n",
       "      <th>target_mag</th>\n",
       "      <th>tra</th>\n",
       "      <th>w</th>\n",
       "    </tr>\n",
       "    <tr>\n",
       "      <th>population</th>\n",
       "      <th></th>\n",
       "      <th></th>\n",
       "      <th></th>\n",
       "      <th></th>\n",
       "      <th></th>\n",
       "      <th></th>\n",
       "      <th></th>\n",
       "      <th></th>\n",
       "      <th></th>\n",
       "      <th></th>\n",
       "      <th></th>\n",
       "      <th></th>\n",
       "      <th></th>\n",
       "      <th></th>\n",
       "      <th></th>\n",
       "      <th></th>\n",
       "      <th></th>\n",
       "      <th></th>\n",
       "      <th></th>\n",
       "      <th></th>\n",
       "      <th></th>\n",
       "    </tr>\n",
       "  </thead>\n",
       "  <tbody>\n",
       "    <tr>\n",
       "      <th>BGEB</th>\n",
       "      <td>396</td>\n",
       "      <td>396</td>\n",
       "      <td>396</td>\n",
       "      <td>396</td>\n",
       "      <td>396</td>\n",
       "      <td>396</td>\n",
       "      <td>396</td>\n",
       "      <td>396</td>\n",
       "      <td>396</td>\n",
       "      <td>396</td>\n",
       "      <td>...</td>\n",
       "      <td>396</td>\n",
       "      <td>396</td>\n",
       "      <td>396</td>\n",
       "      <td>396</td>\n",
       "      <td>396</td>\n",
       "      <td>396</td>\n",
       "      <td>396</td>\n",
       "      <td>396</td>\n",
       "      <td>396</td>\n",
       "      <td>396</td>\n",
       "    </tr>\n",
       "    <tr>\n",
       "      <th>EB</th>\n",
       "      <td>528</td>\n",
       "      <td>528</td>\n",
       "      <td>528</td>\n",
       "      <td>528</td>\n",
       "      <td>528</td>\n",
       "      <td>528</td>\n",
       "      <td>528</td>\n",
       "      <td>528</td>\n",
       "      <td>528</td>\n",
       "      <td>528</td>\n",
       "      <td>...</td>\n",
       "      <td>528</td>\n",
       "      <td>528</td>\n",
       "      <td>528</td>\n",
       "      <td>528</td>\n",
       "      <td>528</td>\n",
       "      <td>528</td>\n",
       "      <td>528</td>\n",
       "      <td>0</td>\n",
       "      <td>528</td>\n",
       "      <td>528</td>\n",
       "    </tr>\n",
       "    <tr>\n",
       "      <th>Planet</th>\n",
       "      <td>3740</td>\n",
       "      <td>3740</td>\n",
       "      <td>3740</td>\n",
       "      <td>3740</td>\n",
       "      <td>3740</td>\n",
       "      <td>3740</td>\n",
       "      <td>3740</td>\n",
       "      <td>3740</td>\n",
       "      <td>3740</td>\n",
       "      <td>3740</td>\n",
       "      <td>...</td>\n",
       "      <td>3740</td>\n",
       "      <td>3740</td>\n",
       "      <td>3740</td>\n",
       "      <td>3740</td>\n",
       "      <td>3740</td>\n",
       "      <td>3740</td>\n",
       "      <td>3740</td>\n",
       "      <td>0</td>\n",
       "      <td>3740</td>\n",
       "      <td>3740</td>\n",
       "    </tr>\n",
       "  </tbody>\n",
       "</table>\n",
       "<p>3 rows × 26 columns</p>\n",
       "</div>"
      ],
      "text/plain": [
       "            T14_pri  T14_sec  T23_pri  T23_sec     a    aR  b_pri  b_sec  \\\n",
       "population                                                                 \n",
       "BGEB            396      396      396      396   396   396    396    396   \n",
       "EB              528      528      528      528   528   528    528    528   \n",
       "Planet         3740     3740     3740     3740  3740  3740   3740   3740   \n",
       "\n",
       "            b_target  d_pri  ...    inc     k  n_pri  n_sec   occ  period  \\\n",
       "population                   ...                                            \n",
       "BGEB             396    396  ...    396   396    396    396   396     396   \n",
       "EB               528    528  ...    528   528    528    528   528     528   \n",
       "Planet          3740   3740  ...   3740  3740   3740   3740  3740    3740   \n",
       "\n",
       "            phase_sec  target_mag   tra     w  \n",
       "population                                     \n",
       "BGEB              396         396   396   396  \n",
       "EB                528           0   528   528  \n",
       "Planet           3740           0  3740  3740  \n",
       "\n",
       "[3 rows x 26 columns]"
      ]
     },
     "execution_count": 6,
     "metadata": {},
     "output_type": "execute_result"
    }
   ],
   "source": [
    "obs = pops.observe()\n",
    "print(len(obs))\n",
    "obs.groupby('population').count()"
   ]
  },
  {
   "cell_type": "code",
   "execution_count": 7,
   "metadata": {
    "collapsed": false
   },
   "outputs": [
    {
     "data": {
      "text/plain": [
       "0.023207944168063894"
      ]
     },
     "execution_count": 7,
     "metadata": {},
     "output_type": "execute_result"
    }
   ],
   "source": [
    "pops['BGEB'].rho_bg(10)"
   ]
  },
  {
   "cell_type": "code",
   "execution_count": 8,
   "metadata": {
    "collapsed": false
   },
   "outputs": [
    {
     "data": {
      "text/plain": [
       "0.17099759466766973"
      ]
     },
     "execution_count": 8,
     "metadata": {},
     "output_type": "execute_result"
    }
   ],
   "source": [
    "pops.set_params(rho_5=1)\n",
    "pops['BGEB'].rho_bg(10)"
   ]
  },
  {
   "cell_type": "code",
   "execution_count": 9,
   "metadata": {
    "collapsed": false
   },
   "outputs": [
    {
     "name": "stdout",
     "output_type": "stream",
     "text": [
      "6822\n"
     ]
    },
    {
     "data": {
      "text/html": [
       "<div>\n",
       "<table border=\"1\" class=\"dataframe\">\n",
       "  <thead>\n",
       "    <tr style=\"text-align: right;\">\n",
       "      <th></th>\n",
       "      <th>T14_pri</th>\n",
       "      <th>T14_sec</th>\n",
       "      <th>T23_pri</th>\n",
       "      <th>T23_sec</th>\n",
       "      <th>a</th>\n",
       "      <th>aR</th>\n",
       "      <th>b_pri</th>\n",
       "      <th>b_sec</th>\n",
       "      <th>b_target</th>\n",
       "      <th>d_pri</th>\n",
       "      <th>...</th>\n",
       "      <th>inc</th>\n",
       "      <th>k</th>\n",
       "      <th>n_pri</th>\n",
       "      <th>n_sec</th>\n",
       "      <th>occ</th>\n",
       "      <th>period</th>\n",
       "      <th>phase_sec</th>\n",
       "      <th>target_mag</th>\n",
       "      <th>tra</th>\n",
       "      <th>w</th>\n",
       "    </tr>\n",
       "    <tr>\n",
       "      <th>population</th>\n",
       "      <th></th>\n",
       "      <th></th>\n",
       "      <th></th>\n",
       "      <th></th>\n",
       "      <th></th>\n",
       "      <th></th>\n",
       "      <th></th>\n",
       "      <th></th>\n",
       "      <th></th>\n",
       "      <th></th>\n",
       "      <th></th>\n",
       "      <th></th>\n",
       "      <th></th>\n",
       "      <th></th>\n",
       "      <th></th>\n",
       "      <th></th>\n",
       "      <th></th>\n",
       "      <th></th>\n",
       "      <th></th>\n",
       "      <th></th>\n",
       "      <th></th>\n",
       "    </tr>\n",
       "  </thead>\n",
       "  <tbody>\n",
       "    <tr>\n",
       "      <th>BGEB</th>\n",
       "      <td>2635</td>\n",
       "      <td>2635</td>\n",
       "      <td>2635</td>\n",
       "      <td>2635</td>\n",
       "      <td>2635</td>\n",
       "      <td>2635</td>\n",
       "      <td>2635</td>\n",
       "      <td>2635</td>\n",
       "      <td>2635</td>\n",
       "      <td>2635</td>\n",
       "      <td>...</td>\n",
       "      <td>2635</td>\n",
       "      <td>2635</td>\n",
       "      <td>2635</td>\n",
       "      <td>2635</td>\n",
       "      <td>2635</td>\n",
       "      <td>2635</td>\n",
       "      <td>2635</td>\n",
       "      <td>2635</td>\n",
       "      <td>2635</td>\n",
       "      <td>2635</td>\n",
       "    </tr>\n",
       "    <tr>\n",
       "      <th>EB</th>\n",
       "      <td>515</td>\n",
       "      <td>515</td>\n",
       "      <td>515</td>\n",
       "      <td>515</td>\n",
       "      <td>515</td>\n",
       "      <td>515</td>\n",
       "      <td>515</td>\n",
       "      <td>515</td>\n",
       "      <td>515</td>\n",
       "      <td>515</td>\n",
       "      <td>...</td>\n",
       "      <td>515</td>\n",
       "      <td>515</td>\n",
       "      <td>515</td>\n",
       "      <td>515</td>\n",
       "      <td>515</td>\n",
       "      <td>515</td>\n",
       "      <td>515</td>\n",
       "      <td>0</td>\n",
       "      <td>515</td>\n",
       "      <td>515</td>\n",
       "    </tr>\n",
       "    <tr>\n",
       "      <th>Planet</th>\n",
       "      <td>3672</td>\n",
       "      <td>3672</td>\n",
       "      <td>3672</td>\n",
       "      <td>3672</td>\n",
       "      <td>3672</td>\n",
       "      <td>3672</td>\n",
       "      <td>3672</td>\n",
       "      <td>3672</td>\n",
       "      <td>3672</td>\n",
       "      <td>3672</td>\n",
       "      <td>...</td>\n",
       "      <td>3672</td>\n",
       "      <td>3672</td>\n",
       "      <td>3672</td>\n",
       "      <td>3672</td>\n",
       "      <td>3672</td>\n",
       "      <td>3672</td>\n",
       "      <td>3672</td>\n",
       "      <td>0</td>\n",
       "      <td>3672</td>\n",
       "      <td>3672</td>\n",
       "    </tr>\n",
       "  </tbody>\n",
       "</table>\n",
       "<p>3 rows × 26 columns</p>\n",
       "</div>"
      ],
      "text/plain": [
       "            T14_pri  T14_sec  T23_pri  T23_sec     a    aR  b_pri  b_sec  \\\n",
       "population                                                                 \n",
       "BGEB           2635     2635     2635     2635  2635  2635   2635   2635   \n",
       "EB              515      515      515      515   515   515    515    515   \n",
       "Planet         3672     3672     3672     3672  3672  3672   3672   3672   \n",
       "\n",
       "            b_target  d_pri  ...    inc     k  n_pri  n_sec   occ  period  \\\n",
       "population                   ...                                            \n",
       "BGEB            2635   2635  ...   2635  2635   2635   2635  2635    2635   \n",
       "EB               515    515  ...    515   515    515    515   515     515   \n",
       "Planet          3672   3672  ...   3672  3672   3672   3672  3672    3672   \n",
       "\n",
       "            phase_sec  target_mag   tra     w  \n",
       "population                                     \n",
       "BGEB             2635        2635  2635  2635  \n",
       "EB                515           0   515   515  \n",
       "Planet           3672           0  3672  3672  \n",
       "\n",
       "[3 rows x 26 columns]"
      ]
     },
     "execution_count": 9,
     "metadata": {},
     "output_type": "execute_result"
    }
   ],
   "source": [
    "obs = pops.observe()\n",
    "print(len(obs))\n",
    "obs.groupby('population').count()"
   ]
  },
  {
   "cell_type": "code",
   "execution_count": 10,
   "metadata": {
    "collapsed": false
   },
   "outputs": [
    {
     "name": "stdout",
     "output_type": "stream",
     "text": [
      "4569\n"
     ]
    },
    {
     "data": {
      "text/html": [
       "<div>\n",
       "<table border=\"1\" class=\"dataframe\">\n",
       "  <thead>\n",
       "    <tr style=\"text-align: right;\">\n",
       "      <th></th>\n",
       "      <th>T14_pri</th>\n",
       "      <th>T14_sec</th>\n",
       "      <th>T23_pri</th>\n",
       "      <th>T23_sec</th>\n",
       "      <th>a</th>\n",
       "      <th>aR</th>\n",
       "      <th>b_pri</th>\n",
       "      <th>b_sec</th>\n",
       "      <th>b_target</th>\n",
       "      <th>d_pri</th>\n",
       "      <th>...</th>\n",
       "      <th>inc</th>\n",
       "      <th>k</th>\n",
       "      <th>n_pri</th>\n",
       "      <th>n_sec</th>\n",
       "      <th>occ</th>\n",
       "      <th>period</th>\n",
       "      <th>phase_sec</th>\n",
       "      <th>target_mag</th>\n",
       "      <th>tra</th>\n",
       "      <th>w</th>\n",
       "    </tr>\n",
       "    <tr>\n",
       "      <th>population</th>\n",
       "      <th></th>\n",
       "      <th></th>\n",
       "      <th></th>\n",
       "      <th></th>\n",
       "      <th></th>\n",
       "      <th></th>\n",
       "      <th></th>\n",
       "      <th></th>\n",
       "      <th></th>\n",
       "      <th></th>\n",
       "      <th></th>\n",
       "      <th></th>\n",
       "      <th></th>\n",
       "      <th></th>\n",
       "      <th></th>\n",
       "      <th></th>\n",
       "      <th></th>\n",
       "      <th></th>\n",
       "      <th></th>\n",
       "      <th></th>\n",
       "      <th></th>\n",
       "    </tr>\n",
       "  </thead>\n",
       "  <tbody>\n",
       "    <tr>\n",
       "      <th>BGEB</th>\n",
       "      <td>375</td>\n",
       "      <td>375</td>\n",
       "      <td>375</td>\n",
       "      <td>375</td>\n",
       "      <td>375</td>\n",
       "      <td>375</td>\n",
       "      <td>375</td>\n",
       "      <td>375</td>\n",
       "      <td>375</td>\n",
       "      <td>375</td>\n",
       "      <td>...</td>\n",
       "      <td>375</td>\n",
       "      <td>375</td>\n",
       "      <td>375</td>\n",
       "      <td>375</td>\n",
       "      <td>375</td>\n",
       "      <td>375</td>\n",
       "      <td>375</td>\n",
       "      <td>375</td>\n",
       "      <td>375</td>\n",
       "      <td>375</td>\n",
       "    </tr>\n",
       "    <tr>\n",
       "      <th>EB</th>\n",
       "      <td>538</td>\n",
       "      <td>538</td>\n",
       "      <td>538</td>\n",
       "      <td>538</td>\n",
       "      <td>538</td>\n",
       "      <td>538</td>\n",
       "      <td>538</td>\n",
       "      <td>538</td>\n",
       "      <td>538</td>\n",
       "      <td>538</td>\n",
       "      <td>...</td>\n",
       "      <td>538</td>\n",
       "      <td>538</td>\n",
       "      <td>538</td>\n",
       "      <td>538</td>\n",
       "      <td>538</td>\n",
       "      <td>538</td>\n",
       "      <td>538</td>\n",
       "      <td>0</td>\n",
       "      <td>538</td>\n",
       "      <td>538</td>\n",
       "    </tr>\n",
       "    <tr>\n",
       "      <th>Planet</th>\n",
       "      <td>3656</td>\n",
       "      <td>3656</td>\n",
       "      <td>3656</td>\n",
       "      <td>3656</td>\n",
       "      <td>3656</td>\n",
       "      <td>3656</td>\n",
       "      <td>3656</td>\n",
       "      <td>3656</td>\n",
       "      <td>3656</td>\n",
       "      <td>3656</td>\n",
       "      <td>...</td>\n",
       "      <td>3656</td>\n",
       "      <td>3656</td>\n",
       "      <td>3656</td>\n",
       "      <td>3656</td>\n",
       "      <td>3656</td>\n",
       "      <td>3656</td>\n",
       "      <td>3656</td>\n",
       "      <td>0</td>\n",
       "      <td>3656</td>\n",
       "      <td>3656</td>\n",
       "    </tr>\n",
       "  </tbody>\n",
       "</table>\n",
       "<p>3 rows × 26 columns</p>\n",
       "</div>"
      ],
      "text/plain": [
       "            T14_pri  T14_sec  T23_pri  T23_sec     a    aR  b_pri  b_sec  \\\n",
       "population                                                                 \n",
       "BGEB            375      375      375      375   375   375    375    375   \n",
       "EB              538      538      538      538   538   538    538    538   \n",
       "Planet         3656     3656     3656     3656  3656  3656   3656   3656   \n",
       "\n",
       "            b_target  d_pri  ...    inc     k  n_pri  n_sec   occ  period  \\\n",
       "population                   ...                                            \n",
       "BGEB             375    375  ...    375   375    375    375   375     375   \n",
       "EB               538    538  ...    538   538    538    538   538     538   \n",
       "Planet          3656   3656  ...   3656  3656   3656   3656  3656    3656   \n",
       "\n",
       "            phase_sec  target_mag   tra     w  \n",
       "population                                     \n",
       "BGEB              375         375   375   375  \n",
       "EB                538           0   538   538  \n",
       "Planet           3656           0  3656  3656  \n",
       "\n",
       "[3 rows x 26 columns]"
      ]
     },
     "execution_count": 10,
     "metadata": {},
     "output_type": "execute_result"
    }
   ],
   "source": [
    "pops.reset_params()\n",
    "obs = pops.observe()\n",
    "print(len(obs))\n",
    "obs.groupby('population').count()"
   ]
  },
  {
   "cell_type": "code",
   "execution_count": null,
   "metadata": {
    "collapsed": true
   },
   "outputs": [],
   "source": []
  }
 ],
 "metadata": {
  "kernelspec": {
   "display_name": "Python 2",
   "language": "python",
   "name": "python2"
  },
  "language_info": {
   "codemirror_mode": {
    "name": "ipython",
    "version": 2
   },
   "file_extension": ".py",
   "mimetype": "text/x-python",
   "name": "python",
   "nbconvert_exporter": "python",
   "pygments_lexer": "ipython2",
   "version": "2.7.11"
  }
 },
 "nbformat": 4,
 "nbformat_minor": 0
}
