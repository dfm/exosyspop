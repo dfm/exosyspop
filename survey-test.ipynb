{
 "cells": [
  {
   "cell_type": "markdown",
   "metadata": {},
   "source": [
    "From Christiansen+ (2015), the gamma CDF is defined (Equation 1) as:\n",
    "\n",
    "$$F(x\\,|\\,a,b) = \\frac{1}{b^a \\Gamma(a)} \\int_0^x t^{a-1} e^{-t/b}\\,dt$$\n",
    "\n",
    "Scipy defines the [incomplete gamma function](http://docs.scipy.org/doc/scipy/reference/generated/scipy.special.gammainc.html#scipy.special.gammainc) as follows:\n",
    "\n",
    "$$\\gamma(a, x) = \\frac{1}{\\Gamma(a)} \\int_0^x e^{-t} t^{a-1}\\,dt$$\n",
    "\n",
    "These are almost the same.  Substitute $u = t/b$ into the Christiansen+ function:\n",
    "\n",
    "$$F(x\\,|\\,a,b) = \\frac{1}{b^a \\Gamma(a)} \\int_0^{x/b} (bu)^{a-1} e^{-u}b\\,du$$ \n",
    "$$F(x\\,|\\,a,b) = \\frac{1}{b^a \\Gamma(a)} b^{a-1}b \\int_0^{x/b} u^{a-1} e^{-u}\\,du$$ \n",
    "$$F(x\\,|\\,a,b) = \\frac{1}{\\Gamma(a)} \\int_0^{x/b} e^{-u} u^{a-1}\\,du = \\gamma(a, x/b)$$\n",
    "\n",
    "This matches up with the Wikipedia definition of the gamma function CDF with $a \\rightarrow k$ and $b \\rightarrow \\theta$.\n",
    "\n",
    "So this should be how to evaluate the gamma CDF from Christiansen+:"
   ]
  },
  {
   "cell_type": "code",
   "execution_count": 3,
   "metadata": {
    "collapsed": false
   },
   "outputs": [],
   "source": [
    "from scipy.special import gammainc \n",
    "\n",
    "def gamma_cdf(x, a, b, c):\n",
    "    return gammainc(a, (x-c)/b)"
   ]
  },
  {
   "cell_type": "code",
   "execution_count": 5,
   "metadata": {
    "collapsed": false,
    "scrolled": true
   },
   "outputs": [
    {
     "data": {
      "image/png": "[encoded data removed]",
      "text/plain": [
       "<matplotlib.figure.Figure at 0x7f62ae958450>"
      ]
     },
     "metadata": {},
     "output_type": "display_data"
    }
   ],
   "source": [
    "%matplotlib inline\n",
    "import numpy as np\n",
    "import matplotlib.pyplot as plt\n",
    "\n",
    "a, b, c = 4.35, 1.05, 4.1 #params from paper.  4.1 priv. comm. from Christiansen\n",
    "\n",
    "snr = np.arange(0, 20, 0.1)\n",
    "plt.plot(snr, gamma_cdf(snr, a, b, c));"
   ]
  },
  {
   "cell_type": "markdown",
   "metadata": {},
   "source": [
    "But this is very different from what is in the paper (e.g. Figure 3).  What's going on?"
   ]
  }
 ],
 "metadata": {
  "kernelspec": {
   "display_name": "Python 2",
   "language": "python",
   "name": "python2"
  },
  "language_info": {
   "codemirror_mode": {
    "name": "ipython",
    "version": 2
   },
   "file_extension": ".py",
   "mimetype": "text/x-python",
   "name": "python",
   "nbconvert_exporter": "python",
   "pygments_lexer": "ipython2",
   "version": "2.7.11"
  }
 },
 "nbformat": 4,
 "nbformat_minor": 0
}
