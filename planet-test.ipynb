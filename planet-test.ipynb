{
 "cells": [
  {
   "cell_type": "code",
   "execution_count": 1,
   "metadata": {
    "collapsed": false
   },
   "outputs": [
    {
     "name": "stderr",
     "output_type": "stream",
     "text": [
      "WARNING:root:progressbar not imported\n"
     ]
    }
   ],
   "source": [
    "import pandas as pd\n",
    "from exosyspop.populations import PoissonPlanetPopulation\n",
    "\n",
    "targets = pd.read_hdf('targets.h5')\n",
    "pop = PoissonPlanetPopulation(targets)\n",
    "\n",
    "import logging\n",
    "rootLogger = logging.getLogger()\n",
    "rootLogger.setLevel(logging.DEBUG)"
   ]
  },
  {
   "cell_type": "code",
   "execution_count": 2,
   "metadata": {
    "collapsed": true
   },
   "outputs": [],
   "source": [
    "pop = PoissonPlanetPopulation(targets)"
   ]
  },
  {
   "cell_type": "code",
   "execution_count": 3,
   "metadata": {
    "collapsed": false
   },
   "outputs": [
    {
     "name": "stderr",
     "output_type": "stream",
     "text": [
      "DEBUG:root:Accessing tra, generating orbits.\n",
      "DEBUG:root:Accessing mass_B, generating binaries.\n",
      "DEBUG:root:Generating planetary companions for 39626 stars...\n",
      "DEBUG:root:159080 planets generated.\n",
      "DEBUG:root:Generating 159080 orbits...\n",
      "DEBUG:root:28 orbits assigned to ecc=rayleigh(0.03)\n",
      "DEBUG:root:0 orbits assigned to ecc=0\n"
     ]
    },
    {
     "data": {
      "text/plain": [
       "Index([u'host', u'period', u'ecc', u'w', u'inc', u'a', u'aR', u'b_pri',\n",
       "       u'b_sec', u'k', u'tra', u'occ', u'd_pri', u'd_sec', u'T14_pri',\n",
       "       u'T14_sec', u'T23_pri', u'T23_sec', u'dataspan', u'dutycycle',\n",
       "       u'flux_ratio', u'n_pri', u'n_sec', u'phase_sec'],\n",
       "      dtype='object')"
      ]
     },
     "execution_count": 3,
     "metadata": {},
     "output_type": "execute_result"
    }
   ],
   "source": [
    "obs = pop.observe()\n",
    "obs.columns"
   ]
  },
  {
   "cell_type": "code",
   "execution_count": 24,
   "metadata": {
    "collapsed": false
   },
   "outputs": [
    {
     "name": "stdout",
     "output_type": "stream",
     "text": [
      "Depth trained: R2=0.99886344228\n",
      "Duration trained: R2=0.999010419536\n",
      "Slope trained: R2=0.990906433963\n"
     ]
    }
   ],
   "source": [
    "rootLogger.setLevel(logging.INFO)\n",
    "obs = pop.observe(regr_trap=True)"
   ]
  },
  {
   "cell_type": "code",
   "execution_count": 5,
   "metadata": {
    "collapsed": false
   },
   "outputs": [
    {
     "name": "stderr",
     "output_type": "stream",
     "text": [
      "DEBUG:root:Accessing tra, generating orbits.\n",
      "DEBUG:root:Accessing mass_B, generating binaries.\n",
      "DEBUG:root:Generating planetary companions for 39626 stars...\n",
      "DEBUG:root:158096 planets generated.\n",
      "DEBUG:root:Generating orbits for 158096 stars...\n",
      "DEBUG:root:31 orbits assigned to ecc=rayleigh(0.03)\n",
      "DEBUG:root:0 orbits assigned to ecc=0\n"
     ]
    }
   ],
   "source": [
    "pop.set_params(N_pl=4)\n",
    "obs = pop.observe()"
   ]
  },
  {
   "cell_type": "code",
   "execution_count": 14,
   "metadata": {
    "collapsed": false
   },
   "outputs": [
    {
     "name": "stderr",
     "output_type": "stream",
     "text": [
      "DEBUG:root:Generating orbits for 158430 stars...\n",
      "DEBUG:root:38 orbits assigned to ecc=rayleigh(0.03)\n",
      "DEBUG:root:0 orbits assigned to ecc=0\n"
     ]
    },
    {
     "name": "stdout",
     "output_type": "stream",
     "text": [
      " "
     ]
    }
   ],
   "source": [
    "%prun pop._generate_orbits()"
   ]
  },
  {
   "cell_type": "code",
   "execution_count": 5,
   "metadata": {
    "collapsed": true
   },
   "outputs": [],
   "source": [
    "q = pop.mass_A/pop.mass_B"
   ]
  },
  {
   "cell_type": "code",
   "execution_count": 6,
   "metadata": {
    "collapsed": true
   },
   "outputs": [],
   "source": [
    "from exosyspop.utils import rochelobe"
   ]
  },
  {
   "cell_type": "code",
   "execution_count": 9,
   "metadata": {
    "collapsed": false
   },
   "outputs": [
    {
     "name": "stdout",
     "output_type": "stream",
     "text": [
      "10 loops, best of 3: 46.5 ms per loop\n"
     ]
    }
   ],
   "source": [
    "%timeit rochelobe(q)"
   ]
  },
  {
   "cell_type": "code",
   "execution_count": null,
   "metadata": {
    "collapsed": false
   },
   "outputs": [],
   "source": [
    "%prun pop.observe(regr_trap=True, new=True)"
   ]
  },
  {
   "cell_type": "code",
   "execution_count": 24,
   "metadata": {
    "collapsed": false
   },
   "outputs": [],
   "source": [
    "import numpy as np\n",
    "import pandas as pd\n",
    "\n",
    "x = np.random.random(len(pop.stars))"
   ]
  },
  {
   "cell_type": "code",
   "execution_count": 27,
   "metadata": {
    "collapsed": false
   },
   "outputs": [
    {
     "name": "stdout",
     "output_type": "stream",
     "text": [
      "100 loops, best of 3: 15.3 ms per loop\n"
     ]
    }
   ],
   "source": [
    "m = x < 0.02 \n",
    "%timeit pop.stars.loc[m].copy()"
   ]
  },
  {
   "cell_type": "code",
   "execution_count": 21,
   "metadata": {
    "collapsed": false
   },
   "outputs": [
    {
     "data": {
      "text/plain": [
       "158311"
      ]
     },
     "execution_count": 21,
     "metadata": {},
     "output_type": "execute_result"
    }
   ],
   "source": [
    "len(pop.stars)"
   ]
  },
  {
   "cell_type": "code",
   "execution_count": null,
   "metadata": {
    "collapsed": true
   },
   "outputs": [],
   "source": []
  }
 ],
 "metadata": {
  "kernelspec": {
   "display_name": "Python 2",
   "language": "python",
   "name": "python2"
  },
  "language_info": {
   "codemirror_mode": {
    "name": "ipython",
    "version": 2
   },
   "file_extension": ".py",
   "mimetype": "text/x-python",
   "name": "python",
   "nbconvert_exporter": "python",
   "pygments_lexer": "ipython2",
   "version": "2.7.11"
  }
 },
 "nbformat": 4,
 "nbformat_minor": 0
}
